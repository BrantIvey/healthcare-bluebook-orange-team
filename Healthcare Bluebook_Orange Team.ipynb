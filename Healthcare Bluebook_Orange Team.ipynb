{
 "cells": [
  {
   "cell_type": "markdown",
   "metadata": {},
   "source": [
    "Data from:\n",
    "\n",
    "Physician & Other Supplier Payments - Detailed Data\n",
    "https://www.cms.gov/Research-Statistics-Data-and-Systems/Statistics-Trends-and-Reports/Medicare-Provider-Charge-Data/Physician-and-Other-Supplier2017\n",
    "\n",
    "Hospital Outpatient - Detailed Data\n",
    "https://www.cms.gov/Research-Statistics-Data-and-Systems/Statistics-Trends-and-Reports/Medicare-Provider-Charge-Data/Outpatient\n",
    "\n",
    "APC to CPT/HCPCS crosswalk - Addendum B – January 2020\n",
    "https://www.cms.gov/Medicare/Medicare-Fee-for-Service-Payment/HospitalOutpatientPPS/Addendum-A-and-Addendum-B-Updates\n",
    "\n",
    "Zip Code to CBSA\n",
    "https://www.huduser.gov/portal/datasets/usps_crosswalk.html![image.png](attachment:image.png)"
   ]
  },
  {
   "cell_type": "code",
   "execution_count": 1,
   "metadata": {},
   "outputs": [],
   "source": [
    "import pandas as pd\n",
    "import numpy as np\n",
    "import matplotlib.pyplot as plt\n",
    "import seaborn as sns"
   ]
  },
  {
   "cell_type": "code",
   "execution_count": 2,
   "metadata": {},
   "outputs": [],
   "source": [
    "%matplotlib inline"
   ]
  },
  {
   "cell_type": "code",
   "execution_count": 3,
   "metadata": {},
   "outputs": [],
   "source": [
    "pd.options.display.max_columns = 25"
   ]
  },
  {
   "cell_type": "code",
   "execution_count": 4,
   "metadata": {},
   "outputs": [],
   "source": [
    "pd.options.display.max_rows = 25"
   ]
  },
  {
   "cell_type": "code",
   "execution_count": 5,
   "metadata": {
    "scrolled": true
   },
   "outputs": [],
   "source": [
    "# Reading in the CBSA to ZIP code crosswalk\n",
    "\n",
    "cbsa_to_zip = pd.read_excel('CBSA_ZIP_032020.xlsx', \n",
    "                            usecols = ['CBSA', 'ZIP'],\n",
    "                            dtypes={'ZIP':'str'})"
   ]
  },
  {
   "cell_type": "code",
   "execution_count": 6,
   "metadata": {
    "scrolled": true
   },
   "outputs": [],
   "source": [
    "#Reading in HCPCS to APC crosswalk with Short Descriptor column\n",
    "\n",
    "hcpcs_to_apc = pd.read_excel('2020_january_web_addendum_b.12312019.xlsx', header = 2, usecols = ['HCPCS Code', 'Short Descriptor', 'APC '])"
   ]
  },
  {
   "cell_type": "code",
   "execution_count": 7,
   "metadata": {
    "scrolled": true
   },
   "outputs": [],
   "source": [
    "#Reading in the Physician & Other Supplier Payments while discarding some columns\n",
    "\n",
    "phys_other_payments = pd.read_csv('Medicare_Provider_Util_Payment_PUF_CY2017.txt', \n",
    "    sep='\\t', \n",
    "    skiprows = [1], \n",
    "    usecols = lambda column : column not in ['average_submitted_chrg_amt', 'average_Medicare_payment_amt', 'average_Medicare_standard_amt', 'hcpcs_drug_indicator', 'medicare_participation_indicator'], \n",
    "    dtype = {'nppes_provider_zip':'str'},\n",
    "    low_memory=False)"
   ]
  },
  {
   "cell_type": "code",
   "execution_count": 8,
   "metadata": {},
   "outputs": [],
   "source": [
    "# Reading in the Hospital Outpatient while discarding some columns\n",
    "\n",
    "column_exclude_list = ['Outlier\\nComprehensive\\nAPC\\nServices', 'Average\\nMedicare\\nOutlier\\nAmount', 'Average\\nEstimated\\nTotal\\nSubmitted\\nCharges', 'Average\\nMedicare\\nPayment\\nAmount']\n",
    "\n",
    "hosp_payments = pd.read_excel('MUP_OHP_R19_P04_V10_D17_APC_Provider.xlsx', \n",
    "                              header = 5, \n",
    "                              usecols = lambda column : column not in column_exclude_list)"
   ]
  },
  {
   "cell_type": "code",
   "execution_count": 9,
   "metadata": {},
   "outputs": [],
   "source": [
    "hcpcs_to_apc.columns = ['hcpcs', 'descriptor', 'apc']"
   ]
  },
  {
   "cell_type": "code",
   "execution_count": 10,
   "metadata": {},
   "outputs": [],
   "source": [
    "cbsa_to_zip.columns = ['cbsa', 'zip']"
   ]
  },
  {
   "cell_type": "code",
   "execution_count": 11,
   "metadata": {
    "scrolled": true
   },
   "outputs": [],
   "source": [
    "phys_other_payments.columns = ['npi', 'last_org_name', 'first_name', 'mi', 'creds', 'gender', 'entity', 'street1', 'street2' , 'city', 'zip','state', 'country', 'provider_type', 'service_loc', 'hcpcs', 'description', 'services_cnt', 'benefic_cnt', 'benefic_d_cnt', 'avg_medi_allowed_amt']"
   ]
  },
  {
   "cell_type": "code",
   "execution_count": 12,
   "metadata": {},
   "outputs": [],
   "source": [
    "hosp_payments.columns = ['provider_id', 'provider_name', 'street', 'city', 'state', 'zip', 'region', 'apc', 'description', 'benefic_cnt', 'services_cnt', 'avg_medi_allowed_amt']"
   ]
  },
  {
   "cell_type": "code",
   "execution_count": 13,
   "metadata": {
    "scrolled": true
   },
   "outputs": [],
   "source": [
    "# Dropping non US\n",
    "\n",
    "phys_other_payments = phys_other_payments[phys_other_payments.country == 'US']"
   ]
  },
  {
   "cell_type": "code",
   "execution_count": 14,
   "metadata": {},
   "outputs": [],
   "source": [
    "# Making a dataframe with only office entities to compare with the Hospital Data.\n",
    "\n",
    "phys_other_payments = phys_other_payments[phys_other_payments['entity'] == 'O']"
   ]
  },
  {
   "cell_type": "code",
   "execution_count": 15,
   "metadata": {},
   "outputs": [],
   "source": [
    "phys_other_payments = phys_other_payments[phys_other_payments['provider_type'] == 'Ambulatory Surgical Center']"
   ]
  },
  {
   "cell_type": "code",
   "execution_count": 16,
   "metadata": {
    "scrolled": false
   },
   "outputs": [],
   "source": [
    "phys_other_payments['zip'] = phys_other_payments['zip'].str[:5]"
   ]
  },
  {
   "cell_type": "code",
   "execution_count": 17,
   "metadata": {},
   "outputs": [],
   "source": [
    "# Putting leading zero back on zips\n",
    "\n",
    "cbsa_to_zip['zip'] = cbsa_to_zip['zip'].apply(lambda x: '{0:0>5}'.format(x))"
   ]
  },
  {
   "cell_type": "code",
   "execution_count": 18,
   "metadata": {
    "scrolled": false
   },
   "outputs": [],
   "source": [
    "# Merging CBSA to Zip in physcian billing data\n",
    "\n",
    "phys_asc_cbsa = pd.merge(phys_other_payments, cbsa_to_zip, how='left', on = ['zip'])\n",
    "\n",
    "del phys_other_payments"
   ]
  },
  {
   "cell_type": "code",
   "execution_count": 19,
   "metadata": {},
   "outputs": [],
   "source": [
    "# Dropping NaN values in the apc column of hcpcs to apc crosswalk\n",
    "\n",
    "hcpcs_to_apc = hcpcs_to_apc.dropna(subset=['apc'])"
   ]
  },
  {
   "cell_type": "code",
   "execution_count": 20,
   "metadata": {},
   "outputs": [],
   "source": [
    "# Putting leading zero back on zips\n",
    "\n",
    "hosp_payments['zip'] = hosp_payments['zip'].apply(lambda x: '{0:0>5}'.format(x))"
   ]
  },
  {
   "cell_type": "code",
   "execution_count": 21,
   "metadata": {},
   "outputs": [],
   "source": [
    "# Adding matching APC code to HCPCS in the office dataframe, keeping only rows that have an apc match\n",
    "\n",
    "phys_asc_apc = pd.merge(phys_asc_cbsa, hcpcs_to_apc, how = 'inner', on = ['hcpcs'])\n",
    "\n",
    "del phys_asc_cbsa"
   ]
  },
  {
   "cell_type": "code",
   "execution_count": 22,
   "metadata": {},
   "outputs": [],
   "source": [
    "phys_apc_data = phys_asc_apc.drop(['first_name', 'mi', 'creds', 'gender'], axis = 1)\n",
    "\n",
    "del phys_asc_apc"
   ]
  },
  {
   "cell_type": "code",
   "execution_count": 23,
   "metadata": {},
   "outputs": [],
   "source": [
    "# Adding CBSA column to hospital data, keeping only rows with a CBSA\n",
    "\n",
    "hosp_payments_cbsa = pd.merge(hosp_payments, cbsa_to_zip, how = 'inner', on = ['zip'])\n",
    "\n",
    "del hosp_payments"
   ]
  },
  {
   "cell_type": "code",
   "execution_count": 24,
   "metadata": {},
   "outputs": [],
   "source": [
    "cbsa_to_region = hosp_payments_cbsa.loc[:,['region', 'cbsa']]"
   ]
  },
  {
   "cell_type": "code",
   "execution_count": 25,
   "metadata": {},
   "outputs": [],
   "source": [
    "cbsa_to_region = cbsa_to_region.drop_duplicates(subset=['cbsa'])"
   ]
  },
  {
   "cell_type": "code",
   "execution_count": 26,
   "metadata": {},
   "outputs": [],
   "source": [
    "apc_to_description = hosp_payments_cbsa.loc[:, ['apc', 'description']]"
   ]
  },
  {
   "cell_type": "code",
   "execution_count": 27,
   "metadata": {},
   "outputs": [],
   "source": [
    "apc_to_description = apc_to_description.drop_duplicates(subset=['apc'])"
   ]
  },
  {
   "cell_type": "code",
   "execution_count": 28,
   "metadata": {},
   "outputs": [],
   "source": [
    "list = []\n",
    "\n",
    "for cbsa in hosp_payments_cbsa['cbsa'].unique():\n",
    "    for apc in hosp_payments_cbsa['apc'].unique():\n",
    "        selection = hosp_payments_cbsa[(hosp_payments_cbsa['cbsa'] == cbsa) & (hosp_payments_cbsa['apc'] == apc)]\n",
    "        max_value = round(selection.avg_medi_allowed_amt.max(), 2)\n",
    "        avg_value = round(selection.avg_medi_allowed_amt.mean(), 2)\n",
    "        min_value = round(selection.avg_medi_allowed_amt.min(), 2)\n",
    "        list.append([cbsa, apc, max_value, avg_value, min_value])"
   ]
  },
  {
   "cell_type": "code",
   "execution_count": 29,
   "metadata": {},
   "outputs": [],
   "source": [
    "list_df = pd.DataFrame(list)\n",
    "\n",
    "del list"
   ]
  },
  {
   "cell_type": "code",
   "execution_count": 30,
   "metadata": {},
   "outputs": [],
   "source": [
    "list_df.columns = ['cbsa','apc', 'hosp_max', 'hosp_avg', 'hosp_min']"
   ]
  },
  {
   "cell_type": "code",
   "execution_count": 31,
   "metadata": {},
   "outputs": [],
   "source": [
    "list_df_region = pd.merge(list_df, cbsa_to_region, how='left', on = ['cbsa'])\n",
    "\n",
    "del list_df"
   ]
  },
  {
   "cell_type": "code",
   "execution_count": 32,
   "metadata": {},
   "outputs": [],
   "source": [
    "hosp_table = pd.merge(list_df_region, apc_to_description, how='left', on=['apc'])\n",
    "\n",
    "del list_df_region"
   ]
  },
  {
   "cell_type": "code",
   "execution_count": 33,
   "metadata": {},
   "outputs": [],
   "source": [
    "hosp_table = hosp_table.dropna(subset=['hosp_avg'])"
   ]
  },
  {
   "cell_type": "code",
   "execution_count": 34,
   "metadata": {},
   "outputs": [],
   "source": [
    "phys_apc_data = phys_apc_data.dropna(subset=['cbsa'])"
   ]
  },
  {
   "cell_type": "code",
   "execution_count": 35,
   "metadata": {
    "scrolled": false
   },
   "outputs": [],
   "source": [
    "phys_apc_data['cbsa'] = phys_apc_data['cbsa'].astype('int')"
   ]
  },
  {
   "cell_type": "code",
   "execution_count": 36,
   "metadata": {},
   "outputs": [],
   "source": [
    "phys_apc_data['apc'] = phys_apc_data['apc'].astype('int')"
   ]
  },
  {
   "cell_type": "code",
   "execution_count": 37,
   "metadata": {},
   "outputs": [],
   "source": [
    "# Getting all the unique apc's that are in the hospital table\n",
    "\n",
    "hosp_apc_list = hosp_table['apc'].unique()"
   ]
  },
  {
   "cell_type": "code",
   "execution_count": 38,
   "metadata": {},
   "outputs": [],
   "source": [
    "# Narrowing the Ambulatory Surgical Center table down to rows that have an apc that is in the hosp table\n",
    "\n",
    "phys_apc_data = phys_apc_data[phys_apc_data['apc'].isin(hosp_apc_list)]"
   ]
  },
  {
   "cell_type": "code",
   "execution_count": 39,
   "metadata": {},
   "outputs": [],
   "source": [
    "phys_apc_data = phys_apc_data[phys_apc_data['cbsa'].isin(hosp_table['cbsa'].unique())]"
   ]
  },
  {
   "cell_type": "code",
   "execution_count": 40,
   "metadata": {},
   "outputs": [],
   "source": [
    "phys_testing = phys_apc_data.loc[:, ['hcpcs', 'avg_medi_allowed_amt', 'cbsa']]"
   ]
  },
  {
   "cell_type": "code",
   "execution_count": 41,
   "metadata": {},
   "outputs": [],
   "source": [
    "list2 = []\n",
    "\n",
    "for cbsa in phys_testing['cbsa'].unique():\n",
    "    for hcpcs in phys_testing['hcpcs'].unique():\n",
    "        selection = phys_testing[(phys_testing['cbsa'] == cbsa) & (phys_testing['hcpcs'] == hcpcs)]\n",
    "        max_value = round(selection.avg_medi_allowed_amt.max(), 2)\n",
    "        avg_value = round(selection.avg_medi_allowed_amt.mean(), 2)\n",
    "        min_value = round(selection.avg_medi_allowed_amt.min(), 2)\n",
    "        list2.append([cbsa, hcpcs, max_value, avg_value, min_value])"
   ]
  },
  {
   "cell_type": "code",
   "execution_count": 42,
   "metadata": {},
   "outputs": [],
   "source": [
    "list2_df = pd.DataFrame(list2)\n",
    "\n",
    "del list2"
   ]
  },
  {
   "cell_type": "code",
   "execution_count": 43,
   "metadata": {},
   "outputs": [],
   "source": [
    "list2_df.columns = ['cbsa','hcpcs', 'office_max', 'office_avg', 'office_min']"
   ]
  },
  {
   "cell_type": "code",
   "execution_count": 44,
   "metadata": {},
   "outputs": [
    {
     "data": {
      "text/html": [
       "<div>\n",
       "<style scoped>\n",
       "    .dataframe tbody tr th:only-of-type {\n",
       "        vertical-align: middle;\n",
       "    }\n",
       "\n",
       "    .dataframe tbody tr th {\n",
       "        vertical-align: top;\n",
       "    }\n",
       "\n",
       "    .dataframe thead th {\n",
       "        text-align: right;\n",
       "    }\n",
       "</style>\n",
       "<table border=\"1\" class=\"dataframe\">\n",
       "  <thead>\n",
       "    <tr style=\"text-align: right;\">\n",
       "      <th></th>\n",
       "      <th>cbsa</th>\n",
       "      <th>hcpcs</th>\n",
       "      <th>office_max</th>\n",
       "      <th>office_avg</th>\n",
       "      <th>office_min</th>\n",
       "    </tr>\n",
       "  </thead>\n",
       "  <tbody>\n",
       "    <tr>\n",
       "      <th>0</th>\n",
       "      <td>46700</td>\n",
       "      <td>0191T</td>\n",
       "      <td>3549.09</td>\n",
       "      <td>3295.66</td>\n",
       "      <td>3042.24</td>\n",
       "    </tr>\n",
       "    <tr>\n",
       "      <th>1</th>\n",
       "      <td>46700</td>\n",
       "      <td>29823</td>\n",
       "      <td>837.13</td>\n",
       "      <td>837.13</td>\n",
       "      <td>837.13</td>\n",
       "    </tr>\n",
       "    <tr>\n",
       "      <th>2</th>\n",
       "      <td>46700</td>\n",
       "      <td>29824</td>\n",
       "      <td>1231.07</td>\n",
       "      <td>1123.79</td>\n",
       "      <td>1016.51</td>\n",
       "    </tr>\n",
       "    <tr>\n",
       "      <th>3</th>\n",
       "      <td>46700</td>\n",
       "      <td>29827</td>\n",
       "      <td>3391.40</td>\n",
       "      <td>3313.28</td>\n",
       "      <td>3235.16</td>\n",
       "    </tr>\n",
       "    <tr>\n",
       "      <th>4</th>\n",
       "      <td>46700</td>\n",
       "      <td>29880</td>\n",
       "      <td>1674.25</td>\n",
       "      <td>1657.51</td>\n",
       "      <td>1640.77</td>\n",
       "    </tr>\n",
       "    <tr>\n",
       "      <th>...</th>\n",
       "      <td>...</td>\n",
       "      <td>...</td>\n",
       "      <td>...</td>\n",
       "      <td>...</td>\n",
       "      <td>...</td>\n",
       "    </tr>\n",
       "    <tr>\n",
       "      <th>347163</th>\n",
       "      <td>47080</td>\n",
       "      <td>60240</td>\n",
       "      <td>NaN</td>\n",
       "      <td>NaN</td>\n",
       "      <td>NaN</td>\n",
       "    </tr>\n",
       "    <tr>\n",
       "      <th>347164</th>\n",
       "      <td>47080</td>\n",
       "      <td>25075</td>\n",
       "      <td>NaN</td>\n",
       "      <td>NaN</td>\n",
       "      <td>NaN</td>\n",
       "    </tr>\n",
       "    <tr>\n",
       "      <th>347165</th>\n",
       "      <td>47080</td>\n",
       "      <td>29845</td>\n",
       "      <td>NaN</td>\n",
       "      <td>NaN</td>\n",
       "      <td>NaN</td>\n",
       "    </tr>\n",
       "    <tr>\n",
       "      <th>347166</th>\n",
       "      <td>47080</td>\n",
       "      <td>64910</td>\n",
       "      <td>NaN</td>\n",
       "      <td>NaN</td>\n",
       "      <td>NaN</td>\n",
       "    </tr>\n",
       "    <tr>\n",
       "      <th>347167</th>\n",
       "      <td>47080</td>\n",
       "      <td>32550</td>\n",
       "      <td>NaN</td>\n",
       "      <td>NaN</td>\n",
       "      <td>NaN</td>\n",
       "    </tr>\n",
       "  </tbody>\n",
       "</table>\n",
       "<p>347168 rows × 5 columns</p>\n",
       "</div>"
      ],
      "text/plain": [
       "         cbsa  hcpcs  office_max  office_avg  office_min\n",
       "0       46700  0191T     3549.09     3295.66     3042.24\n",
       "1       46700  29823      837.13      837.13      837.13\n",
       "2       46700  29824     1231.07     1123.79     1016.51\n",
       "3       46700  29827     3391.40     3313.28     3235.16\n",
       "4       46700  29880     1674.25     1657.51     1640.77\n",
       "...       ...    ...         ...         ...         ...\n",
       "347163  47080  60240         NaN         NaN         NaN\n",
       "347164  47080  25075         NaN         NaN         NaN\n",
       "347165  47080  29845         NaN         NaN         NaN\n",
       "347166  47080  64910         NaN         NaN         NaN\n",
       "347167  47080  32550         NaN         NaN         NaN\n",
       "\n",
       "[347168 rows x 5 columns]"
      ]
     },
     "execution_count": 44,
     "metadata": {},
     "output_type": "execute_result"
    }
   ],
   "source": [
    "list2_df"
   ]
  },
  {
   "cell_type": "code",
   "execution_count": 45,
   "metadata": {},
   "outputs": [],
   "source": [
    "list2_df = list2_df.dropna(subset=['office_avg'])"
   ]
  },
  {
   "cell_type": "code",
   "execution_count": 50,
   "metadata": {},
   "outputs": [],
   "source": [
    "hosp_office_data = pd.merge(list2_df, hosp_table, how='inner', on = ['cbsa'])\n",
    "\n"
   ]
  },
  {
   "cell_type": "code",
   "execution_count": 49,
   "metadata": {},
   "outputs": [
    {
     "name": "stdout",
     "output_type": "stream",
     "text": [
      "<class 'pandas.core.frame.DataFrame'>\n",
      "Int64Index: 23354 entries, 0 to 48993\n",
      "Data columns (total 7 columns):\n",
      " #   Column       Non-Null Count  Dtype  \n",
      "---  ------       --------------  -----  \n",
      " 0   cbsa         23354 non-null  int64  \n",
      " 1   apc          23354 non-null  int64  \n",
      " 2   hosp_max     23354 non-null  float64\n",
      " 3   hosp_avg     23354 non-null  float64\n",
      " 4   hosp_min     23354 non-null  float64\n",
      " 5   region       23354 non-null  object \n",
      " 6   description  23354 non-null  object \n",
      "dtypes: float64(3), int64(2), object(2)\n",
      "memory usage: 1.4+ MB\n"
     ]
    }
   ],
   "source": [
    "del list2_df\n",
    "del hosp_table\n",
    "del phys_apc_data\n",
    "hosp_table.info()"
   ]
  },
  {
   "cell_type": "code",
   "execution_count": 51,
   "metadata": {},
   "outputs": [
    {
     "name": "stdout",
     "output_type": "stream",
     "text": [
      "<class 'pandas.core.frame.DataFrame'>\n",
      "Int64Index: 670031 entries, 0 to 670030\n",
      "Data columns (total 11 columns):\n",
      " #   Column       Non-Null Count   Dtype  \n",
      "---  ------       --------------   -----  \n",
      " 0   cbsa         670031 non-null  int64  \n",
      " 1   hcpcs        670031 non-null  object \n",
      " 2   office_max   670031 non-null  float64\n",
      " 3   office_avg   670031 non-null  float64\n",
      " 4   office_min   670031 non-null  float64\n",
      " 5   apc          670031 non-null  int64  \n",
      " 6   hosp_max     670031 non-null  float64\n",
      " 7   hosp_avg     670031 non-null  float64\n",
      " 8   hosp_min     670031 non-null  float64\n",
      " 9   region       670031 non-null  object \n",
      " 10  description  670031 non-null  object \n",
      "dtypes: float64(6), int64(2), object(3)\n",
      "memory usage: 61.3+ MB\n"
     ]
    }
   ],
   "source": [
    "hosp_office_data.info()"
   ]
  },
  {
   "cell_type": "code",
   "execution_count": 56,
   "metadata": {
    "scrolled": true
   },
   "outputs": [
    {
     "name": "stdout",
     "output_type": "stream",
     "text": [
      "Region =  AL - Dothan\n",
      "Procedure =  Level 2 Excision/ Biopsy/ Incision and Drainage\n",
      "\n",
      "Max =  1102.92\n",
      "Mean =  1028.73\n",
      "Min =  986.77\n"
     ]
    }
   ],
   "source": [
    "# Selcting a cbsa and a apc and returing the max, mean, and min values for those selections.\n",
    "\n",
    "selection = hosp_payments_cbsa[(hosp_payments_cbsa['cbsa'] == 20020) & (hosp_payments_cbsa['apc'] == 5072)]\n",
    "max_value = round(selection.avg_medi_allowed_amt.max(), 2)\n",
    "avg_value = round(selection.avg_medi_allowed_amt.mean(), 2)\n",
    "min_value = round(selection.avg_medi_allowed_amt.min(), 2)\n",
    "\n",
    "print('Region = ', selection['region'][0])\n",
    "print('Procedure = ', selection['description'][0])\n",
    "print()\n",
    "print('Max = ', max_value)\n",
    "print('Mean = ', avg_value)\n",
    "print('Min = ', min_value)"
   ]
  },
  {
   "cell_type": "code",
   "execution_count": null,
   "metadata": {},
   "outputs": [],
   "source": []
  }
 ],
 "metadata": {
  "kernelspec": {
   "display_name": "Python 3",
   "language": "python",
   "name": "python3"
  }
 },
 "nbformat": 4,
 "nbformat_minor": 4
}
