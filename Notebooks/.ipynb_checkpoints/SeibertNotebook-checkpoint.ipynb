{
 "cells": [
  {
   "cell_type": "markdown",
   "metadata": {},
   "source": [
    "Data from:\n",
    "\n",
    "Physician & Other Supplier Payments - Detailed Data\n",
    "https://www.cms.gov/Research-Statistics-Data-and-Systems/Statistics-Trends-and-Reports/Medicare-Provider-Charge-Data/Physician-and-Other-Supplier2017\n",
    "\n",
    "Hospital Outpatient - Detailed Data\n",
    "https://www.cms.gov/Research-Statistics-Data-and-Systems/Statistics-Trends-and-Reports/Medicare-Provider-Charge-Data/Outpatient\n",
    "\n",
    "APC to CPT/HCPCS crosswalk - Addendum B – January 2020\n",
    "https://www.cms.gov/Medicare/Medicare-Fee-for-Service-Payment/HospitalOutpatientPPS/Addendum-A-and-Addendum-B-Updates\n",
    "\n",
    "Zip Code to CBSA\n",
    "https://www.huduser.gov/portal/datasets/usps_crosswalk.html![image.png](attachment:image.png)"
   ]
  },
  {
   "cell_type": "code",
   "execution_count": null,
   "metadata": {},
   "outputs": [],
   "source": [
    "import pandas as pd\n",
    "import numpy as np\n",
    "import matplotlib.pyplot as plt\n",
    "import seaborn as sns"
   ]
  },
  {
   "cell_type": "code",
   "execution_count": null,
   "metadata": {},
   "outputs": [],
   "source": [
    "%matplotlib inline"
   ]
  },
  {
   "cell_type": "code",
   "execution_count": null,
   "metadata": {},
   "outputs": [],
   "source": [
    "pd.options.display.max_columns = 25"
   ]
  },
  {
   "cell_type": "code",
   "execution_count": null,
   "metadata": {},
   "outputs": [],
   "source": [
    "pd.options.display.max_rows = 25"
   ]
  },
  {
   "cell_type": "code",
   "execution_count": null,
   "metadata": {
    "scrolled": true
   },
   "outputs": [],
   "source": [
    "# Reading in the CBSA to ZIP code crosswalk\n",
    "\n",
    "cbsa_to_zip = pd.read_excel('../data/CBSA_ZIP_032020.xlsx', \n",
    "                            usecols = ['CBSA', 'ZIP'],\n",
    "                            dtypes={'ZIP':'str'})"
   ]
  },
  {
   "cell_type": "code",
   "execution_count": null,
   "metadata": {
    "scrolled": true
   },
   "outputs": [],
   "source": [
    "#Reading in HCPCS to APC crosswalk with Short Descriptor column\n",
    "\n",
    "hcpcs_to_apc = pd.read_excel('../data/Addendum_B/2020_january_web_addendum_b.12312019.xlsx', header = 2, usecols = ['HCPCS Code', 'Short Descriptor', 'APC '])"
   ]
  },
  {
   "cell_type": "code",
   "execution_count": null,
   "metadata": {
    "scrolled": true
   },
   "outputs": [],
   "source": [
    "#Reading in the Physician & Other Supplier Payments while discarding some columns\n",
    "\n",
    "phys_other_payments = pd.read_csv('../data/Medicare_Provider_Util_Payment_PUF_CY2017/Medicare_Provider_Util_Payment_PUF_CY2017.txt', \n",
    "    sep='\\t', \n",
    "    skiprows = [1], \n",
    "    usecols = lambda column : column not in ['average_submitted_chrg_amt', 'average_Medicare_payment_amt', 'average_Medicare_standard_amt', 'hcpcs_drug_indicator', 'medicare_participation_indicator'], \n",
    "    dtype = {'nppes_provider_zip':'str'},\n",
    "    low_memory=False)"
   ]
  },
  {
   "cell_type": "code",
   "execution_count": null,
   "metadata": {},
   "outputs": [],
   "source": [
    "# Reading in the Hospital Outpatient while discarding some columns\n",
    "\n",
    "column_exclude_list = ['Outlier\\nComprehensive\\nAPC\\nServices', 'Average\\nMedicare\\nOutlier\\nAmount', 'Average\\nEstimated\\nTotal\\nSubmitted\\nCharges', 'Average\\nMedicare\\nPayment\\nAmount']\n",
    "\n",
    "hosp_payments = pd.read_excel('../data/MUP_OHP_R19_P04_V10_D17_APC_Provider/MUP_OHP_R19_P04_V10_D17_APC_Provider.xlsx', \n",
    "                              header = 5, \n",
    "                              usecols = lambda column : column not in column_exclude_list)"
   ]
  },
  {
   "cell_type": "code",
   "execution_count": null,
   "metadata": {},
   "outputs": [],
   "source": [
    "hcpcs_to_apc.columns = ['hcpcs', 'descriptor', 'apc']"
   ]
  },
  {
   "cell_type": "code",
   "execution_count": null,
   "metadata": {},
   "outputs": [],
   "source": [
    "cbsa_to_zip.columns = ['cbsa', 'zip']"
   ]
  },
  {
   "cell_type": "code",
   "execution_count": null,
   "metadata": {
    "scrolled": true
   },
   "outputs": [],
   "source": [
    "phys_other_payments.columns = ['npi', 'last_org_name', 'first_name', 'mi', 'creds', 'gender', 'entity', 'street1', 'street2' , 'city', 'zip','state', 'country', 'provider_type', 'service_loc', 'hcpcs', 'description', 'services_cnt', 'benefic_cnt', 'benefic_d_cnt', 'avg_medi_allowed_amt']"
   ]
  },
  {
   "cell_type": "code",
   "execution_count": null,
   "metadata": {},
   "outputs": [],
   "source": [
    "hosp_payments.columns = ['provider_id', 'provider_name', 'street', 'city', 'state', 'zip', 'region', 'apc', 'description', 'benefic_cnt', 'services_cnt', 'avg_medi_allowed_amt']"
   ]
  },
  {
   "cell_type": "code",
   "execution_count": null,
   "metadata": {
    "scrolled": true
   },
   "outputs": [],
   "source": [
    "# Dropping non US\n",
    "\n",
    "phys_other_payments = phys_other_payments[phys_other_payments.country == 'US']"
   ]
  },
  {
   "cell_type": "code",
   "execution_count": null,
   "metadata": {},
   "outputs": [],
   "source": [
    "# Making a dataframe with only office entities to compare with the Hospital Data.\n",
    "\n",
    "phys_other_payments = phys_other_payments[phys_other_payments['entity'] == 'O']"
   ]
  },
  {
   "cell_type": "code",
   "execution_count": null,
   "metadata": {},
   "outputs": [],
   "source": [
    "# Making a dataframe with only Ambulatory Surgical Centers\n",
    "\n",
    "phys_other_payments = phys_other_payments[phys_other_payments['provider_type'] == 'Ambulatory Surgical Center']"
   ]
  },
  {
   "cell_type": "code",
   "execution_count": null,
   "metadata": {
    "scrolled": false
   },
   "outputs": [],
   "source": [
    "phys_other_payments['zip'] = phys_other_payments['zip'].str[:5]"
   ]
  },
  {
   "cell_type": "code",
   "execution_count": null,
   "metadata": {},
   "outputs": [],
   "source": [
    "# Putting leading zero back on zips\n",
    "\n",
    "cbsa_to_zip['zip'] = cbsa_to_zip['zip'].apply(lambda x: '{0:0>5}'.format(x))"
   ]
  },
  {
   "cell_type": "code",
   "execution_count": null,
   "metadata": {
    "scrolled": false
   },
   "outputs": [],
   "source": [
    "# Merging CBSA to Zip in physcian billing data\n",
    "\n",
    "phys_asc_cbsa = pd.merge(phys_other_payments, cbsa_to_zip, how='left', on = ['zip'])\n",
    "\n",
    "del phys_other_payments"
   ]
  },
  {
   "cell_type": "code",
   "execution_count": null,
   "metadata": {},
   "outputs": [],
   "source": [
    "# Dropping NaN values in the apc column of hcpcs to apc crosswalk\n",
    "\n",
    "hcpcs_to_apc = hcpcs_to_apc.dropna(subset=['apc'])"
   ]
  },
  {
   "cell_type": "code",
   "execution_count": null,
   "metadata": {},
   "outputs": [],
   "source": [
    "# Putting leading zero back on zips\n",
    "\n",
    "hosp_payments['zip'] = hosp_payments['zip'].apply(lambda x: '{0:0>5}'.format(x))"
   ]
  },
  {
   "cell_type": "code",
   "execution_count": null,
   "metadata": {},
   "outputs": [],
   "source": [
    "# Adding matching APC code to HCPCS in the office dataframe, keeping only rows that have an apc match\n",
    "\n",
    "phys_asc_apc = pd.merge(phys_asc_cbsa, hcpcs_to_apc, how = 'inner', on = ['hcpcs'])\n",
    "\n",
    "del phys_asc_cbsa"
   ]
  },
  {
   "cell_type": "code",
   "execution_count": null,
   "metadata": {},
   "outputs": [],
   "source": [
    "phys_apc_data = phys_asc_apc.drop(['first_name', 'mi', 'creds', 'gender'], axis = 1)\n",
    "\n",
    "del phys_asc_apc"
   ]
  },
  {
   "cell_type": "code",
   "execution_count": null,
   "metadata": {},
   "outputs": [],
   "source": [
    "# Adding CBSA column to hospital data, keeping only rows with a CBSA\n",
    "\n",
    "hosp_payments_cbsa = pd.merge(hosp_payments, cbsa_to_zip, how = 'inner', on = ['zip'])\n",
    "\n",
    "del hosp_payments"
   ]
  },
  {
   "cell_type": "code",
   "execution_count": null,
   "metadata": {},
   "outputs": [],
   "source": [
    "cbsa_to_region = hosp_payments_cbsa.loc[:,['region', 'cbsa']]"
   ]
  },
  {
   "cell_type": "code",
   "execution_count": null,
   "metadata": {},
   "outputs": [],
   "source": [
    "cbsa_to_region = cbsa_to_region.drop_duplicates(subset=['cbsa'])"
   ]
  },
  {
   "cell_type": "code",
   "execution_count": null,
   "metadata": {},
   "outputs": [],
   "source": [
    "apc_to_description = hosp_payments_cbsa.loc[:, ['apc', 'description']]"
   ]
  },
  {
   "cell_type": "code",
   "execution_count": null,
   "metadata": {},
   "outputs": [],
   "source": [
    "apc_to_description = apc_to_description.drop_duplicates(subset=['apc'])"
   ]
  },
  {
   "cell_type": "code",
   "execution_count": null,
   "metadata": {},
   "outputs": [],
   "source": [
    "list = []\n",
    "\n",
    "for cbsa in hosp_payments_cbsa['cbsa'].unique():\n",
    "    for apc in hosp_payments_cbsa['apc'].unique():\n",
    "        selection = hosp_payments_cbsa[(hosp_payments_cbsa['cbsa'] == cbsa) & (hosp_payments_cbsa['apc'] == apc)]\n",
    "        max_value = round(selection.avg_medi_allowed_amt.max(), 2)\n",
    "        avg_value = round(selection.avg_medi_allowed_amt.mean(), 2)\n",
    "        min_value = round(selection.avg_medi_allowed_amt.min(), 2)\n",
    "        list.append([cbsa, apc, max_value, avg_value, min_value])"
   ]
  },
  {
   "cell_type": "code",
   "execution_count": null,
   "metadata": {},
   "outputs": [],
   "source": [
    "list_df = pd.DataFrame(list)\n",
    "\n",
    "del list"
   ]
  },
  {
   "cell_type": "code",
   "execution_count": null,
   "metadata": {},
   "outputs": [],
   "source": [
    "list_df.columns = ['cbsa','apc', 'hosp_max', 'hosp_avg', 'hosp_min']"
   ]
  },
  {
   "cell_type": "code",
   "execution_count": null,
   "metadata": {},
   "outputs": [],
   "source": [
    "list_df_region = pd.merge(list_df, cbsa_to_region, how='left', on = ['cbsa'])\n",
    "\n",
    "del list_df"
   ]
  },
  {
   "cell_type": "code",
   "execution_count": null,
   "metadata": {},
   "outputs": [],
   "source": [
    "hosp_table = pd.merge(list_df_region, apc_to_description, how='left', on=['apc'])\n",
    "\n",
    "del list_df_region"
   ]
  },
  {
   "cell_type": "code",
   "execution_count": null,
   "metadata": {},
   "outputs": [],
   "source": [
    "hosp_table = hosp_table.dropna(subset=['hosp_avg'])"
   ]
  },
  {
   "cell_type": "code",
   "execution_count": null,
   "metadata": {},
   "outputs": [],
   "source": [
    "phys_apc_data = phys_apc_data.dropna(subset=['cbsa'])"
   ]
  },
  {
   "cell_type": "code",
   "execution_count": null,
   "metadata": {
    "scrolled": false
   },
   "outputs": [],
   "source": [
    "phys_apc_data['cbsa'] = phys_apc_data['cbsa'].astype('int')"
   ]
  },
  {
   "cell_type": "code",
   "execution_count": null,
   "metadata": {},
   "outputs": [],
   "source": [
    "phys_apc_data['apc'] = phys_apc_data['apc'].astype('int')"
   ]
  },
  {
   "cell_type": "code",
   "execution_count": null,
   "metadata": {},
   "outputs": [],
   "source": [
    "hosp_table"
   ]
  },
  {
   "cell_type": "code",
   "execution_count": null,
   "metadata": {},
   "outputs": [],
   "source": [
    "# Getting all the unique apc's that are in the hospital table\n",
    "\n",
    "hosp_apc_list = hosp_table['apc'].unique()"
   ]
  },
  {
   "cell_type": "code",
   "execution_count": null,
   "metadata": {},
   "outputs": [],
   "source": [
    "# Narrowing the Ambulatory Surgical Center table down to rows that have an apc that is in the hosp table\n",
    "\n",
    "phys_apc_data = phys_apc_data[phys_apc_data['apc'].isin(hosp_apc_list)]"
   ]
  },
  {
   "cell_type": "code",
   "execution_count": null,
   "metadata": {},
   "outputs": [],
   "source": [
    "phys_apc_data = phys_apc_data[phys_apc_data['cbsa'].isin(hosp_table['cbsa'].unique())]"
   ]
  },
  {
   "cell_type": "code",
   "execution_count": null,
   "metadata": {},
   "outputs": [],
   "source": [
    "hcpcs_to_description = phys_apc_data.loc[:, ['hcpcs', 'description']]"
   ]
  },
  {
   "cell_type": "code",
   "execution_count": null,
   "metadata": {},
   "outputs": [],
   "source": [
    "hcpcs_to_description = hcpcs_to_description.drop_duplicates(subset=['hcpcs'])"
   ]
  },
  {
   "cell_type": "code",
   "execution_count": null,
   "metadata": {},
   "outputs": [],
   "source": [
    "hosp_table['state'] = hosp_table['region'].str[:2]"
   ]
  },
  {
   "cell_type": "code",
   "execution_count": null,
   "metadata": {},
   "outputs": [],
   "source": [
    "hosp_table"
   ]
  },
  {
   "cell_type": "code",
   "execution_count": null,
   "metadata": {},
   "outputs": [],
   "source": [
    "cbsa_to_state = hosp_table.loc[:, ['cbsa', 'state']]"
   ]
  },
  {
   "cell_type": "code",
   "execution_count": null,
   "metadata": {},
   "outputs": [],
   "source": [
    "cbsa_to_state = cbsa_to_state.drop_duplicates(subset = ['cbsa'])"
   ]
  },
  {
   "cell_type": "code",
   "execution_count": null,
   "metadata": {},
   "outputs": [],
   "source": [
    "hosp_table['region'] = hosp_table['region'].str.split('-').str[1]"
   ]
  },
  {
   "cell_type": "code",
   "execution_count": null,
   "metadata": {},
   "outputs": [],
   "source": [
    "hosp_table['region'] = hosp_table['region'].str.strip()"
   ]
  },
  {
   "cell_type": "code",
   "execution_count": null,
   "metadata": {
    "scrolled": true
   },
   "outputs": [],
   "source": [
    "hosp_table"
   ]
  },
  {
   "cell_type": "code",
   "execution_count": null,
   "metadata": {},
   "outputs": [],
   "source": [
    "phys_apc_data"
   ]
  },
  {
   "cell_type": "code",
   "execution_count": null,
   "metadata": {},
   "outputs": [],
   "source": [
    "def phys_state(state_list):\n",
    "    \"\"\"This function takes a list of states as state codes and narrows the physcian data set to just those states\n",
    "    it then iterates over the unique CBSA and HCPCS combos in that state and finds the medicare max/avg/min and makes\n",
    "    those into a table.\"\"\"\n",
    "    state_phys_data = phys_apc_data[phys_apc_data['state'].isin(state_list)]\n",
    "    list = []    \n",
    "    for cbsa in state_phys_data['cbsa'].unique():\n",
    "        for hcpcs in state_phys_data['hcpcs'].unique():\n",
    "            selection = state_phys_data[(state_phys_data['cbsa'] == cbsa) & (state_phys_data['hcpcs'] == hcpcs)]\n",
    "            max_value = round(selection.avg_medi_allowed_amt.max(), 2)\n",
    "            avg_value = round(selection.avg_medi_allowed_amt.mean(), 2)\n",
    "            min_value = round(selection.avg_medi_allowed_amt.min(), 2)\n",
    "            list.append([cbsa, hcpcs, max_value, avg_value, min_value])\n",
    "    list = pd.DataFrame(list)\n",
    "    list.columns = ['cbsa','hcpcs', 'office_max', 'office_avg', 'office_min']\n",
    "    global phys_data_state \n",
    "    phys_data_state = list.dropna(subset=['office_avg'])\n",
    "    return phys_data_state"
   ]
  },
  {
   "cell_type": "code",
   "execution_count": null,
   "metadata": {
    "scrolled": true
   },
   "outputs": [],
   "source": [
    "phys_state(['TN'])"
   ]
  },
  {
   "cell_type": "code",
   "execution_count": null,
   "metadata": {},
   "outputs": [],
   "source": [
    "phys_data_state = pd.merge(phys_data_state, hcpcs_to_apc, how = 'left', on = ['hcpcs'])"
   ]
  },
  {
   "cell_type": "code",
   "execution_count": null,
   "metadata": {},
   "outputs": [],
   "source": [
    "merged_data = pd.merge(phys_data_state, hosp_table, how = 'left', on = ['cbsa', 'apc'])"
   ]
  },
  {
   "cell_type": "code",
   "execution_count": null,
   "metadata": {},
   "outputs": [],
   "source": [
    "merged_data = merged_data[merged_data['state'] == 'TN']"
   ]
  },
  {
   "cell_type": "code",
   "execution_count": null,
   "metadata": {},
   "outputs": [],
   "source": [
    "merged_data.to_csv('../file_for_viz.csv')"
   ]
  },
  {
   "cell_type": "code",
   "execution_count": null,
   "metadata": {},
   "outputs": [],
   "source": [
    "merged_data"
   ]
  },
  {
   "cell_type": "code",
   "execution_count": null,
   "metadata": {},
   "outputs": [],
   "source": [
    "phys_data_state"
   ]
  },
  {
   "cell_type": "code",
   "execution_count": null,
   "metadata": {},
   "outputs": [],
   "source": [
    "list2 = []\n",
    "\n",
    "for cbsa in phys_testing['cbsa'].unique():\n",
    "    for hcpcs in phys_testing['hcpcs'].unique():\n",
    "        selection = phys_testing[(phys_testing['cbsa'] == cbsa) & (phys_testing['hcpcs'] == hcpcs)]\n",
    "        max_value = round(selection.avg_medi_allowed_amt.max(), 2)\n",
    "        avg_value = round(selection.avg_medi_allowed_amt.mean(), 2)\n",
    "        min_value = round(selection.avg_medi_allowed_amt.min(), 2)\n",
    "        list2.append([cbsa, hcpcs, max_value, avg_value, min_value])"
   ]
  },
  {
   "cell_type": "code",
   "execution_count": null,
   "metadata": {},
   "outputs": [],
   "source": [
    "list2_df = pd.DataFrame(list2)\n",
    "\n",
    "del list2"
   ]
  },
  {
   "cell_type": "code",
   "execution_count": null,
   "metadata": {},
   "outputs": [],
   "source": [
    "list2_df.columns = ['cbsa','hcpcs', 'office_max', 'office_avg', 'office_min']"
   ]
  },
  {
   "cell_type": "code",
   "execution_count": null,
   "metadata": {},
   "outputs": [],
   "source": [
    "list2_df"
   ]
  },
  {
   "cell_type": "code",
   "execution_count": null,
   "metadata": {},
   "outputs": [],
   "source": [
    "list2_df = list2_df.dropna(subset=['office_avg'])"
   ]
  },
  {
   "cell_type": "code",
   "execution_count": null,
   "metadata": {},
   "outputs": [],
   "source": [
    "hosp_office_data = pd.merge(list2_df, hosp_table, how='inner', on = ['cbsa', 'apc'])\n",
    "\n",
    "del list2_df\n",
    "del hosp_table\n",
    "del phys_apc_data"
   ]
  },
  {
   "cell_type": "code",
   "execution_count": null,
   "metadata": {},
   "outputs": [],
   "source": [
    "hosp_office_data"
   ]
  },
  {
   "cell_type": "code",
   "execution_count": null,
   "metadata": {
    "scrolled": true
   },
   "outputs": [],
   "source": [
    "# Selcting a cbsa and a apc and returing the max, mean, and min values for those selections.\n",
    "\n",
    "selection = hosp_payments_cbsa[(hosp_payments_cbsa['cbsa'] == 20020) & (hosp_payments_cbsa['apc'] == 5072)]\n",
    "max_value = round(selection.avg_medi_allowed_amt.max(), 2)\n",
    "avg_value = round(selection.avg_medi_allowed_amt.mean(), 2)\n",
    "min_value = round(selection.avg_medi_allowed_amt.min(), 2)\n",
    "\n",
    "print('Region = ', selection['region'][0])\n",
    "print('Procedure = ', selection['description'][0])\n",
    "print()\n",
    "print('Max = ', max_value)\n",
    "print('Mean = ', avg_value)\n",
    "print('Min = ', min_value)"
   ]
  }
 ],
 "metadata": {
  "kernelspec": {
   "display_name": "Python 3",
   "language": "python",
   "name": "python3"
  },
  "language_info": {
   "codemirror_mode": {
    "name": "ipython",
    "version": 3
   },
   "file_extension": ".py",
   "mimetype": "text/x-python",
   "name": "python",
   "nbconvert_exporter": "python",
   "pygments_lexer": "ipython3",
   "version": "3.7.6"
  }
 },
 "nbformat": 4,
 "nbformat_minor": 4
}
