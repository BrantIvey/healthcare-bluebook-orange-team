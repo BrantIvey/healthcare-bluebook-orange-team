{
 "cells": [
  {
   "cell_type": "markdown",
   "metadata": {},
   "source": [
    "Data from:\n",
    "\n",
    "Physician & Other Supplier Payments - Detailed Data\n",
    "https://www.cms.gov/Research-Statistics-Data-and-Systems/Statistics-Trends-and-Reports/Medicare-Provider-Charge-Data/Physician-and-Other-Supplier2017\n",
    "\n",
    "Hospital Outpatient - Detailed Data\n",
    "https://www.cms.gov/Research-Statistics-Data-and-Systems/Statistics-Trends-and-Reports/Medicare-Provider-Charge-Data/Outpatient\n",
    "\n",
    "APC to CPT/HCPCS crosswalk - Addendum B – January 2020\n",
    "https://www.cms.gov/Medicare/Medicare-Fee-for-Service-Payment/HospitalOutpatientPPS/Addendum-A-and-Addendum-B-Updates\n",
    "\n",
    "Zip Code to CBSA\n",
    "https://www.huduser.gov/portal/datasets/usps_crosswalk.html![image.png](attachment:image.png)"
   ]
  },
  {
   "cell_type": "code",
   "execution_count": 1,
   "metadata": {},
   "outputs": [],
   "source": [
    "import pandas as pd\n",
    "import numpy as np\n",
    "import matplotlib.pyplot as plt\n",
    "import seaborn as sns"
   ]
  },
  {
   "cell_type": "code",
   "execution_count": 2,
   "metadata": {},
   "outputs": [],
   "source": [
    "%matplotlib inline"
   ]
  },
  {
   "cell_type": "code",
   "execution_count": 3,
   "metadata": {},
   "outputs": [],
   "source": [
    "pd.options.display.max_columns = 25"
   ]
  },
  {
   "cell_type": "code",
   "execution_count": 4,
   "metadata": {},
   "outputs": [],
   "source": [
    "pd.options.display.max_rows = 25"
   ]
  },
  {
   "cell_type": "code",
   "execution_count": 5,
   "metadata": {
    "scrolled": true
   },
   "outputs": [],
   "source": [
    "# Reading in the CBSA to ZIP code crosswalk\n",
    "\n",
    "cbsa_to_zip = pd.read_excel('../data/CBSA_ZIP_032020.xlsx', \n",
    "                            usecols = ['CBSA', 'ZIP'],\n",
    "                            dtypes={'ZIP':'str'})"
   ]
  },
  {
   "cell_type": "code",
   "execution_count": 6,
   "metadata": {
    "scrolled": true
   },
   "outputs": [],
   "source": [
    "#Reading in HCPCS to APC crosswalk with Short Descriptor column\n",
    "\n",
    "hcpcs_to_apc = pd.read_excel('../data/Addendum_B/2020_january_web_addendum_b.12312019.xlsx', header = 2, usecols = ['HCPCS Code', 'Short Descriptor', 'APC '])"
   ]
  },
  {
   "cell_type": "code",
   "execution_count": 43,
   "metadata": {
    "scrolled": true
   },
   "outputs": [],
   "source": [
    "#Reading in the Physician & Other Supplier Payments while discarding some columns\n",
    "\n",
    "phys_other_payments = pd.read_csv('../data/Medicare_Provider_Util_Payment_PUF_CY2017/Medicare_Provider_Util_Payment_PUF_CY2017.txt', \n",
    "    sep='\\t', \n",
    "    skiprows = [1], \n",
    "    usecols = lambda column : column not in ['average_submitted_chrg_amt', 'average_Medicare_payment_amt', 'average_Medicare_standard_amt', 'hcpcs_drug_indicator', 'medicare_participation_indicator'], \n",
    "    dtype = {'nppes_provider_zip':'str'},\n",
    "    low_memory=False)"
   ]
  },
  {
   "cell_type": "code",
   "execution_count": 8,
   "metadata": {},
   "outputs": [],
   "source": [
    "# Reading in the Hospital Outpatient while discarding some columns\n",
    "\n",
    "column_exclude_list = ['Outlier\\nComprehensive\\nAPC\\nServices', 'Average\\nMedicare\\nOutlier\\nAmount', 'Average\\nEstimated\\nTotal\\nSubmitted\\nCharges', 'Average\\nMedicare\\nPayment\\nAmount']\n",
    "\n",
    "hosp_payments = pd.read_excel('../data/MUP_OHP_R19_P04_V10_D17_APC_Provider/MUP_OHP_R19_P04_V10_D17_APC_Provider.xlsx', \n",
    "                              header = 5, \n",
    "                              usecols = lambda column : column not in column_exclude_list)"
   ]
  },
  {
   "cell_type": "code",
   "execution_count": 9,
   "metadata": {},
   "outputs": [],
   "source": [
    "hcpcs_to_apc.columns = ['hcpcs', 'descriptor', 'apc']"
   ]
  },
  {
   "cell_type": "code",
   "execution_count": 10,
   "metadata": {},
   "outputs": [],
   "source": [
    "cbsa_to_zip.columns = ['cbsa', 'zip']"
   ]
  },
  {
   "cell_type": "code",
   "execution_count": 44,
   "metadata": {
    "scrolled": true
   },
   "outputs": [],
   "source": [
    "phys_other_payments.columns = ['npi', 'last_org_name', 'first_name', 'mi', 'creds', 'gender', 'entity', 'street1', 'street2' , 'city', 'zip','state', 'country', 'provider_type', 'service_loc', 'hcpcs', 'description', 'services_cnt', 'benefic_cnt', 'benefic_d_cnt', 'avg_medi_allowed_amt']"
   ]
  },
  {
   "cell_type": "code",
   "execution_count": 12,
   "metadata": {},
   "outputs": [],
   "source": [
    "hosp_payments.columns = ['provider_id', 'provider_name', 'street', 'city', 'state', 'zip', 'region', 'apc', 'description', 'benefic_cnt', 'services_cnt', 'avg_medi_allowed_amt']"
   ]
  },
  {
   "cell_type": "code",
   "execution_count": 45,
   "metadata": {
    "scrolled": true
   },
   "outputs": [],
   "source": [
    "# Dropping non US\n",
    "\n",
    "phys_other_payments = phys_other_payments[phys_other_payments.country == 'US']"
   ]
  },
  {
   "cell_type": "code",
   "execution_count": 46,
   "metadata": {},
   "outputs": [],
   "source": [
    "# Making a dataframe with only office entities to compare with the Hospital Data.\n",
    "\n",
    "phys_other_payments = phys_other_payments[phys_other_payments['entity'] == 'O']"
   ]
  },
  {
   "cell_type": "code",
   "execution_count": 48,
   "metadata": {},
   "outputs": [],
   "source": [
    "phys_other_payments = phys_other_payments[phys_other_payments['provider_type'] == 'Ambulatory Surgical Center']"
   ]
  },
  {
   "cell_type": "code",
   "execution_count": 49,
   "metadata": {
    "scrolled": false
   },
   "outputs": [],
   "source": [
    "phys_other_payments['zip'] = phys_other_payments['zip'].str[:5]"
   ]
  },
  {
   "cell_type": "code",
   "execution_count": 17,
   "metadata": {},
   "outputs": [],
   "source": [
    "# Putting leading zero back on zips\n",
    "\n",
    "cbsa_to_zip['zip'] = cbsa_to_zip['zip'].apply(lambda x: '{0:0>5}'.format(x))"
   ]
  },
  {
   "cell_type": "code",
   "execution_count": 50,
   "metadata": {
    "scrolled": false
   },
   "outputs": [],
   "source": [
    "# Merging CBSA to Zip in physcian billing data\n",
    "\n",
    "phys_asc_cbsa = pd.merge(phys_other_payments, cbsa_to_zip, how='left', on = ['zip'])\n",
    "\n",
    "del phys_other_payments"
   ]
  },
  {
   "cell_type": "code",
   "execution_count": 20,
   "metadata": {},
   "outputs": [],
   "source": [
    "# Dropping NaN values in the apc column of hcpcs to apc crosswalk\n",
    "\n",
    "hcpcs_to_apc = hcpcs_to_apc.dropna(subset=['apc'])"
   ]
  },
  {
   "cell_type": "code",
   "execution_count": 23,
   "metadata": {},
   "outputs": [],
   "source": [
    "# Putting leading zero back on zips\n",
    "\n",
    "hosp_payments['zip'] = hosp_payments['zip'].apply(lambda x: '{0:0>5}'.format(x))"
   ]
  },
  {
   "cell_type": "code",
   "execution_count": 51,
   "metadata": {},
   "outputs": [],
   "source": [
    "# Adding matching APC code to HCPCS in the office dataframe, keeping only rows that have an apc match\n",
    "\n",
    "phys_asc_apc = pd.merge(phys_asc_cbsa, hcpcs_to_apc, how = 'inner', on = ['hcpcs'])\n",
    "\n",
    "del phys_asc_cbsa"
   ]
  },
  {
   "cell_type": "code",
   "execution_count": 52,
   "metadata": {},
   "outputs": [],
   "source": [
    "phys_apc_data = phys_asc_apc.drop(['first_name', 'mi', 'creds', 'gender'], axis = 1)\n",
    "\n",
    "del phys_asc_apc"
   ]
  },
  {
   "cell_type": "code",
   "execution_count": 27,
   "metadata": {},
   "outputs": [],
   "source": [
    "# Adding CBSA column to hospital data, keeping only rows with a CBSA\n",
    "\n",
    "hosp_payments_cbsa = pd.merge(hosp_payments, cbsa_to_zip, how = 'inner', on = ['zip'])\n",
    "\n",
    "del hosp_payments"
   ]
  },
  {
   "cell_type": "code",
   "execution_count": 28,
   "metadata": {},
   "outputs": [],
   "source": [
    "cbsa_to_region = hosp_payments_cbsa.loc[:,['region', 'cbsa']]"
   ]
  },
  {
   "cell_type": "code",
   "execution_count": 29,
   "metadata": {},
   "outputs": [],
   "source": [
    "cbsa_to_region = cbsa_to_region.drop_duplicates(subset=['cbsa'])"
   ]
  },
  {
   "cell_type": "code",
   "execution_count": 30,
   "metadata": {},
   "outputs": [],
   "source": [
    "apc_to_description = hosp_payments_cbsa.loc[:, ['apc', 'description']]"
   ]
  },
  {
   "cell_type": "code",
   "execution_count": 31,
   "metadata": {},
   "outputs": [],
   "source": [
    "apc_to_description = apc_to_description.drop_duplicates(subset=['apc'])"
   ]
  },
  {
   "cell_type": "code",
   "execution_count": 32,
   "metadata": {},
   "outputs": [],
   "source": [
    "list = []\n",
    "\n",
    "for cbsa in hosp_payments_cbsa['cbsa'].unique():\n",
    "    for apc in hosp_payments_cbsa['apc'].unique():\n",
    "        selection = hosp_payments_cbsa[(hosp_payments_cbsa['cbsa'] == cbsa) & (hosp_payments_cbsa['apc'] == apc)]\n",
    "        max_value = round(selection.avg_medi_allowed_amt.max(), 2)\n",
    "        avg_value = round(selection.avg_medi_allowed_amt.mean(), 2)\n",
    "        min_value = round(selection.avg_medi_allowed_amt.min(), 2)\n",
    "        list.append([cbsa, apc, max_value, avg_value, min_value])"
   ]
  },
  {
   "cell_type": "code",
   "execution_count": 33,
   "metadata": {},
   "outputs": [],
   "source": [
    "list_df = pd.DataFrame(list)\n",
    "\n",
    "del list"
   ]
  },
  {
   "cell_type": "code",
   "execution_count": 34,
   "metadata": {},
   "outputs": [],
   "source": [
    "list_df.columns = ['cbsa','apc', 'hosp_max', 'hosp_avg', 'hosp_min']"
   ]
  },
  {
   "cell_type": "code",
   "execution_count": 35,
   "metadata": {},
   "outputs": [],
   "source": [
    "list_df_region = pd.merge(list_df, cbsa_to_region, how='left', on = ['cbsa'])\n",
    "\n",
    "del list_df"
   ]
  },
  {
   "cell_type": "code",
   "execution_count": 36,
   "metadata": {},
   "outputs": [],
   "source": [
    "hosp_table = pd.merge(list_df_region, apc_to_description, how='left', on=['apc'])\n",
    "\n",
    "del list_df_region"
   ]
  },
  {
   "cell_type": "code",
   "execution_count": 37,
   "metadata": {},
   "outputs": [],
   "source": [
    "hosp_table = hosp_table.dropna(subset=['hosp_avg'])"
   ]
  },
  {
   "cell_type": "code",
   "execution_count": 53,
   "metadata": {},
   "outputs": [],
   "source": [
    "phys_apc_data = phys_apc_data.dropna(subset=['cbsa'])"
   ]
  },
  {
   "cell_type": "code",
   "execution_count": 54,
   "metadata": {
    "scrolled": false
   },
   "outputs": [],
   "source": [
    "phys_apc_data['cbsa'] = phys_apc_data['cbsa'].astype('int')"
   ]
  },
  {
   "cell_type": "code",
   "execution_count": 55,
   "metadata": {},
   "outputs": [],
   "source": [
    "phys_apc_data['apc'] = phys_apc_data['apc'].astype('int')"
   ]
  },
  {
   "cell_type": "code",
   "execution_count": 64,
   "metadata": {},
   "outputs": [],
   "source": [
    "# Getting all the unique apc's that are in the hospital table\n",
    "\n",
    "hosp_apc_list = hosp_table['apc'].unique()"
   ]
  },
  {
   "cell_type": "code",
   "execution_count": 68,
   "metadata": {},
   "outputs": [],
   "source": [
    "# Narrowing the Ambulatory Surgical Center table down to rows that have an apc that is in the hosp table\n",
    "\n",
    "phys_apc_data = phys_apc_data[phys_apc_data['apc'].isin(hosp_apc_list)]"
   ]
  },
  {
   "cell_type": "code",
   "execution_count": 74,
   "metadata": {},
   "outputs": [],
   "source": [
    "phys_apc_data = phys_apc_data[phys_apc_data['cbsa'].isin(hosp_table['cbsa'].unique())]"
   ]
  },
  {
   "cell_type": "code",
   "execution_count": 92,
   "metadata": {},
   "outputs": [],
   "source": [
    "phys_testing = phys_apc_data.loc[:, ['hcpcs', 'avg_medi_allowed_amt', 'cbsa']]"
   ]
  },
  {
   "cell_type": "code",
   "execution_count": 94,
   "metadata": {},
   "outputs": [
    {
     "ename": "KeyboardInterrupt",
     "evalue": "",
     "output_type": "error",
     "traceback": [
      "\u001b[1;31m---------------------------------------------------------------------------\u001b[0m",
      "\u001b[1;31mKeyboardInterrupt\u001b[0m                         Traceback (most recent call last)",
      "\u001b[1;32m<ipython-input-94-7025bd89dbd0>\u001b[0m in \u001b[0;36m<module>\u001b[1;34m\u001b[0m\n\u001b[0;32m      3\u001b[0m \u001b[1;32mfor\u001b[0m \u001b[0mcbsa\u001b[0m \u001b[1;32min\u001b[0m \u001b[0mphys_testing\u001b[0m\u001b[1;33m[\u001b[0m\u001b[1;34m'cbsa'\u001b[0m\u001b[1;33m]\u001b[0m\u001b[1;33m.\u001b[0m\u001b[0munique\u001b[0m\u001b[1;33m(\u001b[0m\u001b[1;33m)\u001b[0m\u001b[1;33m:\u001b[0m\u001b[1;33m\u001b[0m\u001b[1;33m\u001b[0m\u001b[0m\n\u001b[0;32m      4\u001b[0m     \u001b[1;32mfor\u001b[0m \u001b[0mhcpcs\u001b[0m \u001b[1;32min\u001b[0m \u001b[0mphys_testing\u001b[0m\u001b[1;33m[\u001b[0m\u001b[1;34m'hcpcs'\u001b[0m\u001b[1;33m]\u001b[0m\u001b[1;33m.\u001b[0m\u001b[0munique\u001b[0m\u001b[1;33m(\u001b[0m\u001b[1;33m)\u001b[0m\u001b[1;33m:\u001b[0m\u001b[1;33m\u001b[0m\u001b[1;33m\u001b[0m\u001b[0m\n\u001b[1;32m----> 5\u001b[1;33m         \u001b[0mselection\u001b[0m \u001b[1;33m=\u001b[0m \u001b[0mphys_testing\u001b[0m\u001b[1;33m[\u001b[0m\u001b[1;33m(\u001b[0m\u001b[0mphys_testing\u001b[0m\u001b[1;33m[\u001b[0m\u001b[1;34m'cbsa'\u001b[0m\u001b[1;33m]\u001b[0m \u001b[1;33m==\u001b[0m \u001b[0mcbsa\u001b[0m\u001b[1;33m)\u001b[0m \u001b[1;33m&\u001b[0m \u001b[1;33m(\u001b[0m\u001b[0mphys_testing\u001b[0m\u001b[1;33m[\u001b[0m\u001b[1;34m'hcpcs'\u001b[0m\u001b[1;33m]\u001b[0m \u001b[1;33m==\u001b[0m \u001b[0mhcpcs\u001b[0m\u001b[1;33m)\u001b[0m\u001b[1;33m]\u001b[0m\u001b[1;33m\u001b[0m\u001b[1;33m\u001b[0m\u001b[0m\n\u001b[0m\u001b[0;32m      6\u001b[0m         \u001b[0mmax_value\u001b[0m \u001b[1;33m=\u001b[0m \u001b[0mround\u001b[0m\u001b[1;33m(\u001b[0m\u001b[0mselection\u001b[0m\u001b[1;33m.\u001b[0m\u001b[0mavg_medi_allowed_amt\u001b[0m\u001b[1;33m.\u001b[0m\u001b[0mmax\u001b[0m\u001b[1;33m(\u001b[0m\u001b[1;33m)\u001b[0m\u001b[1;33m,\u001b[0m \u001b[1;36m2\u001b[0m\u001b[1;33m)\u001b[0m\u001b[1;33m\u001b[0m\u001b[1;33m\u001b[0m\u001b[0m\n\u001b[0;32m      7\u001b[0m         \u001b[0mavg_value\u001b[0m \u001b[1;33m=\u001b[0m \u001b[0mround\u001b[0m\u001b[1;33m(\u001b[0m\u001b[0mselection\u001b[0m\u001b[1;33m.\u001b[0m\u001b[0mavg_medi_allowed_amt\u001b[0m\u001b[1;33m.\u001b[0m\u001b[0mmean\u001b[0m\u001b[1;33m(\u001b[0m\u001b[1;33m)\u001b[0m\u001b[1;33m,\u001b[0m \u001b[1;36m2\u001b[0m\u001b[1;33m)\u001b[0m\u001b[1;33m\u001b[0m\u001b[1;33m\u001b[0m\u001b[0m\n",
      "\u001b[1;32m~\\Anaconda3\\lib\\site-packages\\pandas\\core\\ops\\common.py\u001b[0m in \u001b[0;36mnew_method\u001b[1;34m(self, other)\u001b[0m\n\u001b[0;32m     62\u001b[0m         \u001b[0mother\u001b[0m \u001b[1;33m=\u001b[0m \u001b[0mitem_from_zerodim\u001b[0m\u001b[1;33m(\u001b[0m\u001b[0mother\u001b[0m\u001b[1;33m)\u001b[0m\u001b[1;33m\u001b[0m\u001b[1;33m\u001b[0m\u001b[0m\n\u001b[0;32m     63\u001b[0m \u001b[1;33m\u001b[0m\u001b[0m\n\u001b[1;32m---> 64\u001b[1;33m         \u001b[1;32mreturn\u001b[0m \u001b[0mmethod\u001b[0m\u001b[1;33m(\u001b[0m\u001b[0mself\u001b[0m\u001b[1;33m,\u001b[0m \u001b[0mother\u001b[0m\u001b[1;33m)\u001b[0m\u001b[1;33m\u001b[0m\u001b[1;33m\u001b[0m\u001b[0m\n\u001b[0m\u001b[0;32m     65\u001b[0m \u001b[1;33m\u001b[0m\u001b[0m\n\u001b[0;32m     66\u001b[0m     \u001b[1;32mreturn\u001b[0m \u001b[0mnew_method\u001b[0m\u001b[1;33m\u001b[0m\u001b[1;33m\u001b[0m\u001b[0m\n",
      "\u001b[1;32m~\\Anaconda3\\lib\\site-packages\\pandas\\core\\ops\\__init__.py\u001b[0m in \u001b[0;36mwrapper\u001b[1;34m(self, other)\u001b[0m\n\u001b[0;32m    547\u001b[0m         \u001b[0mrvalues\u001b[0m \u001b[1;33m=\u001b[0m \u001b[0mextract_array\u001b[0m\u001b[1;33m(\u001b[0m\u001b[0mother\u001b[0m\u001b[1;33m,\u001b[0m \u001b[0mextract_numpy\u001b[0m\u001b[1;33m=\u001b[0m\u001b[1;32mTrue\u001b[0m\u001b[1;33m)\u001b[0m\u001b[1;33m\u001b[0m\u001b[1;33m\u001b[0m\u001b[0m\n\u001b[0;32m    548\u001b[0m \u001b[1;33m\u001b[0m\u001b[0m\n\u001b[1;32m--> 549\u001b[1;33m         \u001b[0mres_values\u001b[0m \u001b[1;33m=\u001b[0m \u001b[0mlogical_op\u001b[0m\u001b[1;33m(\u001b[0m\u001b[0mlvalues\u001b[0m\u001b[1;33m,\u001b[0m \u001b[0mrvalues\u001b[0m\u001b[1;33m,\u001b[0m \u001b[0mop\u001b[0m\u001b[1;33m)\u001b[0m\u001b[1;33m\u001b[0m\u001b[1;33m\u001b[0m\u001b[0m\n\u001b[0m\u001b[0;32m    550\u001b[0m         \u001b[1;32mreturn\u001b[0m \u001b[0m_construct_result\u001b[0m\u001b[1;33m(\u001b[0m\u001b[0mself\u001b[0m\u001b[1;33m,\u001b[0m \u001b[0mres_values\u001b[0m\u001b[1;33m,\u001b[0m \u001b[0mindex\u001b[0m\u001b[1;33m=\u001b[0m\u001b[0mself\u001b[0m\u001b[1;33m.\u001b[0m\u001b[0mindex\u001b[0m\u001b[1;33m,\u001b[0m \u001b[0mname\u001b[0m\u001b[1;33m=\u001b[0m\u001b[0mres_name\u001b[0m\u001b[1;33m)\u001b[0m\u001b[1;33m\u001b[0m\u001b[1;33m\u001b[0m\u001b[0m\n\u001b[0;32m    551\u001b[0m \u001b[1;33m\u001b[0m\u001b[0m\n",
      "\u001b[1;32m~\\Anaconda3\\lib\\site-packages\\pandas\\core\\ops\\array_ops.py\u001b[0m in \u001b[0;36mlogical_op\u001b[1;34m(left, right, op)\u001b[0m\n\u001b[0;32m    354\u001b[0m         \u001b[1;32mif\u001b[0m \u001b[0misinstance\u001b[0m\u001b[1;33m(\u001b[0m\u001b[0mrvalues\u001b[0m\u001b[1;33m,\u001b[0m \u001b[0mnp\u001b[0m\u001b[1;33m.\u001b[0m\u001b[0mndarray\u001b[0m\u001b[1;33m)\u001b[0m\u001b[1;33m:\u001b[0m\u001b[1;33m\u001b[0m\u001b[1;33m\u001b[0m\u001b[0m\n\u001b[0;32m    355\u001b[0m             \u001b[0mis_other_int_dtype\u001b[0m \u001b[1;33m=\u001b[0m \u001b[0mis_integer_dtype\u001b[0m\u001b[1;33m(\u001b[0m\u001b[0mrvalues\u001b[0m\u001b[1;33m.\u001b[0m\u001b[0mdtype\u001b[0m\u001b[1;33m)\u001b[0m\u001b[1;33m\u001b[0m\u001b[1;33m\u001b[0m\u001b[0m\n\u001b[1;32m--> 356\u001b[1;33m             \u001b[0mrvalues\u001b[0m \u001b[1;33m=\u001b[0m \u001b[0mrvalues\u001b[0m \u001b[1;32mif\u001b[0m \u001b[0mis_other_int_dtype\u001b[0m \u001b[1;32melse\u001b[0m \u001b[0mfill_bool\u001b[0m\u001b[1;33m(\u001b[0m\u001b[0mrvalues\u001b[0m\u001b[1;33m,\u001b[0m \u001b[0mlvalues\u001b[0m\u001b[1;33m)\u001b[0m\u001b[1;33m\u001b[0m\u001b[1;33m\u001b[0m\u001b[0m\n\u001b[0m\u001b[0;32m    357\u001b[0m \u001b[1;33m\u001b[0m\u001b[0m\n\u001b[0;32m    358\u001b[0m         \u001b[1;32melse\u001b[0m\u001b[1;33m:\u001b[0m\u001b[1;33m\u001b[0m\u001b[1;33m\u001b[0m\u001b[0m\n",
      "\u001b[1;32m~\\Anaconda3\\lib\\site-packages\\pandas\\core\\ops\\array_ops.py\u001b[0m in \u001b[0;36mfill_bool\u001b[1;34m(x, left)\u001b[0m\n\u001b[0;32m    334\u001b[0m \u001b[1;33m\u001b[0m\u001b[0m\n\u001b[0;32m    335\u001b[0m         \u001b[1;32mif\u001b[0m \u001b[0mleft\u001b[0m \u001b[1;32mis\u001b[0m \u001b[1;32mNone\u001b[0m \u001b[1;32mor\u001b[0m \u001b[0mis_bool_dtype\u001b[0m\u001b[1;33m(\u001b[0m\u001b[0mleft\u001b[0m\u001b[1;33m.\u001b[0m\u001b[0mdtype\u001b[0m\u001b[1;33m)\u001b[0m\u001b[1;33m:\u001b[0m\u001b[1;33m\u001b[0m\u001b[1;33m\u001b[0m\u001b[0m\n\u001b[1;32m--> 336\u001b[1;33m             \u001b[0mx\u001b[0m \u001b[1;33m=\u001b[0m \u001b[0mx\u001b[0m\u001b[1;33m.\u001b[0m\u001b[0mastype\u001b[0m\u001b[1;33m(\u001b[0m\u001b[0mbool\u001b[0m\u001b[1;33m)\u001b[0m\u001b[1;33m\u001b[0m\u001b[1;33m\u001b[0m\u001b[0m\n\u001b[0m\u001b[0;32m    337\u001b[0m         \u001b[1;32mreturn\u001b[0m \u001b[0mx\u001b[0m\u001b[1;33m\u001b[0m\u001b[1;33m\u001b[0m\u001b[0m\n\u001b[0;32m    338\u001b[0m \u001b[1;33m\u001b[0m\u001b[0m\n",
      "\u001b[1;31mKeyboardInterrupt\u001b[0m: "
     ]
    }
   ],
   "source": [
    "list2 = []\n",
    "\n",
    "for cbsa in phys_testing['cbsa'].unique():\n",
    "    for hcpcs in phys_testing['hcpcs'].unique():\n",
    "        selection = phys_testing[(phys_testing['cbsa'] == cbsa) & (phys_testing['hcpcs'] == hcpcs)]\n",
    "        max_value = round(selection.avg_medi_allowed_amt.max(), 2)\n",
    "        avg_value = round(selection.avg_medi_allowed_amt.mean(), 2)\n",
    "        min_value = round(selection.avg_medi_allowed_amt.min(), 2)\n",
    "        list2.append([cbsa, hcpcs, max_value, avg_value, min_value])"
   ]
  },
  {
   "cell_type": "code",
   "execution_count": 82,
   "metadata": {},
   "outputs": [],
   "source": [
    "list2_df = pd.DataFrame(list2)\n",
    "\n",
    "del list2"
   ]
  },
  {
   "cell_type": "code",
   "execution_count": 87,
   "metadata": {},
   "outputs": [],
   "source": [
    "list2_df.columns = ['cbsa','hcpcs', 'office_max', 'office_avg', 'office_min']"
   ]
  },
  {
   "cell_type": "code",
   "execution_count": 88,
   "metadata": {},
   "outputs": [
    {
     "data": {
      "text/html": [
       "<div>\n",
       "<style scoped>\n",
       "    .dataframe tbody tr th:only-of-type {\n",
       "        vertical-align: middle;\n",
       "    }\n",
       "\n",
       "    .dataframe tbody tr th {\n",
       "        vertical-align: top;\n",
       "    }\n",
       "\n",
       "    .dataframe thead th {\n",
       "        text-align: right;\n",
       "    }\n",
       "</style>\n",
       "<table border=\"1\" class=\"dataframe\">\n",
       "  <thead>\n",
       "    <tr style=\"text-align: right;\">\n",
       "      <th></th>\n",
       "      <th>cbsa</th>\n",
       "      <th>hcpcs</th>\n",
       "      <th>office_max</th>\n",
       "      <th>office_avg</th>\n",
       "      <th>office_min</th>\n",
       "    </tr>\n",
       "  </thead>\n",
       "  <tbody>\n",
       "    <tr>\n",
       "      <th>0</th>\n",
       "      <td>46700</td>\n",
       "      <td>0191T</td>\n",
       "      <td>3549.09</td>\n",
       "      <td>3295.66</td>\n",
       "      <td>3042.24</td>\n",
       "    </tr>\n",
       "    <tr>\n",
       "      <th>1</th>\n",
       "      <td>46700</td>\n",
       "      <td>20610</td>\n",
       "      <td>35.35</td>\n",
       "      <td>30.81</td>\n",
       "      <td>26.26</td>\n",
       "    </tr>\n",
       "    <tr>\n",
       "      <th>2</th>\n",
       "      <td>46700</td>\n",
       "      <td>29823</td>\n",
       "      <td>837.13</td>\n",
       "      <td>837.13</td>\n",
       "      <td>837.13</td>\n",
       "    </tr>\n",
       "    <tr>\n",
       "      <th>3</th>\n",
       "      <td>46700</td>\n",
       "      <td>29824</td>\n",
       "      <td>1016.51</td>\n",
       "      <td>1016.51</td>\n",
       "      <td>1016.51</td>\n",
       "    </tr>\n",
       "    <tr>\n",
       "      <th>4</th>\n",
       "      <td>31900</td>\n",
       "      <td>0191T</td>\n",
       "      <td>2320.99</td>\n",
       "      <td>2320.99</td>\n",
       "      <td>2320.99</td>\n",
       "    </tr>\n",
       "    <tr>\n",
       "      <th>...</th>\n",
       "      <td>...</td>\n",
       "      <td>...</td>\n",
       "      <td>...</td>\n",
       "      <td>...</td>\n",
       "      <td>...</td>\n",
       "    </tr>\n",
       "    <tr>\n",
       "      <th>1627</th>\n",
       "      <td>32900</td>\n",
       "      <td>29824</td>\n",
       "      <td>810.97</td>\n",
       "      <td>810.97</td>\n",
       "      <td>810.97</td>\n",
       "    </tr>\n",
       "    <tr>\n",
       "      <th>1631</th>\n",
       "      <td>16580</td>\n",
       "      <td>29824</td>\n",
       "      <td>720.14</td>\n",
       "      <td>720.14</td>\n",
       "      <td>720.14</td>\n",
       "    </tr>\n",
       "    <tr>\n",
       "      <th>1635</th>\n",
       "      <td>11620</td>\n",
       "      <td>29824</td>\n",
       "      <td>827.61</td>\n",
       "      <td>827.61</td>\n",
       "      <td>827.61</td>\n",
       "    </tr>\n",
       "    <tr>\n",
       "      <th>1639</th>\n",
       "      <td>24940</td>\n",
       "      <td>29824</td>\n",
       "      <td>655.09</td>\n",
       "      <td>655.09</td>\n",
       "      <td>655.09</td>\n",
       "    </tr>\n",
       "    <tr>\n",
       "      <th>1643</th>\n",
       "      <td>47380</td>\n",
       "      <td>29824</td>\n",
       "      <td>742.05</td>\n",
       "      <td>742.05</td>\n",
       "      <td>742.05</td>\n",
       "    </tr>\n",
       "  </tbody>\n",
       "</table>\n",
       "<p>897 rows × 5 columns</p>\n",
       "</div>"
      ],
      "text/plain": [
       "       cbsa  hcpcs  office_max  office_avg  office_min\n",
       "0     46700  0191T     3549.09     3295.66     3042.24\n",
       "1     46700  20610       35.35       30.81       26.26\n",
       "2     46700  29823      837.13      837.13      837.13\n",
       "3     46700  29824     1016.51     1016.51     1016.51\n",
       "4     31900  0191T     2320.99     2320.99     2320.99\n",
       "...     ...    ...         ...         ...         ...\n",
       "1627  32900  29824      810.97      810.97      810.97\n",
       "1631  16580  29824      720.14      720.14      720.14\n",
       "1635  11620  29824      827.61      827.61      827.61\n",
       "1639  24940  29824      655.09      655.09      655.09\n",
       "1643  47380  29824      742.05      742.05      742.05\n",
       "\n",
       "[897 rows x 5 columns]"
      ]
     },
     "execution_count": 88,
     "metadata": {},
     "output_type": "execute_result"
    }
   ],
   "source": [
    "list2_df"
   ]
  },
  {
   "cell_type": "code",
   "execution_count": 85,
   "metadata": {},
   "outputs": [],
   "source": [
    "list2_df = list2_df.dropna(subset=['office_avg'])"
   ]
  },
  {
   "cell_type": "code",
   "execution_count": 266,
   "metadata": {},
   "outputs": [],
   "source": [
    "hosp_office_data = pd.merge(list2_df, hosp_table, how='inner', on = ['cbsa', 'apc'])\n",
    "\n",
    "del list2_df\n",
    "del hosp_table\n",
    "del phys_apc_data"
   ]
  },
  {
   "cell_type": "code",
   "execution_count": 268,
   "metadata": {},
   "outputs": [
    {
     "data": {
      "text/html": [
       "<div>\n",
       "<style scoped>\n",
       "    .dataframe tbody tr th:only-of-type {\n",
       "        vertical-align: middle;\n",
       "    }\n",
       "\n",
       "    .dataframe tbody tr th {\n",
       "        vertical-align: top;\n",
       "    }\n",
       "\n",
       "    .dataframe thead th {\n",
       "        text-align: right;\n",
       "    }\n",
       "</style>\n",
       "<table border=\"1\" class=\"dataframe\">\n",
       "  <thead>\n",
       "    <tr style=\"text-align: right;\">\n",
       "      <th></th>\n",
       "      <th>cbsa</th>\n",
       "      <th>apc</th>\n",
       "      <th>office_max</th>\n",
       "      <th>office_avg</th>\n",
       "      <th>office_min</th>\n",
       "      <th>hosp_max</th>\n",
       "      <th>hosp_avg</th>\n",
       "      <th>hosp_min</th>\n",
       "      <th>region</th>\n",
       "      <th>description</th>\n",
       "    </tr>\n",
       "  </thead>\n",
       "  <tbody>\n",
       "    <tr>\n",
       "      <th>0</th>\n",
       "      <td>27740</td>\n",
       "      <td>5113</td>\n",
       "      <td>1050.94</td>\n",
       "      <td>772.29</td>\n",
       "      <td>597.59</td>\n",
       "      <td>1906.12</td>\n",
       "      <td>1906.12</td>\n",
       "      <td>1906.12</td>\n",
       "      <td>TN - Johnson City</td>\n",
       "      <td>Level 3 Musculoskeletal Procedures</td>\n",
       "    </tr>\n",
       "    <tr>\n",
       "      <th>1</th>\n",
       "      <td>27740</td>\n",
       "      <td>5114</td>\n",
       "      <td>2211.67</td>\n",
       "      <td>2211.67</td>\n",
       "      <td>2211.67</td>\n",
       "      <td>4285.93</td>\n",
       "      <td>4207.59</td>\n",
       "      <td>4129.25</td>\n",
       "      <td>TN - Johnson City</td>\n",
       "      <td>Level 4 Musculoskeletal Procedures</td>\n",
       "    </tr>\n",
       "    <tr>\n",
       "      <th>2</th>\n",
       "      <td>27740</td>\n",
       "      <td>5464</td>\n",
       "      <td>19140.93</td>\n",
       "      <td>19140.93</td>\n",
       "      <td>19140.93</td>\n",
       "      <td>21335.92</td>\n",
       "      <td>21335.92</td>\n",
       "      <td>21335.92</td>\n",
       "      <td>TN - Johnson City</td>\n",
       "      <td>Level 4 Neurostimulator and Related Procedures</td>\n",
       "    </tr>\n",
       "    <tr>\n",
       "      <th>3</th>\n",
       "      <td>27740</td>\n",
       "      <td>5491</td>\n",
       "      <td>837.80</td>\n",
       "      <td>825.64</td>\n",
       "      <td>812.00</td>\n",
       "      <td>1497.46</td>\n",
       "      <td>1497.46</td>\n",
       "      <td>1497.46</td>\n",
       "      <td>TN - Johnson City</td>\n",
       "      <td>Level 1 Intraocular Procedures</td>\n",
       "    </tr>\n",
       "    <tr>\n",
       "      <th>4</th>\n",
       "      <td>27740</td>\n",
       "      <td>5073</td>\n",
       "      <td>889.35</td>\n",
       "      <td>889.35</td>\n",
       "      <td>889.35</td>\n",
       "      <td>1764.02</td>\n",
       "      <td>1764.02</td>\n",
       "      <td>1764.02</td>\n",
       "      <td>TN - Johnson City</td>\n",
       "      <td>Level 3 Excision/ Biopsy/ Incision and Drainage</td>\n",
       "    </tr>\n",
       "    <tr>\n",
       "      <th>...</th>\n",
       "      <td>...</td>\n",
       "      <td>...</td>\n",
       "      <td>...</td>\n",
       "      <td>...</td>\n",
       "      <td>...</td>\n",
       "      <td>...</td>\n",
       "      <td>...</td>\n",
       "      <td>...</td>\n",
       "      <td>...</td>\n",
       "      <td>...</td>\n",
       "    </tr>\n",
       "    <tr>\n",
       "      <th>4845</th>\n",
       "      <td>21820</td>\n",
       "      <td>5491</td>\n",
       "      <td>1010.83</td>\n",
       "      <td>1005.72</td>\n",
       "      <td>1000.62</td>\n",
       "      <td>2212.06</td>\n",
       "      <td>2212.06</td>\n",
       "      <td>2212.06</td>\n",
       "      <td>AK - Anchorage</td>\n",
       "      <td>Level 1 Intraocular Procedures</td>\n",
       "    </tr>\n",
       "    <tr>\n",
       "      <th>4846</th>\n",
       "      <td>34260</td>\n",
       "      <td>5113</td>\n",
       "      <td>1052.65</td>\n",
       "      <td>852.70</td>\n",
       "      <td>596.51</td>\n",
       "      <td>2275.25</td>\n",
       "      <td>2275.25</td>\n",
       "      <td>2275.25</td>\n",
       "      <td>MO - Springfield</td>\n",
       "      <td>Level 3 Musculoskeletal Procedures</td>\n",
       "    </tr>\n",
       "    <tr>\n",
       "      <th>4847</th>\n",
       "      <td>34260</td>\n",
       "      <td>5114</td>\n",
       "      <td>2288.29</td>\n",
       "      <td>2183.22</td>\n",
       "      <td>2078.14</td>\n",
       "      <td>4824.46</td>\n",
       "      <td>4824.46</td>\n",
       "      <td>4824.46</td>\n",
       "      <td>MO - Springfield</td>\n",
       "      <td>Level 4 Musculoskeletal Procedures</td>\n",
       "    </tr>\n",
       "    <tr>\n",
       "      <th>4848</th>\n",
       "      <td>34260</td>\n",
       "      <td>5431</td>\n",
       "      <td>668.70</td>\n",
       "      <td>644.60</td>\n",
       "      <td>620.49</td>\n",
       "      <td>1454.97</td>\n",
       "      <td>1454.97</td>\n",
       "      <td>1454.97</td>\n",
       "      <td>MO - Springfield</td>\n",
       "      <td>Level 1 Nerve Procedures</td>\n",
       "    </tr>\n",
       "    <tr>\n",
       "      <th>4849</th>\n",
       "      <td>34260</td>\n",
       "      <td>5112</td>\n",
       "      <td>500.54</td>\n",
       "      <td>439.37</td>\n",
       "      <td>378.19</td>\n",
       "      <td>1085.76</td>\n",
       "      <td>1085.76</td>\n",
       "      <td>1085.76</td>\n",
       "      <td>MO - Springfield</td>\n",
       "      <td>Level 2 Musculoskeletal Procedures</td>\n",
       "    </tr>\n",
       "  </tbody>\n",
       "</table>\n",
       "<p>4850 rows × 10 columns</p>\n",
       "</div>"
      ],
      "text/plain": [
       "       cbsa   apc  office_max  office_avg  office_min  hosp_max  hosp_avg  \\\n",
       "0     27740  5113     1050.94      772.29      597.59   1906.12   1906.12   \n",
       "1     27740  5114     2211.67     2211.67     2211.67   4285.93   4207.59   \n",
       "2     27740  5464    19140.93    19140.93    19140.93  21335.92  21335.92   \n",
       "3     27740  5491      837.80      825.64      812.00   1497.46   1497.46   \n",
       "4     27740  5073      889.35      889.35      889.35   1764.02   1764.02   \n",
       "...     ...   ...         ...         ...         ...       ...       ...   \n",
       "4845  21820  5491     1010.83     1005.72     1000.62   2212.06   2212.06   \n",
       "4846  34260  5113     1052.65      852.70      596.51   2275.25   2275.25   \n",
       "4847  34260  5114     2288.29     2183.22     2078.14   4824.46   4824.46   \n",
       "4848  34260  5431      668.70      644.60      620.49   1454.97   1454.97   \n",
       "4849  34260  5112      500.54      439.37      378.19   1085.76   1085.76   \n",
       "\n",
       "      hosp_min             region  \\\n",
       "0      1906.12  TN - Johnson City   \n",
       "1      4129.25  TN - Johnson City   \n",
       "2     21335.92  TN - Johnson City   \n",
       "3      1497.46  TN - Johnson City   \n",
       "4      1764.02  TN - Johnson City   \n",
       "...        ...                ...   \n",
       "4845   2212.06     AK - Anchorage   \n",
       "4846   2275.25   MO - Springfield   \n",
       "4847   4824.46   MO - Springfield   \n",
       "4848   1454.97   MO - Springfield   \n",
       "4849   1085.76   MO - Springfield   \n",
       "\n",
       "                                          description  \n",
       "0                  Level 3 Musculoskeletal Procedures  \n",
       "1                  Level 4 Musculoskeletal Procedures  \n",
       "2      Level 4 Neurostimulator and Related Procedures  \n",
       "3                      Level 1 Intraocular Procedures  \n",
       "4     Level 3 Excision/ Biopsy/ Incision and Drainage  \n",
       "...                                               ...  \n",
       "4845                   Level 1 Intraocular Procedures  \n",
       "4846               Level 3 Musculoskeletal Procedures  \n",
       "4847               Level 4 Musculoskeletal Procedures  \n",
       "4848                         Level 1 Nerve Procedures  \n",
       "4849               Level 2 Musculoskeletal Procedures  \n",
       "\n",
       "[4850 rows x 10 columns]"
      ]
     },
     "execution_count": 268,
     "metadata": {},
     "output_type": "execute_result"
    }
   ],
   "source": [
    "hosp_office_data"
   ]
  },
  {
   "cell_type": "code",
   "execution_count": 96,
   "metadata": {
    "scrolled": true
   },
   "outputs": [
    {
     "name": "stdout",
     "output_type": "stream",
     "text": [
      "Region =  AL - Dothan\n",
      "Procedure =  Level 2 Excision/ Biopsy/ Incision and Drainage\n",
      "\n",
      "Max =  1102.92\n",
      "Mean =  1028.73\n",
      "Min =  986.77\n"
     ]
    }
   ],
   "source": [
    "# Selcting a cbsa and a apc and returing the max, mean, and min values for those selections.\n",
    "\n",
    "selection = hosp_payments_cbsa[(hosp_payments_cbsa['cbsa'] == 20020) & (hosp_payments_cbsa['apc'] == 5072)]\n",
    "max_value = round(selection.avg_medi_allowed_amt.max(), 2)\n",
    "avg_value = round(selection.avg_medi_allowed_amt.mean(), 2)\n",
    "min_value = round(selection.avg_medi_allowed_amt.min(), 2)\n",
    "\n",
    "print('Region = ', selection['region'][0])\n",
    "print('Procedure = ', selection['description'][0])\n",
    "print()\n",
    "print('Max = ', max_value)\n",
    "print('Mean = ', avg_value)\n",
    "print('Min = ', min_value)"
   ]
  }
 ],
 "metadata": {
  "kernelspec": {
   "display_name": "Python 3",
   "language": "python",
   "name": "python3"
  },
  "language_info": {
   "codemirror_mode": {
    "name": "ipython",
    "version": 3
   },
   "file_extension": ".py",
   "mimetype": "text/x-python",
   "name": "python",
   "nbconvert_exporter": "python",
   "pygments_lexer": "ipython3",
   "version": "3.7.6"
  }
 },
 "nbformat": 4,
 "nbformat_minor": 4
}
