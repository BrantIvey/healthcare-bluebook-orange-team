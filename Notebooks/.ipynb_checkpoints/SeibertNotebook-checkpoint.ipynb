{
 "cells": [
  {
   "attachments": {},
   "cell_type": "markdown",
   "metadata": {},
   "source": [
    "Data from:\n",
    "\n",
    "Physician & Other Supplier Payments - Detailed Data\n",
    "https://www.cms.gov/Research-Statistics-Data-and-Systems/Statistics-Trends-and-Reports/Medicare-Provider-Charge-Data/Physician-and-Other-Supplier2017\n",
    "\n",
    "Hospital Outpatient - Detailed Data\n",
    "https://www.cms.gov/Research-Statistics-Data-and-Systems/Statistics-Trends-and-Reports/Medicare-Provider-Charge-Data/Outpatient\n",
    "\n",
    "APC to CPT/HCPCS crosswalk - Addendum B – January 2020\n",
    "https://www.cms.gov/Medicare/Medicare-Fee-for-Service-Payment/HospitalOutpatientPPS/Addendum-A-and-Addendum-B-Updates\n",
    "\n",
    "Zip Code to CBSA\n",
    "https://www.huduser.gov/portal/datasets/usps_crosswalk.html![image.png](attachment:image.png)"
   ]
  },
  {
   "cell_type": "code",
   "execution_count": null,
   "metadata": {},
   "outputs": [],
   "source": [
    "import pandas as pd\n",
    "import numpy as np\n",
    "import matplotlib.pyplot as plt\n",
    "import seaborn as sns"
   ]
  },
  {
   "cell_type": "code",
   "execution_count": 2,
   "metadata": {},
   "outputs": [],
   "source": [
    "%matplotlib inline"
   ]
  },
  {
   "cell_type": "code",
   "execution_count": 3,
   "metadata": {},
   "outputs": [],
   "source": [
    "pd.options.display.max_columns = 25"
   ]
  },
  {
   "cell_type": "code",
   "execution_count": 4,
   "metadata": {},
   "outputs": [],
   "source": [
    "pd.options.display.max_rows = 25"
   ]
  },
  {
   "cell_type": "code",
   "execution_count": 5,
   "metadata": {
    "scrolled": true
   },
   "outputs": [],
   "source": [
    "# Reading in the CBSA to ZIP code crosswalk\n",
    "\n",
    "cbsa_to_zip = pd.read_excel('../data/CBSA_ZIP_032020.xlsx', usecols = ['CBSA', 'ZIP'])"
   ]
  },
  {
   "cell_type": "code",
   "execution_count": 6,
   "metadata": {
    "scrolled": true
   },
   "outputs": [],
   "source": [
    "#Reading in HCPCS to APC crosswalk with Short Descriptor column\n",
    "\n",
    "hcpcs_to_apc = pd.read_excel('../data/Addendum_B/2020_january_web_addendum_b.12312019.xlsx', header = 2, usecols = ['HCPCS Code', 'Short Descriptor', 'APC '])"
   ]
  },
  {
   "cell_type": "code",
   "execution_count": 7,
   "metadata": {
    "scrolled": true
   },
   "outputs": [],
   "source": [
    "#Reading in the Physician & Other Supplier Payments while discarding some columns\n",
    "\n",
    "phys_other_payments = pd.read_csv('../data/Medicare_Provider_Util_Payment_PUF_CY2017/Medicare_Provider_Util_Payment_PUF_CY2017.txt', sep='\\t', skiprows = [1], usecols = lambda column : column not in ['average_submitted_chrg_amt', 'average_Medicare_payment_amt', 'average_Medicare_standard_amt', 'hcpcs_drug_indicator', 'medicare_participation_indicator'], low_memory=False)"
   ]
  },
  {
   "cell_type": "code",
   "execution_count": 8,
   "metadata": {},
   "outputs": [],
   "source": [
    "# Reading in the Hospital Outpatient\n",
    "\n",
    "column_exclude_list = ['Outlier\\nComprehensive\\nAPC\\nServices', 'Average\\nMedicare\\nOutlier\\nAmount', 'Average\\nEstimated\\nTotal\\nSubmitted\\nCharges', 'Average\\nMedicare\\nPayment\\nAmount']\n",
    "\n",
    "hosp_payments = pd.read_excel('../data/MUP_OHP_R19_P04_V10_D17_APC_Provider/MUP_OHP_R19_P04_V10_D17_APC_Provider.xlsx', header = 5, usecols = lambda column : column not in column_exclude_list)"
   ]
  },
  {
   "cell_type": "code",
   "execution_count": 9,
   "metadata": {},
   "outputs": [],
   "source": [
    "hcpcs_to_apc.columns = ['hcpcs', 'descriptor', 'apc']"
   ]
  },
  {
   "cell_type": "code",
   "execution_count": 10,
   "metadata": {},
   "outputs": [],
   "source": [
    "cbsa_to_zip.columns = ['cbsa', 'zip']"
   ]
  },
  {
   "cell_type": "code",
   "execution_count": 11,
   "metadata": {
    "scrolled": true
   },
   "outputs": [],
   "source": [
    "phys_other_payments.columns = ['npi', 'last_org_name', 'first_name', 'mi', 'creds', 'gender', 'entity', 'street1', 'street2' , 'city', 'zip','state', 'country', 'provider_type', 'service_loc', 'hcpcs', 'description', 'services_cnt', 'benefic_cnt', 'benefic_d_cnt', 'avg_medi_allowed_amt']"
   ]
  },
  {
   "cell_type": "code",
   "execution_count": 12,
   "metadata": {},
   "outputs": [],
   "source": [
    "phys_other_payments['zip'] = phys_other_payments['zip'].str[:5]"
   ]
  },
  {
   "cell_type": "code",
   "execution_count": 15,
   "metadata": {
    "scrolled": true
   },
   "outputs": [],
   "source": [
    "# Dropping non US\n",
    "\n",
    "phys_other_payments = phys_other_payments[phys_other_payments.country == 'US']"
   ]
  },
  {
   "cell_type": "code",
   "execution_count": 16,
   "metadata": {
    "scrolled": true
   },
   "outputs": [],
   "source": [
    "# Converting zip as object to zip as numeric\n",
    "\n",
    "phys_other_payments['zip'] = pd.to_numeric(phys_other_payments['zip'])"
   ]
  },
  {
   "cell_type": "code",
   "execution_count": 34,
   "metadata": {},
   "outputs": [],
   "source": [
    "# Putting leading zero back on zips\n",
    "\n",
    "phys_other_payments['zip'] = phys_other_payments['zip'].apply(lambda x: '{0:0>5}'.format(x))"
   ]
  },
  {
   "cell_type": "code",
   "execution_count": 46,
   "metadata": {},
   "outputs": [],
   "source": [
    "# Putting leading zero back on zips\n",
    "\n",
    "cbsa_to_zip['zip'] = cbsa_to_zip['zip'].apply(lambda x: '{0:0>5}'.format(x))"
   ]
  },
  {
   "cell_type": "code",
   "execution_count": 49,
   "metadata": {
    "scrolled": false
   },
   "outputs": [],
   "source": [
    "# Merging CBSA to Zip in physcian billing data\n",
    "\n",
    "phys_w_cbsa = pd.merge(phys_other_payments, cbsa_to_zip, how='left', on = ['zip'])"
   ]
  },
  {
   "cell_type": "code",
   "execution_count": 58,
   "metadata": {},
   "outputs": [],
   "source": [
    "# Making a dataframe with only office entities to compare with the Hospital Data.\n",
    "\n",
    "phys_w_cbsa_office = phys_w_cbsa[phys_w_cbsa['entity'] == 'O']"
   ]
  },
  {
   "cell_type": "code",
   "execution_count": 65,
   "metadata": {},
   "outputs": [],
   "source": [
    "# Dropping NaN values in the apc column of hcpcs to apc crosswalk\n",
    "\n",
    "hcpcs_to_apc = hcpcs_to_apc.dropna(subset=['apc'])"
   ]
  },
  {
   "cell_type": "code",
   "execution_count": 69,
   "metadata": {},
   "outputs": [],
   "source": [
    "hosp_payments.columns = ['provider_id', 'provider_name', 'street', 'city', 'state', 'zip', 'region', 'apc', 'description', 'benefic_cnt', 'services_cnt', 'avg_medi_allowed_amt']"
   ]
  },
  {
   "cell_type": "code",
   "execution_count": 72,
   "metadata": {},
   "outputs": [],
   "source": [
    "# Putting leading zero back on zips\n",
    "\n",
    "hosp_payments['zip'] = hosp_payments['zip'].apply(lambda x: '{0:0>5}'.format(x))"
   ]
  },
  {
   "cell_type": "code",
   "execution_count": 78,
   "metadata": {},
   "outputs": [],
   "source": [
    "# Adding matching APC code to HCPCS in the office dataframe, keeping only rows that have an apc match\n",
    "\n",
    "phys_w_cbsa_office_apc = pd.merge(phys_w_cbsa_office, hcpcs_to_apc, how = 'inner', on = ['hcpcs'])"
   ]
  },
  {
   "cell_type": "code",
   "execution_count": 82,
   "metadata": {},
   "outputs": [],
   "source": [
    "phys_apc_data = phys_w_cbsa_office_apc.drop(['first_name', 'mi', 'creds', 'gender'], axis = 1)"
   ]
  },
  {
   "cell_type": "code",
   "execution_count": 89,
   "metadata": {},
   "outputs": [],
   "source": [
    "# Adding CBSA column to hospital data, keeping only rows with a CBSA\n",
    "\n",
    "hosp_payments_cbsa = pd.merge(hosp_payments, cbsa_to_zip, how = 'inner', on = ['zip'])"
   ]
  },
  {
   "cell_type": "code",
   "execution_count": 135,
   "metadata": {
    "scrolled": true
   },
   "outputs": [
    {
     "name": "stdout",
     "output_type": "stream",
     "text": [
      "Region =  AL - Dothan\n",
      "Procedure =  Level 2 Excision/ Biopsy/ Incision and Drainage\n",
      "\n",
      "Max =  1102.92\n",
      "Mean =  1028.73\n",
      "Min =  986.77\n"
     ]
    }
   ],
   "source": [
    "# Selcting a cbsa and a apc and returing the max, mean, and min values for those selections.\n",
    "\n",
    "selection = hosp_payments_cbsa[(hosp_payments_cbsa['cbsa'] == 20020) & (hosp_payments_cbsa['apc'] == 5072)]\n",
    "max_value = round(selection.avg_medi_allowed_amt.max(), 2)\n",
    "avg_value = round(selection.avg_medi_allowed_amt.mean(), 2)\n",
    "min_value = round(selection.avg_medi_allowed_amt.min(), 2)\n",
    "\n",
    "print('Region = ', selection['region'][0])\n",
    "print('Procedure = ', selection['description'][0])\n",
    "print()\n",
    "print('Max = ', max_value)\n",
    "print('Mean = ', avg_value)\n",
    "print('Min = ', min_value)"
   ]
  },
  {
   "cell_type": "code",
   "execution_count": 83,
   "metadata": {
    "scrolled": true
   },
   "outputs": [
    {
     "data": {
      "text/html": [
       "<div>\n",
       "<style scoped>\n",
       "    .dataframe tbody tr th:only-of-type {\n",
       "        vertical-align: middle;\n",
       "    }\n",
       "\n",
       "    .dataframe tbody tr th {\n",
       "        vertical-align: top;\n",
       "    }\n",
       "\n",
       "    .dataframe thead th {\n",
       "        text-align: right;\n",
       "    }\n",
       "</style>\n",
       "<table border=\"1\" class=\"dataframe\">\n",
       "  <thead>\n",
       "    <tr style=\"text-align: right;\">\n",
       "      <th></th>\n",
       "      <th>npi</th>\n",
       "      <th>last_org_name</th>\n",
       "      <th>entity</th>\n",
       "      <th>street1</th>\n",
       "      <th>street2</th>\n",
       "      <th>city</th>\n",
       "      <th>zip</th>\n",
       "      <th>state</th>\n",
       "      <th>country</th>\n",
       "      <th>provider_type</th>\n",
       "      <th>service_loc</th>\n",
       "      <th>hcpcs</th>\n",
       "      <th>description</th>\n",
       "      <th>services_cnt</th>\n",
       "      <th>benefic_cnt</th>\n",
       "      <th>benefic_d_cnt</th>\n",
       "      <th>avg_medi_allowed_amt</th>\n",
       "      <th>cbsa</th>\n",
       "      <th>descriptor</th>\n",
       "      <th>apc</th>\n",
       "    </tr>\n",
       "  </thead>\n",
       "  <tbody>\n",
       "    <tr>\n",
       "      <th>0</th>\n",
       "      <td>1003001322</td>\n",
       "      <td>NODAWAY COUNTY HEALTH CENTER</td>\n",
       "      <td>O</td>\n",
       "      <td>515 N MAIN ST</td>\n",
       "      <td>NaN</td>\n",
       "      <td>MARYVILLE</td>\n",
       "      <td>64468</td>\n",
       "      <td>MO</td>\n",
       "      <td>US</td>\n",
       "      <td>Mass Immunizer Roster Biller</td>\n",
       "      <td>O</td>\n",
       "      <td>G0008</td>\n",
       "      <td>Administration of influenza virus vaccine</td>\n",
       "      <td>203.0</td>\n",
       "      <td>202</td>\n",
       "      <td>203</td>\n",
       "      <td>23.040000</td>\n",
       "      <td>32340.0</td>\n",
       "      <td>Admin influenza virus vac</td>\n",
       "      <td>5691.0</td>\n",
       "    </tr>\n",
       "    <tr>\n",
       "      <th>1</th>\n",
       "      <td>1003002254</td>\n",
       "      <td>WALGREEN CO.</td>\n",
       "      <td>O</td>\n",
       "      <td>5104 BOBBY HICKS HWY</td>\n",
       "      <td>NaN</td>\n",
       "      <td>GRAY</td>\n",
       "      <td>37615</td>\n",
       "      <td>TN</td>\n",
       "      <td>US</td>\n",
       "      <td>Centralized Flu</td>\n",
       "      <td>O</td>\n",
       "      <td>G0008</td>\n",
       "      <td>Administration of influenza virus vaccine</td>\n",
       "      <td>162.0</td>\n",
       "      <td>161</td>\n",
       "      <td>162</td>\n",
       "      <td>19.400000</td>\n",
       "      <td>27740.0</td>\n",
       "      <td>Admin influenza virus vac</td>\n",
       "      <td>5691.0</td>\n",
       "    </tr>\n",
       "    <tr>\n",
       "      <th>2</th>\n",
       "      <td>1003002254</td>\n",
       "      <td>WALGREEN CO.</td>\n",
       "      <td>O</td>\n",
       "      <td>5104 BOBBY HICKS HWY</td>\n",
       "      <td>NaN</td>\n",
       "      <td>GRAY</td>\n",
       "      <td>37615</td>\n",
       "      <td>TN</td>\n",
       "      <td>US</td>\n",
       "      <td>Centralized Flu</td>\n",
       "      <td>O</td>\n",
       "      <td>G0008</td>\n",
       "      <td>Administration of influenza virus vaccine</td>\n",
       "      <td>162.0</td>\n",
       "      <td>161</td>\n",
       "      <td>162</td>\n",
       "      <td>19.400000</td>\n",
       "      <td>28700.0</td>\n",
       "      <td>Admin influenza virus vac</td>\n",
       "      <td>5691.0</td>\n",
       "    </tr>\n",
       "    <tr>\n",
       "      <th>3</th>\n",
       "      <td>1003004938</td>\n",
       "      <td>CVS STATE CAPITAL, L.L.C.</td>\n",
       "      <td>O</td>\n",
       "      <td>446 SABATTUS ST</td>\n",
       "      <td>NaN</td>\n",
       "      <td>LEWISTON</td>\n",
       "      <td>04240</td>\n",
       "      <td>ME</td>\n",
       "      <td>US</td>\n",
       "      <td>Mass Immunizer Roster Biller</td>\n",
       "      <td>O</td>\n",
       "      <td>G0008</td>\n",
       "      <td>Administration of influenza virus vaccine</td>\n",
       "      <td>180.0</td>\n",
       "      <td>180</td>\n",
       "      <td>180</td>\n",
       "      <td>19.959778</td>\n",
       "      <td>30340.0</td>\n",
       "      <td>Admin influenza virus vac</td>\n",
       "      <td>5691.0</td>\n",
       "    </tr>\n",
       "    <tr>\n",
       "      <th>4</th>\n",
       "      <td>1003005059</td>\n",
       "      <td>TORRINGTON AREA HEALTH DISTRICT</td>\n",
       "      <td>O</td>\n",
       "      <td>350 MAIN ST STE A</td>\n",
       "      <td>NaN</td>\n",
       "      <td>TORRINGTON</td>\n",
       "      <td>06790</td>\n",
       "      <td>CT</td>\n",
       "      <td>US</td>\n",
       "      <td>Mass Immunizer Roster Biller</td>\n",
       "      <td>O</td>\n",
       "      <td>G0008</td>\n",
       "      <td>Administration of influenza virus vaccine</td>\n",
       "      <td>162.0</td>\n",
       "      <td>162</td>\n",
       "      <td>162</td>\n",
       "      <td>28.340000</td>\n",
       "      <td>45860.0</td>\n",
       "      <td>Admin influenza virus vac</td>\n",
       "      <td>5691.0</td>\n",
       "    </tr>\n",
       "    <tr>\n",
       "      <th>...</th>\n",
       "      <td>...</td>\n",
       "      <td>...</td>\n",
       "      <td>...</td>\n",
       "      <td>...</td>\n",
       "      <td>...</td>\n",
       "      <td>...</td>\n",
       "      <td>...</td>\n",
       "      <td>...</td>\n",
       "      <td>...</td>\n",
       "      <td>...</td>\n",
       "      <td>...</td>\n",
       "      <td>...</td>\n",
       "      <td>...</td>\n",
       "      <td>...</td>\n",
       "      <td>...</td>\n",
       "      <td>...</td>\n",
       "      <td>...</td>\n",
       "      <td>...</td>\n",
       "      <td>...</td>\n",
       "      <td>...</td>\n",
       "    </tr>\n",
       "    <tr>\n",
       "      <th>190107</th>\n",
       "      <td>1972824142</td>\n",
       "      <td>ILLINOIS PROTON CENTER LLC</td>\n",
       "      <td>O</td>\n",
       "      <td>4455 WEAVER PKWY</td>\n",
       "      <td>NaN</td>\n",
       "      <td>WARRENVILLE</td>\n",
       "      <td>60555</td>\n",
       "      <td>IL</td>\n",
       "      <td>US</td>\n",
       "      <td>Radiation Therapy Center</td>\n",
       "      <td>O</td>\n",
       "      <td>77525</td>\n",
       "      <td>Proton treatment delivery, complex</td>\n",
       "      <td>923.0</td>\n",
       "      <td>40</td>\n",
       "      <td>923</td>\n",
       "      <td>986.350000</td>\n",
       "      <td>16980.0</td>\n",
       "      <td>Proton treatment complex</td>\n",
       "      <td>5625.0</td>\n",
       "    </tr>\n",
       "    <tr>\n",
       "      <th>190108</th>\n",
       "      <td>1972868420</td>\n",
       "      <td>ADVANCE EYECARE ASSOCIATES, O.D., P.A.</td>\n",
       "      <td>O</td>\n",
       "      <td>15235 JOHN J DELANEY DR STE H</td>\n",
       "      <td>NaN</td>\n",
       "      <td>CHARLOTTE</td>\n",
       "      <td>28277</td>\n",
       "      <td>NC</td>\n",
       "      <td>US</td>\n",
       "      <td>Clinic or Group Practice</td>\n",
       "      <td>O</td>\n",
       "      <td>92014</td>\n",
       "      <td>Eye and medical examination for diagnosis and ...</td>\n",
       "      <td>19.0</td>\n",
       "      <td>19</td>\n",
       "      <td>19</td>\n",
       "      <td>117.310000</td>\n",
       "      <td>16740.0</td>\n",
       "      <td>Eye exam&amp;tx estab pt 1/&gt;vst</td>\n",
       "      <td>5012.0</td>\n",
       "    </tr>\n",
       "    <tr>\n",
       "      <th>190109</th>\n",
       "      <td>1982676771</td>\n",
       "      <td>SHREVEPORT ENDOSCOPY CENTER, A MEDICAL CORPORA...</td>\n",
       "      <td>O</td>\n",
       "      <td>3217 MABEL ST</td>\n",
       "      <td>NaN</td>\n",
       "      <td>SHREVEPORT</td>\n",
       "      <td>71103</td>\n",
       "      <td>LA</td>\n",
       "      <td>US</td>\n",
       "      <td>Ambulatory Surgical Center</td>\n",
       "      <td>F</td>\n",
       "      <td>49082</td>\n",
       "      <td>Drainage of fluid from abdominal cavity</td>\n",
       "      <td>54.0</td>\n",
       "      <td>24</td>\n",
       "      <td>54</td>\n",
       "      <td>357.956296</td>\n",
       "      <td>43340.0</td>\n",
       "      <td>Abd paracentesis</td>\n",
       "      <td>5301.0</td>\n",
       "    </tr>\n",
       "    <tr>\n",
       "      <th>190110</th>\n",
       "      <td>1992182703</td>\n",
       "      <td>BRACHYTHERAPY CENTERS OF TEXAS LLC</td>\n",
       "      <td>O</td>\n",
       "      <td>6513 PRESTON RD</td>\n",
       "      <td>SUITE #300</td>\n",
       "      <td>PLANO</td>\n",
       "      <td>75024</td>\n",
       "      <td>TX</td>\n",
       "      <td>US</td>\n",
       "      <td>Radiation Therapy Center</td>\n",
       "      <td>O</td>\n",
       "      <td>0394T</td>\n",
       "      <td>High dose rate electronic brachytherapy</td>\n",
       "      <td>106.0</td>\n",
       "      <td>13</td>\n",
       "      <td>82</td>\n",
       "      <td>213.122736</td>\n",
       "      <td>19100.0</td>\n",
       "      <td>Hdr elctrnc skn surf brchytx</td>\n",
       "      <td>5622.0</td>\n",
       "    </tr>\n",
       "    <tr>\n",
       "      <th>190111</th>\n",
       "      <td>1992752224</td>\n",
       "      <td>SPRINGFIELD CLINIC LLP</td>\n",
       "      <td>O</td>\n",
       "      <td>1025 S 6TH ST</td>\n",
       "      <td>NaN</td>\n",
       "      <td>SPRINGFIELD</td>\n",
       "      <td>62703</td>\n",
       "      <td>IL</td>\n",
       "      <td>US</td>\n",
       "      <td>Ambulatory Surgical Center</td>\n",
       "      <td>F</td>\n",
       "      <td>32550</td>\n",
       "      <td>Insertion of permanent catheter for drainage o...</td>\n",
       "      <td>11.0</td>\n",
       "      <td>11</td>\n",
       "      <td>11</td>\n",
       "      <td>1399.040000</td>\n",
       "      <td>44100.0</td>\n",
       "      <td>Insert pleural cath</td>\n",
       "      <td>5341.0</td>\n",
       "    </tr>\n",
       "  </tbody>\n",
       "</table>\n",
       "<p>190112 rows × 20 columns</p>\n",
       "</div>"
      ],
      "text/plain": [
       "               npi                                      last_org_name entity  \\\n",
       "0       1003001322                       NODAWAY COUNTY HEALTH CENTER      O   \n",
       "1       1003002254                                       WALGREEN CO.      O   \n",
       "2       1003002254                                       WALGREEN CO.      O   \n",
       "3       1003004938                          CVS STATE CAPITAL, L.L.C.      O   \n",
       "4       1003005059                    TORRINGTON AREA HEALTH DISTRICT      O   \n",
       "...            ...                                                ...    ...   \n",
       "190107  1972824142                         ILLINOIS PROTON CENTER LLC      O   \n",
       "190108  1972868420             ADVANCE EYECARE ASSOCIATES, O.D., P.A.      O   \n",
       "190109  1982676771  SHREVEPORT ENDOSCOPY CENTER, A MEDICAL CORPORA...      O   \n",
       "190110  1992182703                 BRACHYTHERAPY CENTERS OF TEXAS LLC      O   \n",
       "190111  1992752224                             SPRINGFIELD CLINIC LLP      O   \n",
       "\n",
       "                              street1     street2         city    zip state  \\\n",
       "0                       515 N MAIN ST         NaN    MARYVILLE  64468    MO   \n",
       "1                5104 BOBBY HICKS HWY         NaN         GRAY  37615    TN   \n",
       "2                5104 BOBBY HICKS HWY         NaN         GRAY  37615    TN   \n",
       "3                     446 SABATTUS ST         NaN     LEWISTON  04240    ME   \n",
       "4                   350 MAIN ST STE A         NaN   TORRINGTON  06790    CT   \n",
       "...                               ...         ...          ...    ...   ...   \n",
       "190107               4455 WEAVER PKWY         NaN  WARRENVILLE  60555    IL   \n",
       "190108  15235 JOHN J DELANEY DR STE H         NaN    CHARLOTTE  28277    NC   \n",
       "190109                  3217 MABEL ST         NaN   SHREVEPORT  71103    LA   \n",
       "190110                6513 PRESTON RD  SUITE #300        PLANO  75024    TX   \n",
       "190111                  1025 S 6TH ST         NaN  SPRINGFIELD  62703    IL   \n",
       "\n",
       "       country                 provider_type service_loc  hcpcs  \\\n",
       "0           US  Mass Immunizer Roster Biller           O  G0008   \n",
       "1           US               Centralized Flu           O  G0008   \n",
       "2           US               Centralized Flu           O  G0008   \n",
       "3           US  Mass Immunizer Roster Biller           O  G0008   \n",
       "4           US  Mass Immunizer Roster Biller           O  G0008   \n",
       "...        ...                           ...         ...    ...   \n",
       "190107      US      Radiation Therapy Center           O  77525   \n",
       "190108      US      Clinic or Group Practice           O  92014   \n",
       "190109      US    Ambulatory Surgical Center           F  49082   \n",
       "190110      US      Radiation Therapy Center           O  0394T   \n",
       "190111      US    Ambulatory Surgical Center           F  32550   \n",
       "\n",
       "                                              description  services_cnt  \\\n",
       "0               Administration of influenza virus vaccine         203.0   \n",
       "1               Administration of influenza virus vaccine         162.0   \n",
       "2               Administration of influenza virus vaccine         162.0   \n",
       "3               Administration of influenza virus vaccine         180.0   \n",
       "4               Administration of influenza virus vaccine         162.0   \n",
       "...                                                   ...           ...   \n",
       "190107                 Proton treatment delivery, complex         923.0   \n",
       "190108  Eye and medical examination for diagnosis and ...          19.0   \n",
       "190109            Drainage of fluid from abdominal cavity          54.0   \n",
       "190110            High dose rate electronic brachytherapy         106.0   \n",
       "190111  Insertion of permanent catheter for drainage o...          11.0   \n",
       "\n",
       "        benefic_cnt  benefic_d_cnt  avg_medi_allowed_amt     cbsa  \\\n",
       "0               202            203             23.040000  32340.0   \n",
       "1               161            162             19.400000  27740.0   \n",
       "2               161            162             19.400000  28700.0   \n",
       "3               180            180             19.959778  30340.0   \n",
       "4               162            162             28.340000  45860.0   \n",
       "...             ...            ...                   ...      ...   \n",
       "190107           40            923            986.350000  16980.0   \n",
       "190108           19             19            117.310000  16740.0   \n",
       "190109           24             54            357.956296  43340.0   \n",
       "190110           13             82            213.122736  19100.0   \n",
       "190111           11             11           1399.040000  44100.0   \n",
       "\n",
       "                          descriptor     apc  \n",
       "0          Admin influenza virus vac  5691.0  \n",
       "1          Admin influenza virus vac  5691.0  \n",
       "2          Admin influenza virus vac  5691.0  \n",
       "3          Admin influenza virus vac  5691.0  \n",
       "4          Admin influenza virus vac  5691.0  \n",
       "...                              ...     ...  \n",
       "190107      Proton treatment complex  5625.0  \n",
       "190108   Eye exam&tx estab pt 1/>vst  5012.0  \n",
       "190109              Abd paracentesis  5301.0  \n",
       "190110  Hdr elctrnc skn surf brchytx  5622.0  \n",
       "190111           Insert pleural cath  5341.0  \n",
       "\n",
       "[190112 rows x 20 columns]"
      ]
     },
     "execution_count": 83,
     "metadata": {},
     "output_type": "execute_result"
    }
   ],
   "source": [
    "phys_apc_data"
   ]
  }
 ],
 "metadata": {
  "kernelspec": {
   "display_name": "Python 3",
   "language": "python",
   "name": "python3"
  },
  "language_info": {
   "codemirror_mode": {
    "name": "ipython",
    "version": 3
   },
   "file_extension": ".py",
   "mimetype": "text/x-python",
   "name": "python",
   "nbconvert_exporter": "python",
   "pygments_lexer": "ipython3",
   "version": "3.7.6"
  }
 },
 "nbformat": 4,
 "nbformat_minor": 4
}
