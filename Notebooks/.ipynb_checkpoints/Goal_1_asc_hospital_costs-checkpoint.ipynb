{
 "cells": [
  {
   "cell_type": "markdown",
   "metadata": {},
   "source": [
    "Data from:\n",
    "\n",
    "Physician & Other Supplier Payments - Detailed Data\n",
    "https://www.cms.gov/Research-Statistics-Data-and-Systems/Statistics-Trends-and-Reports/Medicare-Provider-Charge-Data/Physician-and-Other-Supplier2017\n",
    "\n",
    "Hospital Outpatient - Detailed Data\n",
    "https://www.cms.gov/Research-Statistics-Data-and-Systems/Statistics-Trends-and-Reports/Medicare-Provider-Charge-Data/Outpatient\n",
    "\n",
    "APC to CPT/HCPCS crosswalk - Addendum B – January 2020\n",
    "https://www.cms.gov/Medicare/Medicare-Fee-for-Service-Payment/HospitalOutpatientPPS/Addendum-A-and-Addendum-B-Updates\n",
    "\n",
    "Zip Code to CBSA\n",
    "https://www.huduser.gov/portal/datasets/usps_crosswalk.html![image.png](attachment:image.png)"
   ]
  },
  {
   "cell_type": "code",
   "execution_count": 1,
   "metadata": {},
   "outputs": [],
   "source": [
    "import pandas as pd\n",
    "import numpy as np\n",
    "import matplotlib.pyplot as plt\n",
    "import seaborn as sns"
   ]
  },
  {
   "cell_type": "code",
   "execution_count": 2,
   "metadata": {},
   "outputs": [],
   "source": [
    "%matplotlib inline"
   ]
  },
  {
   "cell_type": "code",
   "execution_count": 3,
   "metadata": {},
   "outputs": [],
   "source": [
    "pd.options.display.max_columns = 25"
   ]
  },
  {
   "cell_type": "code",
   "execution_count": 4,
   "metadata": {},
   "outputs": [],
   "source": [
    "pd.options.display.max_rows = 25"
   ]
  },
  {
   "cell_type": "code",
   "execution_count": 6,
   "metadata": {
    "scrolled": true
   },
   "outputs": [],
   "source": [
    "# Reading in the CBSA to ZIP code crosswalk\n",
    "\n",
    "cbsa_to_zip = pd.read_excel('../data/CBSA_ZIP_032020.xlsx', \n",
    "                            usecols = ['CBSA', 'ZIP'],\n",
    "                            dtypes={'ZIP':'str'})\n",
    "\n",
    "cbsa_to_zip.columns = ['cbsa', 'zip']"
   ]
  },
  {
   "cell_type": "code",
   "execution_count": 7,
   "metadata": {
    "scrolled": true
   },
   "outputs": [],
   "source": [
    "#Reading in HCPCS to APC crosswalk with Short Descriptor column\n",
    "\n",
    "hcpcs_to_apc = pd.read_excel('../data/Addendum_B/2020_january_web_addendum_b.12312019.xlsx', \n",
    "                             header = 2, usecols = ['HCPCS Code', 'Short Descriptor', 'APC '])\n",
    "\n",
    "hcpcs_to_apc.columns = ['hcpcs', 'descriptor', 'apc']"
   ]
  },
  {
   "cell_type": "code",
   "execution_count": 8,
   "metadata": {
    "scrolled": true
   },
   "outputs": [],
   "source": [
    "#Reading in the Physician & Other Supplier Payments while discarding some columns\n",
    "\n",
    "phys_other_payments = pd.read_csv('../data/Medicare_Provider_Util_Payment_PUF_CY2017/Medicare_Provider_Util_Payment_PUF_CY2017.txt', \n",
    "    sep='\\t', \n",
    "    skiprows = [1], \n",
    "    usecols = lambda column : column not in ['average_submitted_chrg_amt', \n",
    "                                             'average_Medicare_payment_amt', \n",
    "                                             'average_Medicare_standard_amt', \n",
    "                                             'hcpcs_drug_indicator', \n",
    "                                             'medicare_participation_indicator'], \n",
    "    dtype = {'nppes_provider_zip':'str'},\n",
    "    low_memory=False)\n",
    "\n",
    "\n",
    "phys_other_payments.columns = ['npi', 'last_org_name', \n",
    "                               'first_name', 'mi', 'creds', \n",
    "                               'gender', 'entity', 'street1', \n",
    "                               'street2' , 'city', 'zip','state', \n",
    "                               'country', 'provider_type', 'service_loc', \n",
    "                               'hcpcs', 'description', 'services_cnt', \n",
    "                               'benefic_cnt', 'benefic_d_cnt', 'avg_medi_allowed_amt']"
   ]
  },
  {
   "cell_type": "code",
   "execution_count": 9,
   "metadata": {},
   "outputs": [],
   "source": [
    "# Reading in the Hospital Outpatient while discarding some columns\n",
    "\n",
    "column_exclude_list = ['Outlier\\nComprehensive\\nAPC\\nServices', \n",
    "                       'Average\\nMedicare\\nOutlier\\nAmount', \n",
    "                       'Average\\nEstimated\\nTotal\\nSubmitted\\nCharges', \n",
    "                       'Average\\nMedicare\\nPayment\\nAmount']\n",
    "\n",
    "hosp_payments = pd.read_excel('../data/MUP_OHP_R19_P04_V10_D17_APC_Provider/MUP_OHP_R19_P04_V10_D17_APC_Provider.xlsx', \n",
    "                              header = 5, \n",
    "                              usecols = lambda column : column not in column_exclude_list)\n",
    "\n",
    "hosp_payments.columns = ['provider_id', 'provider_name', \n",
    "                         'street', 'city', 'state', 'zip', \n",
    "                         'region', 'apc', 'description', \n",
    "                         'benefic_cnt', 'services_cnt', 'avg_medi_allowed_amt']"
   ]
  },
  {
   "cell_type": "code",
   "execution_count": 10,
   "metadata": {
    "scrolled": true
   },
   "outputs": [],
   "source": [
    "# Dropping non US from Non-Hospital Data\n",
    "\n",
    "phys_other_payments = phys_other_payments[phys_other_payments.country == 'US']"
   ]
  },
  {
   "cell_type": "code",
   "execution_count": 11,
   "metadata": {},
   "outputs": [],
   "source": [
    "# Making a dataframe with only office entities to compare with the Hospital Data.\n",
    "\n",
    "phys_other_payments = phys_other_payments[phys_other_payments['entity'] == 'O']"
   ]
  },
  {
   "cell_type": "code",
   "execution_count": 12,
   "metadata": {},
   "outputs": [],
   "source": [
    "# Making a dataframe with only Ambulatory Surgical Centers\n",
    "\n",
    "phys_other_payments = phys_other_payments[phys_other_payments['provider_type'] == 'Ambulatory Surgical Center']"
   ]
  },
  {
   "cell_type": "code",
   "execution_count": 13,
   "metadata": {
    "scrolled": false
   },
   "outputs": [],
   "source": [
    "phys_other_payments['zip'] = phys_other_payments['zip'].str[:5]"
   ]
  },
  {
   "cell_type": "code",
   "execution_count": 14,
   "metadata": {},
   "outputs": [],
   "source": [
    "# Putting leading zero back on zips\n",
    "\n",
    "cbsa_to_zip['zip'] = cbsa_to_zip['zip'].apply(lambda x: '{0:0>5}'.format(x))"
   ]
  },
  {
   "cell_type": "code",
   "execution_count": 15,
   "metadata": {
    "scrolled": false
   },
   "outputs": [],
   "source": [
    "# Merging CBSA to Zip in Non-Hospital Data\n",
    "\n",
    "phys_asc_cbsa = pd.merge(phys_other_payments, cbsa_to_zip, how='left', on = ['zip'])\n",
    "\n",
    "del phys_other_payments"
   ]
  },
  {
   "cell_type": "code",
   "execution_count": 16,
   "metadata": {},
   "outputs": [],
   "source": [
    "# Dropping NaN values in the apc column of hcpcs to apc crosswalk\n",
    "\n",
    "hcpcs_to_apc = hcpcs_to_apc.dropna(subset=['apc'])"
   ]
  },
  {
   "cell_type": "code",
   "execution_count": 17,
   "metadata": {},
   "outputs": [],
   "source": [
    "# Putting leading zero back on zips\n",
    "\n",
    "hosp_payments['zip'] = hosp_payments['zip'].apply(lambda x: '{0:0>5}'.format(x))"
   ]
  },
  {
   "cell_type": "code",
   "execution_count": 18,
   "metadata": {},
   "outputs": [],
   "source": [
    "# Adding matching APC code to HCPCS in the Non-Hospital dataframe, keeping only rows that have an apc match\n",
    "\n",
    "phys_asc_apc = pd.merge(phys_asc_cbsa, hcpcs_to_apc, how = 'inner', on = ['hcpcs'])\n",
    "\n",
    "del phys_asc_cbsa"
   ]
  },
  {
   "cell_type": "code",
   "execution_count": 19,
   "metadata": {},
   "outputs": [],
   "source": [
    "phys_apc_data = phys_asc_apc.drop(['first_name', 'mi', 'creds', 'gender'], axis = 1)\n",
    "\n",
    "del phys_asc_apc"
   ]
  },
  {
   "cell_type": "code",
   "execution_count": 20,
   "metadata": {},
   "outputs": [],
   "source": [
    "# Adding CBSA column to hospital data, keeping only rows with a CBSA\n",
    "\n",
    "hosp_payments_cbsa = pd.merge(hosp_payments, cbsa_to_zip, how = 'inner', on = ['zip'])\n",
    "\n",
    "del hosp_payments"
   ]
  },
  {
   "cell_type": "code",
   "execution_count": 21,
   "metadata": {},
   "outputs": [],
   "source": [
    "cbsa_to_region = hosp_payments_cbsa.loc[:,['region', 'cbsa']]"
   ]
  },
  {
   "cell_type": "code",
   "execution_count": 22,
   "metadata": {},
   "outputs": [],
   "source": [
    "cbsa_to_region = cbsa_to_region.drop_duplicates(subset=['cbsa'])"
   ]
  },
  {
   "cell_type": "code",
   "execution_count": 23,
   "metadata": {},
   "outputs": [],
   "source": [
    "apc_to_description = hosp_payments_cbsa.loc[:, ['apc', 'description']]"
   ]
  },
  {
   "cell_type": "code",
   "execution_count": 24,
   "metadata": {},
   "outputs": [],
   "source": [
    "apc_to_description = apc_to_description.drop_duplicates(subset=['apc'])"
   ]
  },
  {
   "cell_type": "code",
   "execution_count": 65,
   "metadata": {},
   "outputs": [],
   "source": [
    "hosp_group = hosp_payments_cbsa.groupby(['cbsa', 'apc']).agg(hosp_max=('avg_medi_allowed_amt', 'max'),\n",
    "                                                             hosp_avg=('avg_medi_allowed_amt', 'mean'),\n",
    "                                                             hosp_min=('avg_medi_allowed_amt', 'min'))"
   ]
  },
  {
   "cell_type": "code",
   "execution_count": 66,
   "metadata": {},
   "outputs": [],
   "source": [
    "hosp_group = hosp_group.reset_index().round(2)"
   ]
  },
  {
   "cell_type": "code",
   "execution_count": 67,
   "metadata": {
    "scrolled": true
   },
   "outputs": [],
   "source": [
    "# CBSA 99999 is a filler value for unassigned CBSA\n",
    "\n",
    "hosp_group = hosp_group[hosp_group['cbsa'] != 99999]"
   ]
  },
  {
   "cell_type": "code",
   "execution_count": 68,
   "metadata": {},
   "outputs": [],
   "source": [
    "hosp_group_region = pd.merge(hosp_group, cbsa_to_region, how='left', on = ['cbsa'])\n",
    "\n",
    "del hosp_group"
   ]
  },
  {
   "cell_type": "code",
   "execution_count": 69,
   "metadata": {},
   "outputs": [],
   "source": [
    "hosp_table = pd.merge(hosp_group_region, apc_to_description, how='left', on=['apc'])\n",
    "\n",
    "del hosp_group_region"
   ]
  },
  {
   "cell_type": "code",
   "execution_count": 70,
   "metadata": {},
   "outputs": [],
   "source": [
    "hosp_table = hosp_table.dropna(subset=['hosp_avg'])"
   ]
  },
  {
   "cell_type": "code",
   "execution_count": 42,
   "metadata": {},
   "outputs": [],
   "source": [
    "phys_apc_data = phys_apc_data.dropna(subset=['cbsa'])"
   ]
  },
  {
   "cell_type": "code",
   "execution_count": 43,
   "metadata": {
    "scrolled": false
   },
   "outputs": [],
   "source": [
    "phys_apc_data['cbsa'] = phys_apc_data['cbsa'].astype('int')"
   ]
  },
  {
   "cell_type": "code",
   "execution_count": 44,
   "metadata": {},
   "outputs": [],
   "source": [
    "phys_apc_data['apc'] = phys_apc_data['apc'].astype('int')"
   ]
  },
  {
   "cell_type": "code",
   "execution_count": 71,
   "metadata": {},
   "outputs": [],
   "source": [
    "# Getting all the unique apc's that are in the hospital table\n",
    "\n",
    "hosp_apc_list = hosp_table['apc'].unique()"
   ]
  },
  {
   "cell_type": "code",
   "execution_count": 46,
   "metadata": {},
   "outputs": [],
   "source": [
    "# Narrowing the Ambulatory Surgical Center table down to rows that have an apc that is in the hosp table\n",
    "\n",
    "phys_apc_data = phys_apc_data[phys_apc_data['apc'].isin(hosp_apc_list)]"
   ]
  },
  {
   "cell_type": "code",
   "execution_count": 47,
   "metadata": {},
   "outputs": [],
   "source": [
    "phys_apc_data = phys_apc_data[phys_apc_data['cbsa'].isin(hosp_table['cbsa'].unique())]"
   ]
  },
  {
   "cell_type": "code",
   "execution_count": 48,
   "metadata": {},
   "outputs": [],
   "source": [
    "hcpcs_to_description = phys_apc_data.loc[:, ['hcpcs', 'description']]"
   ]
  },
  {
   "cell_type": "code",
   "execution_count": 49,
   "metadata": {},
   "outputs": [],
   "source": [
    "hcpcs_to_description = hcpcs_to_description.drop_duplicates(subset=['hcpcs'])"
   ]
  },
  {
   "cell_type": "code",
   "execution_count": 72,
   "metadata": {},
   "outputs": [],
   "source": [
    "hosp_table['state'] = hosp_table['region'].str[:2]"
   ]
  },
  {
   "cell_type": "code",
   "execution_count": 52,
   "metadata": {},
   "outputs": [],
   "source": [
    "cbsa_to_state = hosp_table.loc[:, ['cbsa', 'state']]"
   ]
  },
  {
   "cell_type": "code",
   "execution_count": 53,
   "metadata": {},
   "outputs": [],
   "source": [
    "cbsa_to_state = cbsa_to_state.drop_duplicates(subset = ['cbsa'])"
   ]
  },
  {
   "cell_type": "code",
   "execution_count": 73,
   "metadata": {},
   "outputs": [],
   "source": [
    "hosp_table['region'] = hosp_table['region'].str.split('-').str[1]"
   ]
  },
  {
   "cell_type": "code",
   "execution_count": 74,
   "metadata": {},
   "outputs": [],
   "source": [
    "hosp_table['region'] = hosp_table['region'].str.strip()"
   ]
  },
  {
   "cell_type": "code",
   "execution_count": 75,
   "metadata": {
    "scrolled": true
   },
   "outputs": [
    {
     "data": {
      "text/html": [
       "<div>\n",
       "<style scoped>\n",
       "    .dataframe tbody tr th:only-of-type {\n",
       "        vertical-align: middle;\n",
       "    }\n",
       "\n",
       "    .dataframe tbody tr th {\n",
       "        vertical-align: top;\n",
       "    }\n",
       "\n",
       "    .dataframe thead th {\n",
       "        text-align: right;\n",
       "    }\n",
       "</style>\n",
       "<table border=\"1\" class=\"dataframe\">\n",
       "  <thead>\n",
       "    <tr style=\"text-align: right;\">\n",
       "      <th></th>\n",
       "      <th>cbsa</th>\n",
       "      <th>apc</th>\n",
       "      <th>hosp_max</th>\n",
       "      <th>hosp_avg</th>\n",
       "      <th>hosp_min</th>\n",
       "      <th>region</th>\n",
       "      <th>description</th>\n",
       "      <th>state</th>\n",
       "    </tr>\n",
       "  </thead>\n",
       "  <tbody>\n",
       "    <tr>\n",
       "      <th>0</th>\n",
       "      <td>10100</td>\n",
       "      <td>5072</td>\n",
       "      <td>1216.83</td>\n",
       "      <td>1215.02</td>\n",
       "      <td>1213.21</td>\n",
       "      <td>Sioux Falls</td>\n",
       "      <td>Level 2 Excision/ Biopsy/ Incision and Drainage</td>\n",
       "      <td>SD</td>\n",
       "    </tr>\n",
       "    <tr>\n",
       "      <th>1</th>\n",
       "      <td>10100</td>\n",
       "      <td>5073</td>\n",
       "      <td>2114.53</td>\n",
       "      <td>2114.53</td>\n",
       "      <td>2114.53</td>\n",
       "      <td>Sioux Falls</td>\n",
       "      <td>Level 3 Excision/ Biopsy/ Incision and Drainage</td>\n",
       "      <td>SD</td>\n",
       "    </tr>\n",
       "    <tr>\n",
       "      <th>2</th>\n",
       "      <td>10100</td>\n",
       "      <td>5091</td>\n",
       "      <td>2459.49</td>\n",
       "      <td>2459.49</td>\n",
       "      <td>2459.49</td>\n",
       "      <td>Sioux Falls</td>\n",
       "      <td>Level 1 Breast/Lymphatic Surgery and Related P...</td>\n",
       "      <td>SD</td>\n",
       "    </tr>\n",
       "    <tr>\n",
       "      <th>3</th>\n",
       "      <td>10100</td>\n",
       "      <td>5092</td>\n",
       "      <td>4348.75</td>\n",
       "      <td>4348.75</td>\n",
       "      <td>4348.75</td>\n",
       "      <td>Sioux Falls</td>\n",
       "      <td>Level 2 Breast/Lymphatic Surgery and Related P...</td>\n",
       "      <td>SD</td>\n",
       "    </tr>\n",
       "    <tr>\n",
       "      <th>4</th>\n",
       "      <td>10100</td>\n",
       "      <td>5112</td>\n",
       "      <td>1183.42</td>\n",
       "      <td>1183.42</td>\n",
       "      <td>1183.42</td>\n",
       "      <td>Sioux Falls</td>\n",
       "      <td>Level 2 Musculoskeletal Procedures</td>\n",
       "      <td>SD</td>\n",
       "    </tr>\n",
       "    <tr>\n",
       "      <th>...</th>\n",
       "      <td>...</td>\n",
       "      <td>...</td>\n",
       "      <td>...</td>\n",
       "      <td>...</td>\n",
       "      <td>...</td>\n",
       "      <td>...</td>\n",
       "      <td>...</td>\n",
       "      <td>...</td>\n",
       "    </tr>\n",
       "    <tr>\n",
       "      <th>23297</th>\n",
       "      <td>49780</td>\n",
       "      <td>5462</td>\n",
       "      <td>3827.96</td>\n",
       "      <td>3827.96</td>\n",
       "      <td>3827.96</td>\n",
       "      <td>Columbus</td>\n",
       "      <td>Level 2 Neurostimulator and Related Procedures</td>\n",
       "      <td>OH</td>\n",
       "    </tr>\n",
       "    <tr>\n",
       "      <th>23298</th>\n",
       "      <td>49780</td>\n",
       "      <td>5463</td>\n",
       "      <td>17153.82</td>\n",
       "      <td>17153.82</td>\n",
       "      <td>17153.82</td>\n",
       "      <td>Columbus</td>\n",
       "      <td>Level 3 Neurostimulator and Related Procedures</td>\n",
       "      <td>OH</td>\n",
       "    </tr>\n",
       "    <tr>\n",
       "      <th>23299</th>\n",
       "      <td>49780</td>\n",
       "      <td>5464</td>\n",
       "      <td>27087.56</td>\n",
       "      <td>27087.56</td>\n",
       "      <td>27087.56</td>\n",
       "      <td>Columbus</td>\n",
       "      <td>Level 4 Neurostimulator and Related Procedures</td>\n",
       "      <td>OH</td>\n",
       "    </tr>\n",
       "    <tr>\n",
       "      <th>23300</th>\n",
       "      <td>49780</td>\n",
       "      <td>5491</td>\n",
       "      <td>1832.79</td>\n",
       "      <td>1832.79</td>\n",
       "      <td>1832.79</td>\n",
       "      <td>Columbus</td>\n",
       "      <td>Level 1 Intraocular Procedures</td>\n",
       "      <td>OH</td>\n",
       "    </tr>\n",
       "    <tr>\n",
       "      <th>23301</th>\n",
       "      <td>49780</td>\n",
       "      <td>8011</td>\n",
       "      <td>2199.80</td>\n",
       "      <td>2199.80</td>\n",
       "      <td>2199.80</td>\n",
       "      <td>Columbus</td>\n",
       "      <td>Comprehensive Observation Services</td>\n",
       "      <td>OH</td>\n",
       "    </tr>\n",
       "  </tbody>\n",
       "</table>\n",
       "<p>23302 rows × 8 columns</p>\n",
       "</div>"
      ],
      "text/plain": [
       "        cbsa   apc  hosp_max  hosp_avg  hosp_min       region  \\\n",
       "0      10100  5072   1216.83   1215.02   1213.21  Sioux Falls   \n",
       "1      10100  5073   2114.53   2114.53   2114.53  Sioux Falls   \n",
       "2      10100  5091   2459.49   2459.49   2459.49  Sioux Falls   \n",
       "3      10100  5092   4348.75   4348.75   4348.75  Sioux Falls   \n",
       "4      10100  5112   1183.42   1183.42   1183.42  Sioux Falls   \n",
       "...      ...   ...       ...       ...       ...          ...   \n",
       "23297  49780  5462   3827.96   3827.96   3827.96     Columbus   \n",
       "23298  49780  5463  17153.82  17153.82  17153.82     Columbus   \n",
       "23299  49780  5464  27087.56  27087.56  27087.56     Columbus   \n",
       "23300  49780  5491   1832.79   1832.79   1832.79     Columbus   \n",
       "23301  49780  8011   2199.80   2199.80   2199.80     Columbus   \n",
       "\n",
       "                                             description state  \n",
       "0        Level 2 Excision/ Biopsy/ Incision and Drainage    SD  \n",
       "1        Level 3 Excision/ Biopsy/ Incision and Drainage    SD  \n",
       "2      Level 1 Breast/Lymphatic Surgery and Related P...    SD  \n",
       "3      Level 2 Breast/Lymphatic Surgery and Related P...    SD  \n",
       "4                     Level 2 Musculoskeletal Procedures    SD  \n",
       "...                                                  ...   ...  \n",
       "23297     Level 2 Neurostimulator and Related Procedures    OH  \n",
       "23298     Level 3 Neurostimulator and Related Procedures    OH  \n",
       "23299     Level 4 Neurostimulator and Related Procedures    OH  \n",
       "23300                     Level 1 Intraocular Procedures    OH  \n",
       "23301                 Comprehensive Observation Services    OH  \n",
       "\n",
       "[23302 rows x 8 columns]"
      ]
     },
     "execution_count": 75,
     "metadata": {},
     "output_type": "execute_result"
    }
   ],
   "source": [
    "hosp_table"
   ]
  },
  {
   "cell_type": "code",
   "execution_count": 62,
   "metadata": {},
   "outputs": [],
   "source": [
    "def phys_state(state_list):\n",
    "    \"\"\"This function takes a list of states as state codes and narrows the physcian data set to just those states.\n",
    "    It then groups by unique CBSA then HCPCS in those state(s) and finds the medicare max/avg/min and makes\n",
    "    those into a table.\"\"\"\n",
    "    \n",
    "    state_phys_data = phys_apc_data[phys_apc_data['state'].isin(state_list)]\n",
    "    \n",
    "    global phys_data_state\n",
    "    \n",
    "    phys_data_state = state_phys_data.groupby(['cbsa', 'hcpcs']).agg(office_max=('avg_medi_allowed_amt', 'max'),\n",
    "                                                             office_avg=('avg_medi_allowed_amt', 'mean'),\n",
    "                                                             office_min=('avg_medi_allowed_amt', 'min'))\n",
    "    \n",
    "    phys_data_state = phys_data_state.reset_index().round(2)\n",
    "    \n",
    "    phys_data_state = phys_data_state.dropna(subset = ['office_avg'])\n",
    "    \n",
    "    return phys_data_state"
   ]
  },
  {
   "cell_type": "code",
   "execution_count": 63,
   "metadata": {
    "scrolled": true
   },
   "outputs": [
    {
     "data": {
      "text/html": [
       "<div>\n",
       "<style scoped>\n",
       "    .dataframe tbody tr th:only-of-type {\n",
       "        vertical-align: middle;\n",
       "    }\n",
       "\n",
       "    .dataframe tbody tr th {\n",
       "        vertical-align: top;\n",
       "    }\n",
       "\n",
       "    .dataframe thead th {\n",
       "        text-align: right;\n",
       "    }\n",
       "</style>\n",
       "<table border=\"1\" class=\"dataframe\">\n",
       "  <thead>\n",
       "    <tr style=\"text-align: right;\">\n",
       "      <th></th>\n",
       "      <th>cbsa</th>\n",
       "      <th>hcpcs</th>\n",
       "      <th>office_max</th>\n",
       "      <th>office_avg</th>\n",
       "      <th>office_min</th>\n",
       "    </tr>\n",
       "  </thead>\n",
       "  <tbody>\n",
       "    <tr>\n",
       "      <th>0</th>\n",
       "      <td>11940</td>\n",
       "      <td>66982</td>\n",
       "      <td>843.80</td>\n",
       "      <td>843.80</td>\n",
       "      <td>843.80</td>\n",
       "    </tr>\n",
       "    <tr>\n",
       "      <th>1</th>\n",
       "      <td>11940</td>\n",
       "      <td>66984</td>\n",
       "      <td>843.80</td>\n",
       "      <td>843.80</td>\n",
       "      <td>843.80</td>\n",
       "    </tr>\n",
       "    <tr>\n",
       "      <th>2</th>\n",
       "      <td>16860</td>\n",
       "      <td>0191T</td>\n",
       "      <td>2408.89</td>\n",
       "      <td>2396.15</td>\n",
       "      <td>2370.66</td>\n",
       "    </tr>\n",
       "    <tr>\n",
       "      <th>3</th>\n",
       "      <td>16860</td>\n",
       "      <td>26055</td>\n",
       "      <td>542.43</td>\n",
       "      <td>531.04</td>\n",
       "      <td>519.65</td>\n",
       "    </tr>\n",
       "    <tr>\n",
       "      <th>4</th>\n",
       "      <td>16860</td>\n",
       "      <td>26160</td>\n",
       "      <td>627.50</td>\n",
       "      <td>627.50</td>\n",
       "      <td>627.50</td>\n",
       "    </tr>\n",
       "    <tr>\n",
       "      <th>...</th>\n",
       "      <td>...</td>\n",
       "      <td>...</td>\n",
       "      <td>...</td>\n",
       "      <td>...</td>\n",
       "      <td>...</td>\n",
       "    </tr>\n",
       "    <tr>\n",
       "      <th>469</th>\n",
       "      <td>46100</td>\n",
       "      <td>66982</td>\n",
       "      <td>835.99</td>\n",
       "      <td>823.67</td>\n",
       "      <td>811.35</td>\n",
       "    </tr>\n",
       "    <tr>\n",
       "      <th>470</th>\n",
       "      <td>46100</td>\n",
       "      <td>66984</td>\n",
       "      <td>834.88</td>\n",
       "      <td>833.76</td>\n",
       "      <td>832.64</td>\n",
       "    </tr>\n",
       "    <tr>\n",
       "      <th>471</th>\n",
       "      <td>46100</td>\n",
       "      <td>67904</td>\n",
       "      <td>562.85</td>\n",
       "      <td>562.85</td>\n",
       "      <td>562.85</td>\n",
       "    </tr>\n",
       "    <tr>\n",
       "      <th>472</th>\n",
       "      <td>46100</td>\n",
       "      <td>67950</td>\n",
       "      <td>544.24</td>\n",
       "      <td>544.24</td>\n",
       "      <td>544.24</td>\n",
       "    </tr>\n",
       "    <tr>\n",
       "      <th>473</th>\n",
       "      <td>46460</td>\n",
       "      <td>43453</td>\n",
       "      <td>524.92</td>\n",
       "      <td>524.92</td>\n",
       "      <td>524.92</td>\n",
       "    </tr>\n",
       "  </tbody>\n",
       "</table>\n",
       "<p>474 rows × 5 columns</p>\n",
       "</div>"
      ],
      "text/plain": [
       "      cbsa  hcpcs  office_max  office_avg  office_min\n",
       "0    11940  66982      843.80      843.80      843.80\n",
       "1    11940  66984      843.80      843.80      843.80\n",
       "2    16860  0191T     2408.89     2396.15     2370.66\n",
       "3    16860  26055      542.43      531.04      519.65\n",
       "4    16860  26160      627.50      627.50      627.50\n",
       "..     ...    ...         ...         ...         ...\n",
       "469  46100  66982      835.99      823.67      811.35\n",
       "470  46100  66984      834.88      833.76      832.64\n",
       "471  46100  67904      562.85      562.85      562.85\n",
       "472  46100  67950      544.24      544.24      544.24\n",
       "473  46460  43453      524.92      524.92      524.92\n",
       "\n",
       "[474 rows x 5 columns]"
      ]
     },
     "execution_count": 63,
     "metadata": {},
     "output_type": "execute_result"
    }
   ],
   "source": [
    "phys_state(['TN'])"
   ]
  },
  {
   "cell_type": "code",
   "execution_count": 76,
   "metadata": {},
   "outputs": [],
   "source": [
    "phys_data_state = pd.merge(phys_data_state, hcpcs_to_apc, how = 'left', on = ['hcpcs'])"
   ]
  },
  {
   "cell_type": "code",
   "execution_count": 77,
   "metadata": {},
   "outputs": [],
   "source": [
    "merged_data = pd.merge(phys_data_state, hosp_table, how = 'left', on = ['cbsa', 'apc'])"
   ]
  },
  {
   "cell_type": "code",
   "execution_count": 78,
   "metadata": {},
   "outputs": [],
   "source": [
    "merged_data = merged_data[merged_data['state'] == 'TN']"
   ]
  },
  {
   "cell_type": "code",
   "execution_count": 79,
   "metadata": {},
   "outputs": [
    {
     "data": {
      "text/html": [
       "<div>\n",
       "<style scoped>\n",
       "    .dataframe tbody tr th:only-of-type {\n",
       "        vertical-align: middle;\n",
       "    }\n",
       "\n",
       "    .dataframe tbody tr th {\n",
       "        vertical-align: top;\n",
       "    }\n",
       "\n",
       "    .dataframe thead th {\n",
       "        text-align: right;\n",
       "    }\n",
       "</style>\n",
       "<table border=\"1\" class=\"dataframe\">\n",
       "  <thead>\n",
       "    <tr style=\"text-align: right;\">\n",
       "      <th></th>\n",
       "      <th>cbsa</th>\n",
       "      <th>hcpcs</th>\n",
       "      <th>office_max</th>\n",
       "      <th>office_avg</th>\n",
       "      <th>office_min</th>\n",
       "      <th>descriptor</th>\n",
       "      <th>apc</th>\n",
       "      <th>hosp_max</th>\n",
       "      <th>hosp_avg</th>\n",
       "      <th>hosp_min</th>\n",
       "      <th>region</th>\n",
       "      <th>description</th>\n",
       "      <th>state</th>\n",
       "    </tr>\n",
       "  </thead>\n",
       "  <tbody>\n",
       "    <tr>\n",
       "      <th>2</th>\n",
       "      <td>16860</td>\n",
       "      <td>0191T</td>\n",
       "      <td>2408.89</td>\n",
       "      <td>2396.15</td>\n",
       "      <td>2370.66</td>\n",
       "      <td>Insert ant segment drain int</td>\n",
       "      <td>5492.0</td>\n",
       "      <td>3148.69</td>\n",
       "      <td>2858.93</td>\n",
       "      <td>2397.92</td>\n",
       "      <td>Chattanooga</td>\n",
       "      <td>Level 2 Intraocular Procedures</td>\n",
       "      <td>TN</td>\n",
       "    </tr>\n",
       "    <tr>\n",
       "      <th>3</th>\n",
       "      <td>16860</td>\n",
       "      <td>26055</td>\n",
       "      <td>542.43</td>\n",
       "      <td>531.04</td>\n",
       "      <td>519.65</td>\n",
       "      <td>Incise finger tendon sheath</td>\n",
       "      <td>5112.0</td>\n",
       "      <td>1121.25</td>\n",
       "      <td>1093.91</td>\n",
       "      <td>1070.75</td>\n",
       "      <td>Chattanooga</td>\n",
       "      <td>Level 2 Musculoskeletal Procedures</td>\n",
       "      <td>TN</td>\n",
       "    </tr>\n",
       "    <tr>\n",
       "      <th>4</th>\n",
       "      <td>16860</td>\n",
       "      <td>26160</td>\n",
       "      <td>627.50</td>\n",
       "      <td>627.50</td>\n",
       "      <td>627.50</td>\n",
       "      <td>Remove tendon sheath lesion</td>\n",
       "      <td>5112.0</td>\n",
       "      <td>1121.25</td>\n",
       "      <td>1093.91</td>\n",
       "      <td>1070.75</td>\n",
       "      <td>Chattanooga</td>\n",
       "      <td>Level 2 Musculoskeletal Procedures</td>\n",
       "      <td>TN</td>\n",
       "    </tr>\n",
       "    <tr>\n",
       "      <th>5</th>\n",
       "      <td>16860</td>\n",
       "      <td>27570</td>\n",
       "      <td>617.54</td>\n",
       "      <td>617.54</td>\n",
       "      <td>617.54</td>\n",
       "      <td>Fixation of knee joint</td>\n",
       "      <td>5112.0</td>\n",
       "      <td>1121.25</td>\n",
       "      <td>1093.91</td>\n",
       "      <td>1070.75</td>\n",
       "      <td>Chattanooga</td>\n",
       "      <td>Level 2 Musculoskeletal Procedures</td>\n",
       "      <td>TN</td>\n",
       "    </tr>\n",
       "    <tr>\n",
       "      <th>6</th>\n",
       "      <td>16860</td>\n",
       "      <td>28285</td>\n",
       "      <td>781.26</td>\n",
       "      <td>781.26</td>\n",
       "      <td>781.26</td>\n",
       "      <td>Repair of hammertoe</td>\n",
       "      <td>5113.0</td>\n",
       "      <td>2245.72</td>\n",
       "      <td>2158.94</td>\n",
       "      <td>2076.43</td>\n",
       "      <td>Chattanooga</td>\n",
       "      <td>Level 3 Musculoskeletal Procedures</td>\n",
       "      <td>TN</td>\n",
       "    </tr>\n",
       "    <tr>\n",
       "      <th>...</th>\n",
       "      <td>...</td>\n",
       "      <td>...</td>\n",
       "      <td>...</td>\n",
       "      <td>...</td>\n",
       "      <td>...</td>\n",
       "      <td>...</td>\n",
       "      <td>...</td>\n",
       "      <td>...</td>\n",
       "      <td>...</td>\n",
       "      <td>...</td>\n",
       "      <td>...</td>\n",
       "      <td>...</td>\n",
       "      <td>...</td>\n",
       "    </tr>\n",
       "    <tr>\n",
       "      <th>469</th>\n",
       "      <td>46100</td>\n",
       "      <td>66982</td>\n",
       "      <td>835.99</td>\n",
       "      <td>823.67</td>\n",
       "      <td>811.35</td>\n",
       "      <td>Xcapsl ctrc rmvl cplx wo ecp</td>\n",
       "      <td>5491.0</td>\n",
       "      <td>1674.79</td>\n",
       "      <td>1636.60</td>\n",
       "      <td>1598.40</td>\n",
       "      <td>Nashville</td>\n",
       "      <td>Level 1 Intraocular Procedures</td>\n",
       "      <td>TN</td>\n",
       "    </tr>\n",
       "    <tr>\n",
       "      <th>470</th>\n",
       "      <td>46100</td>\n",
       "      <td>66984</td>\n",
       "      <td>834.88</td>\n",
       "      <td>833.76</td>\n",
       "      <td>832.64</td>\n",
       "      <td>Xcapsl ctrc rmvl w/o ecp</td>\n",
       "      <td>5491.0</td>\n",
       "      <td>1674.79</td>\n",
       "      <td>1636.60</td>\n",
       "      <td>1598.40</td>\n",
       "      <td>Nashville</td>\n",
       "      <td>Level 1 Intraocular Procedures</td>\n",
       "      <td>TN</td>\n",
       "    </tr>\n",
       "    <tr>\n",
       "      <th>471</th>\n",
       "      <td>46100</td>\n",
       "      <td>67904</td>\n",
       "      <td>562.85</td>\n",
       "      <td>562.85</td>\n",
       "      <td>562.85</td>\n",
       "      <td>Repair eyelid defect</td>\n",
       "      <td>5503.0</td>\n",
       "      <td>1567.07</td>\n",
       "      <td>1567.07</td>\n",
       "      <td>1567.07</td>\n",
       "      <td>Nashville</td>\n",
       "      <td>Level 3 Extraocular, Repair, and Plastic Eye P...</td>\n",
       "      <td>TN</td>\n",
       "    </tr>\n",
       "    <tr>\n",
       "      <th>472</th>\n",
       "      <td>46100</td>\n",
       "      <td>67950</td>\n",
       "      <td>544.24</td>\n",
       "      <td>544.24</td>\n",
       "      <td>544.24</td>\n",
       "      <td>Revision of eyelid</td>\n",
       "      <td>5503.0</td>\n",
       "      <td>1567.07</td>\n",
       "      <td>1567.07</td>\n",
       "      <td>1567.07</td>\n",
       "      <td>Nashville</td>\n",
       "      <td>Level 3 Extraocular, Repair, and Plastic Eye P...</td>\n",
       "      <td>TN</td>\n",
       "    </tr>\n",
       "    <tr>\n",
       "      <th>473</th>\n",
       "      <td>46460</td>\n",
       "      <td>43453</td>\n",
       "      <td>524.92</td>\n",
       "      <td>524.92</td>\n",
       "      <td>524.92</td>\n",
       "      <td>Dilate esophagus</td>\n",
       "      <td>5302.0</td>\n",
       "      <td>1146.71</td>\n",
       "      <td>1122.40</td>\n",
       "      <td>1098.08</td>\n",
       "      <td>Jackson</td>\n",
       "      <td>Level 2 Upper GI Procedures</td>\n",
       "      <td>TN</td>\n",
       "    </tr>\n",
       "  </tbody>\n",
       "</table>\n",
       "<p>419 rows × 13 columns</p>\n",
       "</div>"
      ],
      "text/plain": [
       "      cbsa  hcpcs  office_max  office_avg  office_min  \\\n",
       "2    16860  0191T     2408.89     2396.15     2370.66   \n",
       "3    16860  26055      542.43      531.04      519.65   \n",
       "4    16860  26160      627.50      627.50      627.50   \n",
       "5    16860  27570      617.54      617.54      617.54   \n",
       "6    16860  28285      781.26      781.26      781.26   \n",
       "..     ...    ...         ...         ...         ...   \n",
       "469  46100  66982      835.99      823.67      811.35   \n",
       "470  46100  66984      834.88      833.76      832.64   \n",
       "471  46100  67904      562.85      562.85      562.85   \n",
       "472  46100  67950      544.24      544.24      544.24   \n",
       "473  46460  43453      524.92      524.92      524.92   \n",
       "\n",
       "                       descriptor     apc  hosp_max  hosp_avg  hosp_min  \\\n",
       "2    Insert ant segment drain int  5492.0   3148.69   2858.93   2397.92   \n",
       "3     Incise finger tendon sheath  5112.0   1121.25   1093.91   1070.75   \n",
       "4     Remove tendon sheath lesion  5112.0   1121.25   1093.91   1070.75   \n",
       "5          Fixation of knee joint  5112.0   1121.25   1093.91   1070.75   \n",
       "6             Repair of hammertoe  5113.0   2245.72   2158.94   2076.43   \n",
       "..                            ...     ...       ...       ...       ...   \n",
       "469  Xcapsl ctrc rmvl cplx wo ecp  5491.0   1674.79   1636.60   1598.40   \n",
       "470      Xcapsl ctrc rmvl w/o ecp  5491.0   1674.79   1636.60   1598.40   \n",
       "471          Repair eyelid defect  5503.0   1567.07   1567.07   1567.07   \n",
       "472            Revision of eyelid  5503.0   1567.07   1567.07   1567.07   \n",
       "473              Dilate esophagus  5302.0   1146.71   1122.40   1098.08   \n",
       "\n",
       "          region                                        description state  \n",
       "2    Chattanooga                     Level 2 Intraocular Procedures    TN  \n",
       "3    Chattanooga                 Level 2 Musculoskeletal Procedures    TN  \n",
       "4    Chattanooga                 Level 2 Musculoskeletal Procedures    TN  \n",
       "5    Chattanooga                 Level 2 Musculoskeletal Procedures    TN  \n",
       "6    Chattanooga                 Level 3 Musculoskeletal Procedures    TN  \n",
       "..           ...                                                ...   ...  \n",
       "469    Nashville                     Level 1 Intraocular Procedures    TN  \n",
       "470    Nashville                     Level 1 Intraocular Procedures    TN  \n",
       "471    Nashville  Level 3 Extraocular, Repair, and Plastic Eye P...    TN  \n",
       "472    Nashville  Level 3 Extraocular, Repair, and Plastic Eye P...    TN  \n",
       "473      Jackson                        Level 2 Upper GI Procedures    TN  \n",
       "\n",
       "[419 rows x 13 columns]"
      ]
     },
     "execution_count": 79,
     "metadata": {},
     "output_type": "execute_result"
    }
   ],
   "source": [
    "merged_data"
   ]
  },
  {
   "cell_type": "code",
   "execution_count": null,
   "metadata": {},
   "outputs": [],
   "source": [
    "merged_data.to_csv('../file_for_viz.csv')"
   ]
  }
 ],
 "metadata": {
  "kernelspec": {
   "display_name": "Python 3",
   "language": "python",
   "name": "python3"
  },
  "language_info": {
   "codemirror_mode": {
    "name": "ipython",
    "version": 3
   },
   "file_extension": ".py",
   "mimetype": "text/x-python",
   "name": "python",
   "nbconvert_exporter": "python",
   "pygments_lexer": "ipython3",
   "version": "3.7.6"
  }
 },
 "nbformat": 4,
 "nbformat_minor": 4
}
