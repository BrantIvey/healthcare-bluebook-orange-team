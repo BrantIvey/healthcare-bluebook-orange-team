{
 "cells": [
  {
   "cell_type": "markdown",
   "metadata": {},
   "source": [
    "Data from:\n",
    "\n",
    "Physician & Other Supplier Payments - Detailed Data\n",
    "https://www.cms.gov/Research-Statistics-Data-and-Systems/Statistics-Trends-and-Reports/Medicare-Provider-Charge-Data/Physician-and-Other-Supplier2017\n",
    "\n",
    "Hospital Outpatient - Detailed Data\n",
    "https://www.cms.gov/Research-Statistics-Data-and-Systems/Statistics-Trends-and-Reports/Medicare-Provider-Charge-Data/Outpatient\n",
    "\n",
    "APC to CPT/HCPCS crosswalk - Addendum B – January 2020\n",
    "https://www.cms.gov/Medicare/Medicare-Fee-for-Service-Payment/HospitalOutpatientPPS/Addendum-A-and-Addendum-B-Updates\n",
    "\n",
    "Zip Code to CBSA\n",
    "https://www.huduser.gov/portal/datasets/usps_crosswalk.html![image.png](attachment:image.png)"
   ]
  },
  {
   "cell_type": "code",
   "execution_count": 1,
   "metadata": {},
   "outputs": [],
   "source": [
    "import pandas as pd\n",
    "import numpy as np\n",
    "import matplotlib.pyplot as plt\n",
    "import seaborn as sns"
   ]
  },
  {
   "cell_type": "code",
   "execution_count": 2,
   "metadata": {},
   "outputs": [],
   "source": [
    "%matplotlib inline"
   ]
  },
  {
   "cell_type": "code",
   "execution_count": 3,
   "metadata": {},
   "outputs": [],
   "source": [
    "pd.options.display.max_columns = 25"
   ]
  },
  {
   "cell_type": "code",
   "execution_count": 4,
   "metadata": {},
   "outputs": [],
   "source": [
    "pd.options.display.max_rows = 25"
   ]
  },
  {
   "cell_type": "code",
   "execution_count": 36,
   "metadata": {
    "scrolled": true
   },
   "outputs": [],
   "source": [
    "# Reading in the CBSA to ZIP code crosswalk\n",
    "\n",
    "cbsa_to_zip = pd.read_excel('../data/CBSA_ZIP_032020.xlsx', \n",
    "                            usecols = ['CBSA', 'ZIP'],\n",
    "                            dtypes={'ZIP':'str'})"
   ]
  },
  {
   "cell_type": "code",
   "execution_count": 6,
   "metadata": {
    "scrolled": true
   },
   "outputs": [],
   "source": [
    "#Reading in HCPCS to APC crosswalk with Short Descriptor column\n",
    "\n",
    "hcpcs_to_apc = pd.read_excel('../data/Addendum_B/2020_january_web_addendum_b.12312019.xlsx', header = 2, usecols = ['HCPCS Code', 'Short Descriptor', 'APC '])"
   ]
  },
  {
   "cell_type": "code",
   "execution_count": 35,
   "metadata": {
    "scrolled": true
   },
   "outputs": [],
   "source": [
    "#Reading in the Physician & Other Supplier Payments while discarding some columns\n",
    "\n",
    "phys_other_payments = pd.read_csv('../data/Medicare_Provider_Util_Payment_PUF_CY2017/Medicare_Provider_Util_Payment_PUF_CY2017.txt', \n",
    "    sep='\\t', \n",
    "    skiprows = [1], \n",
    "    usecols = lambda column : column not in ['average_submitted_chrg_amt', 'average_Medicare_payment_amt', 'average_Medicare_standard_amt', 'hcpcs_drug_indicator', 'medicare_participation_indicator'], \n",
    "    dtype = {'nppes_provider_zip':'str'},\n",
    "    low_memory=False)"
   ]
  },
  {
   "cell_type": "code",
   "execution_count": 8,
   "metadata": {},
   "outputs": [],
   "source": [
    "# Reading in the Hospital Outpatient while discarding some columns\n",
    "\n",
    "column_exclude_list = ['Outlier\\nComprehensive\\nAPC\\nServices', 'Average\\nMedicare\\nOutlier\\nAmount', 'Average\\nEstimated\\nTotal\\nSubmitted\\nCharges', 'Average\\nMedicare\\nPayment\\nAmount']\n",
    "\n",
    "hosp_payments = pd.read_excel('../data/MUP_OHP_R19_P04_V10_D17_APC_Provider/MUP_OHP_R19_P04_V10_D17_APC_Provider.xlsx', \n",
    "                              header = 5, \n",
    "                              usecols = lambda column : column not in column_exclude_list)"
   ]
  },
  {
   "cell_type": "code",
   "execution_count": 9,
   "metadata": {},
   "outputs": [],
   "source": [
    "hcpcs_to_apc.columns = ['hcpcs', 'descriptor', 'apc']"
   ]
  },
  {
   "cell_type": "code",
   "execution_count": 37,
   "metadata": {},
   "outputs": [],
   "source": [
    "cbsa_to_zip.columns = ['cbsa', 'zip']"
   ]
  },
  {
   "cell_type": "code",
   "execution_count": 38,
   "metadata": {
    "scrolled": true
   },
   "outputs": [],
   "source": [
    "phys_other_payments.columns = ['npi', 'last_org_name', 'first_name', 'mi', 'creds', 'gender', 'entity', 'street1', 'street2' , 'city', 'zip','state', 'country', 'provider_type', 'service_loc', 'hcpcs', 'description', 'services_cnt', 'benefic_cnt', 'benefic_d_cnt', 'avg_medi_allowed_amt']"
   ]
  },
  {
   "cell_type": "code",
   "execution_count": 57,
   "metadata": {},
   "outputs": [],
   "source": [
    "hosp_payments.columns = ['provider_id', 'provider_name', 'street', 'city', 'state', 'zip', 'region', 'apc', 'description', 'benefic_cnt', 'services_cnt', 'avg_medi_allowed_amt']"
   ]
  },
  {
   "cell_type": "code",
   "execution_count": 39,
   "metadata": {
    "scrolled": true
   },
   "outputs": [],
   "source": [
    "# Dropping non US\n",
    "\n",
    "phys_other_payments = phys_other_payments[phys_other_payments.country == 'US']"
   ]
  },
  {
   "cell_type": "code",
   "execution_count": 41,
   "metadata": {},
   "outputs": [],
   "source": [
    "# Making a dataframe with only office entities to compare with the Hospital Data.\n",
    "\n",
    "phys_office = phys_other_payments[phys_other_payments['entity'] == 'O']"
   ]
  },
  {
   "cell_type": "code",
   "execution_count": 42,
   "metadata": {},
   "outputs": [],
   "source": [
    "# Deleting phys_other_payments to recover memory\n",
    "\n",
    "del phys_other_payments"
   ]
  },
  {
   "cell_type": "code",
   "execution_count": 48,
   "metadata": {
    "scrolled": false
   },
   "outputs": [
    {
     "name": "stderr",
     "output_type": "stream",
     "text": [
      "C:\\Users\\tregongs\\Anaconda3\\lib\\site-packages\\ipykernel_launcher.py:1: SettingWithCopyWarning: \n",
      "A value is trying to be set on a copy of a slice from a DataFrame.\n",
      "Try using .loc[row_indexer,col_indexer] = value instead\n",
      "\n",
      "See the caveats in the documentation: https://pandas.pydata.org/pandas-docs/stable/user_guide/indexing.html#returning-a-view-versus-a-copy\n",
      "  \"\"\"Entry point for launching an IPython kernel.\n"
     ]
    }
   ],
   "source": [
    "phys_office['zip'] = phys_office['zip'].str[:5]"
   ]
  },
  {
   "cell_type": "code",
   "execution_count": 52,
   "metadata": {},
   "outputs": [],
   "source": [
    "# Putting leading zero back on zips\n",
    "\n",
    "cbsa_to_zip['zip'] = cbsa_to_zip['zip'].apply(lambda x: '{0:0>5}'.format(x))"
   ]
  },
  {
   "cell_type": "code",
   "execution_count": 55,
   "metadata": {
    "scrolled": false
   },
   "outputs": [],
   "source": [
    "# Merging CBSA to Zip in physcian billing data\n",
    "\n",
    "phys_office_cbsa = pd.merge(phys_office, cbsa_to_zip, how='left', on = ['zip'])\n",
    "\n",
    "del phys_office"
   ]
  },
  {
   "cell_type": "code",
   "execution_count": 56,
   "metadata": {},
   "outputs": [],
   "source": [
    "# Dropping NaN values in the apc column of hcpcs to apc crosswalk\n",
    "\n",
    "hcpcs_to_apc = hcpcs_to_apc.dropna(subset=['apc'])"
   ]
  },
  {
   "cell_type": "code",
   "execution_count": 60,
   "metadata": {},
   "outputs": [],
   "source": [
    "# Putting leading zero back on zips\n",
    "\n",
    "hosp_payments['zip'] = hosp_payments['zip'].apply(lambda x: '{0:0>5}'.format(x))"
   ]
  },
  {
   "cell_type": "code",
   "execution_count": 61,
   "metadata": {},
   "outputs": [],
   "source": [
    "# Adding matching APC code to HCPCS in the office dataframe, keeping only rows that have an apc match\n",
    "\n",
    "phys_office_apc = pd.merge(phys_office_cbsa, hcpcs_to_apc, how = 'inner', on = ['hcpcs'])\n",
    "\n",
    "del phys_office_cbsa"
   ]
  },
  {
   "cell_type": "code",
   "execution_count": 62,
   "metadata": {},
   "outputs": [],
   "source": [
    "phys_apc_data = phys_office_apc.drop(['first_name', 'mi', 'creds', 'gender'], axis = 1)\n",
    "\n",
    "del phys_office_apc"
   ]
  },
  {
   "cell_type": "code",
   "execution_count": 63,
   "metadata": {},
   "outputs": [],
   "source": [
    "# Adding CBSA column to hospital data, keeping only rows with a CBSA\n",
    "\n",
    "hosp_payments_cbsa = pd.merge(hosp_payments, cbsa_to_zip, how = 'inner', on = ['zip'])\n",
    "\n",
    "del hosp_payments"
   ]
  },
  {
   "cell_type": "code",
   "execution_count": 226,
   "metadata": {},
   "outputs": [],
   "source": [
    "cbsa_to_region = hosp_payments_cbsa.loc[:,['region', 'cbsa']]"
   ]
  },
  {
   "cell_type": "code",
   "execution_count": 227,
   "metadata": {},
   "outputs": [],
   "source": [
    "cbsa_to_region = cbsa_to_region.drop_duplicates(subset=['cbsa'])"
   ]
  },
  {
   "cell_type": "code",
   "execution_count": 232,
   "metadata": {},
   "outputs": [],
   "source": [
    "apc_to_description = hosp_payments_cbsa.loc[:, ['apc', 'description']]"
   ]
  },
  {
   "cell_type": "code",
   "execution_count": 233,
   "metadata": {},
   "outputs": [],
   "source": [
    "apc_to_description = apc_to_description.drop_duplicates(subset=['apc'])"
   ]
  },
  {
   "cell_type": "code",
   "execution_count": 222,
   "metadata": {},
   "outputs": [],
   "source": [
    "list = []\n",
    "\n",
    "for cbsa in hosp_payments_cbsa['cbsa'].unique():\n",
    "    for apc in hosp_payments_cbsa['apc'].unique():\n",
    "        selection = hosp_payments_cbsa[(hosp_payments_cbsa['cbsa'] == cbsa) & (hosp_payments_cbsa['apc'] == apc)]\n",
    "        max_value = round(selection.avg_medi_allowed_amt.max(), 2)\n",
    "        avg_value = round(selection.avg_medi_allowed_amt.mean(), 2)\n",
    "        min_value = round(selection.avg_medi_allowed_amt.min(), 2)\n",
    "        list.append([cbsa, apc, max_value, avg_value, min_value])"
   ]
  },
  {
   "cell_type": "code",
   "execution_count": 223,
   "metadata": {},
   "outputs": [],
   "source": [
    "list_df = pd.DataFrame(list)\n",
    "\n",
    "del list"
   ]
  },
  {
   "cell_type": "code",
   "execution_count": 224,
   "metadata": {},
   "outputs": [],
   "source": [
    "list_df.columns = ['cbsa','apc', 'hosp_max', 'hosp_avg', 'hosp_min']"
   ]
  },
  {
   "cell_type": "code",
   "execution_count": 228,
   "metadata": {},
   "outputs": [],
   "source": [
    "list_df_region = pd.merge(list_df, cbsa_to_region, how='left', on = ['cbsa'])\n",
    "\n",
    "del list_df"
   ]
  },
  {
   "cell_type": "code",
   "execution_count": 234,
   "metadata": {},
   "outputs": [],
   "source": [
    "hosp_table = pd.merge(list_df_region, apc_to_description, how='left', on=['apc'])\n",
    "\n",
    "del list_df_region"
   ]
  },
  {
   "cell_type": "code",
   "execution_count": 265,
   "metadata": {},
   "outputs": [],
   "source": [
    "hosp_table = hosp_table.dropna(subset=['hosp_avg'])"
   ]
  },
  {
   "cell_type": "code",
   "execution_count": 249,
   "metadata": {},
   "outputs": [],
   "source": [
    "phys_apc_data = phys_apc_data.dropna(subset=['cbsa'])"
   ]
  },
  {
   "cell_type": "code",
   "execution_count": 250,
   "metadata": {
    "scrolled": false
   },
   "outputs": [
    {
     "name": "stderr",
     "output_type": "stream",
     "text": [
      "C:\\Users\\tregongs\\Anaconda3\\lib\\site-packages\\ipykernel_launcher.py:1: SettingWithCopyWarning: \n",
      "A value is trying to be set on a copy of a slice from a DataFrame.\n",
      "Try using .loc[row_indexer,col_indexer] = value instead\n",
      "\n",
      "See the caveats in the documentation: https://pandas.pydata.org/pandas-docs/stable/user_guide/indexing.html#returning-a-view-versus-a-copy\n",
      "  \"\"\"Entry point for launching an IPython kernel.\n"
     ]
    }
   ],
   "source": [
    "phys_apc_data['cbsa'] = phys_apc_data['cbsa'].astype('int')"
   ]
  },
  {
   "cell_type": "code",
   "execution_count": 252,
   "metadata": {},
   "outputs": [
    {
     "name": "stderr",
     "output_type": "stream",
     "text": [
      "C:\\Users\\tregongs\\Anaconda3\\lib\\site-packages\\ipykernel_launcher.py:1: SettingWithCopyWarning: \n",
      "A value is trying to be set on a copy of a slice from a DataFrame.\n",
      "Try using .loc[row_indexer,col_indexer] = value instead\n",
      "\n",
      "See the caveats in the documentation: https://pandas.pydata.org/pandas-docs/stable/user_guide/indexing.html#returning-a-view-versus-a-copy\n",
      "  \"\"\"Entry point for launching an IPython kernel.\n"
     ]
    }
   ],
   "source": [
    "phys_apc_data['apc'] = phys_apc_data['apc'].astype('int')"
   ]
  },
  {
   "cell_type": "code",
   "execution_count": 254,
   "metadata": {},
   "outputs": [],
   "source": [
    "list2 = []\n",
    "\n",
    "for cbsa in phys_apc_data['cbsa'].unique():\n",
    "    for apc in phys_apc_data['apc'].unique():\n",
    "        selection = phys_apc_data[(phys_apc_data['cbsa'] == cbsa) & (phys_apc_data['apc'] == apc)]\n",
    "        max_value = round(selection.avg_medi_allowed_amt.max(), 2)\n",
    "        avg_value = round(selection.avg_medi_allowed_amt.mean(), 2)\n",
    "        min_value = round(selection.avg_medi_allowed_amt.min(), 2)\n",
    "        list2.append([cbsa, apc, max_value, avg_value, min_value])"
   ]
  },
  {
   "cell_type": "code",
   "execution_count": 255,
   "metadata": {},
   "outputs": [],
   "source": [
    "list2_df = pd.DataFrame(list2)\n",
    "\n",
    "del list2"
   ]
  },
  {
   "cell_type": "code",
   "execution_count": 256,
   "metadata": {},
   "outputs": [],
   "source": [
    "list2_df.columns = ['cbsa','apc', 'office_max', 'office_avg', 'office_min']"
   ]
  },
  {
   "cell_type": "code",
   "execution_count": 261,
   "metadata": {},
   "outputs": [],
   "source": [
    "list2_df = list2_df.dropna(subset=['office_avg'])"
   ]
  },
  {
   "cell_type": "code",
   "execution_count": 266,
   "metadata": {},
   "outputs": [],
   "source": [
    "hosp_office_data = pd.merge(list2_df, hosp_table, how='inner', on = ['cbsa', 'apc'])\n",
    "\n",
    "del list2_df\n",
    "del hosp_table\n",
    "del phys_apc_data"
   ]
  },
  {
   "cell_type": "code",
   "execution_count": 268,
   "metadata": {},
   "outputs": [
    {
     "data": {
      "text/html": [
       "<div>\n",
       "<style scoped>\n",
       "    .dataframe tbody tr th:only-of-type {\n",
       "        vertical-align: middle;\n",
       "    }\n",
       "\n",
       "    .dataframe tbody tr th {\n",
       "        vertical-align: top;\n",
       "    }\n",
       "\n",
       "    .dataframe thead th {\n",
       "        text-align: right;\n",
       "    }\n",
       "</style>\n",
       "<table border=\"1\" class=\"dataframe\">\n",
       "  <thead>\n",
       "    <tr style=\"text-align: right;\">\n",
       "      <th></th>\n",
       "      <th>cbsa</th>\n",
       "      <th>apc</th>\n",
       "      <th>office_max</th>\n",
       "      <th>office_avg</th>\n",
       "      <th>office_min</th>\n",
       "      <th>hosp_max</th>\n",
       "      <th>hosp_avg</th>\n",
       "      <th>hosp_min</th>\n",
       "      <th>region</th>\n",
       "      <th>description</th>\n",
       "    </tr>\n",
       "  </thead>\n",
       "  <tbody>\n",
       "    <tr>\n",
       "      <th>0</th>\n",
       "      <td>27740</td>\n",
       "      <td>5113</td>\n",
       "      <td>1050.94</td>\n",
       "      <td>772.29</td>\n",
       "      <td>597.59</td>\n",
       "      <td>1906.12</td>\n",
       "      <td>1906.12</td>\n",
       "      <td>1906.12</td>\n",
       "      <td>TN - Johnson City</td>\n",
       "      <td>Level 3 Musculoskeletal Procedures</td>\n",
       "    </tr>\n",
       "    <tr>\n",
       "      <th>1</th>\n",
       "      <td>27740</td>\n",
       "      <td>5114</td>\n",
       "      <td>2211.67</td>\n",
       "      <td>2211.67</td>\n",
       "      <td>2211.67</td>\n",
       "      <td>4285.93</td>\n",
       "      <td>4207.59</td>\n",
       "      <td>4129.25</td>\n",
       "      <td>TN - Johnson City</td>\n",
       "      <td>Level 4 Musculoskeletal Procedures</td>\n",
       "    </tr>\n",
       "    <tr>\n",
       "      <th>2</th>\n",
       "      <td>27740</td>\n",
       "      <td>5464</td>\n",
       "      <td>19140.93</td>\n",
       "      <td>19140.93</td>\n",
       "      <td>19140.93</td>\n",
       "      <td>21335.92</td>\n",
       "      <td>21335.92</td>\n",
       "      <td>21335.92</td>\n",
       "      <td>TN - Johnson City</td>\n",
       "      <td>Level 4 Neurostimulator and Related Procedures</td>\n",
       "    </tr>\n",
       "    <tr>\n",
       "      <th>3</th>\n",
       "      <td>27740</td>\n",
       "      <td>5491</td>\n",
       "      <td>837.80</td>\n",
       "      <td>825.64</td>\n",
       "      <td>812.00</td>\n",
       "      <td>1497.46</td>\n",
       "      <td>1497.46</td>\n",
       "      <td>1497.46</td>\n",
       "      <td>TN - Johnson City</td>\n",
       "      <td>Level 1 Intraocular Procedures</td>\n",
       "    </tr>\n",
       "    <tr>\n",
       "      <th>4</th>\n",
       "      <td>27740</td>\n",
       "      <td>5073</td>\n",
       "      <td>889.35</td>\n",
       "      <td>889.35</td>\n",
       "      <td>889.35</td>\n",
       "      <td>1764.02</td>\n",
       "      <td>1764.02</td>\n",
       "      <td>1764.02</td>\n",
       "      <td>TN - Johnson City</td>\n",
       "      <td>Level 3 Excision/ Biopsy/ Incision and Drainage</td>\n",
       "    </tr>\n",
       "    <tr>\n",
       "      <th>...</th>\n",
       "      <td>...</td>\n",
       "      <td>...</td>\n",
       "      <td>...</td>\n",
       "      <td>...</td>\n",
       "      <td>...</td>\n",
       "      <td>...</td>\n",
       "      <td>...</td>\n",
       "      <td>...</td>\n",
       "      <td>...</td>\n",
       "      <td>...</td>\n",
       "    </tr>\n",
       "    <tr>\n",
       "      <th>4845</th>\n",
       "      <td>21820</td>\n",
       "      <td>5491</td>\n",
       "      <td>1010.83</td>\n",
       "      <td>1005.72</td>\n",
       "      <td>1000.62</td>\n",
       "      <td>2212.06</td>\n",
       "      <td>2212.06</td>\n",
       "      <td>2212.06</td>\n",
       "      <td>AK - Anchorage</td>\n",
       "      <td>Level 1 Intraocular Procedures</td>\n",
       "    </tr>\n",
       "    <tr>\n",
       "      <th>4846</th>\n",
       "      <td>34260</td>\n",
       "      <td>5113</td>\n",
       "      <td>1052.65</td>\n",
       "      <td>852.70</td>\n",
       "      <td>596.51</td>\n",
       "      <td>2275.25</td>\n",
       "      <td>2275.25</td>\n",
       "      <td>2275.25</td>\n",
       "      <td>MO - Springfield</td>\n",
       "      <td>Level 3 Musculoskeletal Procedures</td>\n",
       "    </tr>\n",
       "    <tr>\n",
       "      <th>4847</th>\n",
       "      <td>34260</td>\n",
       "      <td>5114</td>\n",
       "      <td>2288.29</td>\n",
       "      <td>2183.22</td>\n",
       "      <td>2078.14</td>\n",
       "      <td>4824.46</td>\n",
       "      <td>4824.46</td>\n",
       "      <td>4824.46</td>\n",
       "      <td>MO - Springfield</td>\n",
       "      <td>Level 4 Musculoskeletal Procedures</td>\n",
       "    </tr>\n",
       "    <tr>\n",
       "      <th>4848</th>\n",
       "      <td>34260</td>\n",
       "      <td>5431</td>\n",
       "      <td>668.70</td>\n",
       "      <td>644.60</td>\n",
       "      <td>620.49</td>\n",
       "      <td>1454.97</td>\n",
       "      <td>1454.97</td>\n",
       "      <td>1454.97</td>\n",
       "      <td>MO - Springfield</td>\n",
       "      <td>Level 1 Nerve Procedures</td>\n",
       "    </tr>\n",
       "    <tr>\n",
       "      <th>4849</th>\n",
       "      <td>34260</td>\n",
       "      <td>5112</td>\n",
       "      <td>500.54</td>\n",
       "      <td>439.37</td>\n",
       "      <td>378.19</td>\n",
       "      <td>1085.76</td>\n",
       "      <td>1085.76</td>\n",
       "      <td>1085.76</td>\n",
       "      <td>MO - Springfield</td>\n",
       "      <td>Level 2 Musculoskeletal Procedures</td>\n",
       "    </tr>\n",
       "  </tbody>\n",
       "</table>\n",
       "<p>4850 rows × 10 columns</p>\n",
       "</div>"
      ],
      "text/plain": [
       "       cbsa   apc  office_max  office_avg  office_min  hosp_max  hosp_avg  \\\n",
       "0     27740  5113     1050.94      772.29      597.59   1906.12   1906.12   \n",
       "1     27740  5114     2211.67     2211.67     2211.67   4285.93   4207.59   \n",
       "2     27740  5464    19140.93    19140.93    19140.93  21335.92  21335.92   \n",
       "3     27740  5491      837.80      825.64      812.00   1497.46   1497.46   \n",
       "4     27740  5073      889.35      889.35      889.35   1764.02   1764.02   \n",
       "...     ...   ...         ...         ...         ...       ...       ...   \n",
       "4845  21820  5491     1010.83     1005.72     1000.62   2212.06   2212.06   \n",
       "4846  34260  5113     1052.65      852.70      596.51   2275.25   2275.25   \n",
       "4847  34260  5114     2288.29     2183.22     2078.14   4824.46   4824.46   \n",
       "4848  34260  5431      668.70      644.60      620.49   1454.97   1454.97   \n",
       "4849  34260  5112      500.54      439.37      378.19   1085.76   1085.76   \n",
       "\n",
       "      hosp_min             region  \\\n",
       "0      1906.12  TN - Johnson City   \n",
       "1      4129.25  TN - Johnson City   \n",
       "2     21335.92  TN - Johnson City   \n",
       "3      1497.46  TN - Johnson City   \n",
       "4      1764.02  TN - Johnson City   \n",
       "...        ...                ...   \n",
       "4845   2212.06     AK - Anchorage   \n",
       "4846   2275.25   MO - Springfield   \n",
       "4847   4824.46   MO - Springfield   \n",
       "4848   1454.97   MO - Springfield   \n",
       "4849   1085.76   MO - Springfield   \n",
       "\n",
       "                                          description  \n",
       "0                  Level 3 Musculoskeletal Procedures  \n",
       "1                  Level 4 Musculoskeletal Procedures  \n",
       "2      Level 4 Neurostimulator and Related Procedures  \n",
       "3                      Level 1 Intraocular Procedures  \n",
       "4     Level 3 Excision/ Biopsy/ Incision and Drainage  \n",
       "...                                               ...  \n",
       "4845                   Level 1 Intraocular Procedures  \n",
       "4846               Level 3 Musculoskeletal Procedures  \n",
       "4847               Level 4 Musculoskeletal Procedures  \n",
       "4848                         Level 1 Nerve Procedures  \n",
       "4849               Level 2 Musculoskeletal Procedures  \n",
       "\n",
       "[4850 rows x 10 columns]"
      ]
     },
     "execution_count": 268,
     "metadata": {},
     "output_type": "execute_result"
    }
   ],
   "source": [
    "hosp_office_data"
   ]
  },
  {
   "cell_type": "code",
   "execution_count": 96,
   "metadata": {
    "scrolled": true
   },
   "outputs": [
    {
     "name": "stdout",
     "output_type": "stream",
     "text": [
      "Region =  AL - Dothan\n",
      "Procedure =  Level 2 Excision/ Biopsy/ Incision and Drainage\n",
      "\n",
      "Max =  1102.92\n",
      "Mean =  1028.73\n",
      "Min =  986.77\n"
     ]
    }
   ],
   "source": [
    "# Selcting a cbsa and a apc and returing the max, mean, and min values for those selections.\n",
    "\n",
    "selection = hosp_payments_cbsa[(hosp_payments_cbsa['cbsa'] == 20020) & (hosp_payments_cbsa['apc'] == 5072)]\n",
    "max_value = round(selection.avg_medi_allowed_amt.max(), 2)\n",
    "avg_value = round(selection.avg_medi_allowed_amt.mean(), 2)\n",
    "min_value = round(selection.avg_medi_allowed_amt.min(), 2)\n",
    "\n",
    "print('Region = ', selection['region'][0])\n",
    "print('Procedure = ', selection['description'][0])\n",
    "print()\n",
    "print('Max = ', max_value)\n",
    "print('Mean = ', avg_value)\n",
    "print('Min = ', min_value)"
   ]
  }
 ],
 "metadata": {
  "kernelspec": {
   "display_name": "Python 3",
   "language": "python",
   "name": "python3"
  },
  "language_info": {
   "codemirror_mode": {
    "name": "ipython",
    "version": 3
   },
   "file_extension": ".py",
   "mimetype": "text/x-python",
   "name": "python",
   "nbconvert_exporter": "python",
   "pygments_lexer": "ipython3",
   "version": "3.7.6"
  }
 },
 "nbformat": 4,
 "nbformat_minor": 4
}
