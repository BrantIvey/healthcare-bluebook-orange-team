{
 "cells": [
  {
   "cell_type": "markdown",
   "metadata": {},
   "source": [
    "Data from:\n",
    "\n",
    "Physician & Other Supplier Payments - Detailed Data https://www.cms.gov/Research-Statistics-Data-and-Systems/Statistics-Trends-and-Reports/Medicare-Provider-Charge-Data/Physician-and-Other-Supplier2017\n",
    "\n",
    "Zip Code to CBSA https://www.huduser.gov/portal/datasets/usps_crosswalk.html![image.png](attachment:image.png)\n",
    "\n",
    "Population data https://www.census.gov/data/tables/time-series/demo/popest/2010s-total-metro-and-micro-statistical-areas.html#par_textimage"
   ]
  },
  {
   "cell_type": "code",
   "execution_count": 1,
   "metadata": {},
   "outputs": [],
   "source": [
    "import pandas as pd\n",
    "import numpy as np\n",
    "import matplotlib.pyplot as plt\n",
    "import seaborn as sns"
   ]
  },
  {
   "cell_type": "code",
   "execution_count": 2,
   "metadata": {},
   "outputs": [],
   "source": [
    "%matplotlib inline"
   ]
  },
  {
   "cell_type": "code",
   "execution_count": 3,
   "metadata": {},
   "outputs": [],
   "source": [
    "pd.options.display.max_columns = 25\n",
    "\n",
    "pd.options.display.max_rows = 100"
   ]
  },
  {
   "cell_type": "code",
   "execution_count": 4,
   "metadata": {},
   "outputs": [],
   "source": [
    "# Reading in the CBSA to ZIP code crosswalk\n",
    "\n",
    "cbsa_to_zip = pd.read_excel('../data/CBSA_ZIP_032020.xlsx', \n",
    "                            usecols = ['CBSA', 'ZIP'],\n",
    "                            dtypes={'ZIP':'str'})"
   ]
  },
  {
   "cell_type": "code",
   "execution_count": 5,
   "metadata": {},
   "outputs": [],
   "source": [
    "#Reading in the Physician & Other Supplier Payments while discarding some columns\n",
    "\n",
    "phys_other_payments = pd.read_csv('../data/Medicare_Provider_Util_Payment_PUF_CY2017/Medicare_Provider_Util_Payment_PUF_CY2017.txt', \n",
    "    sep='\\t', \n",
    "    skiprows = [1], \n",
    "    usecols = lambda column : column not in ['average_submitted_chrg_amt', \n",
    "                                             'average_Medicare_payment_amt', \n",
    "                                             'average_Medicare_standard_amt', \n",
    "                                             'hcpcs_drug_indicator', \n",
    "                                             'medicare_participation_indicator'], \n",
    "    dtype = {'nppes_provider_zip':'str'},\n",
    "    low_memory=False)"
   ]
  },
  {
   "cell_type": "code",
   "execution_count": 6,
   "metadata": {},
   "outputs": [],
   "source": [
    "cbsa_population = pd.read_csv('..\\data\\csa-est2019-alldata.csv', engine = 'python', \n",
    "           usecols = ['CBSA', 'LSAD', 'NAME', 'POPESTIMATE2017'])\n"
   ]
  },
  {
   "cell_type": "code",
   "execution_count": 7,
   "metadata": {},
   "outputs": [],
   "source": [
    "cbsa_to_zip.columns = ['cbsa', 'zip']\n",
    "phys_other_payments.columns = ['npi', \n",
    "                               'last_org_name', \n",
    "                               'first_name', \n",
    "                               'mi', \n",
    "                               'creds', \n",
    "                               'gender', \n",
    "                               'entity', \n",
    "                               'street1', \n",
    "                               'street2' , \n",
    "                               'city', \n",
    "                               'zip',\n",
    "                               'state', \n",
    "                               'country', \n",
    "                               'provider_type', \n",
    "                               'service_loc', \n",
    "                               'hcpcs', \n",
    "                               'description', \n",
    "                               'services_cnt', \n",
    "                               'benefic_cnt', \n",
    "                               'benefic_d_cnt', \n",
    "                               'avg_medi_allowed_amt']\n",
    "cbsa_population.columns = ['cbsa', 'lsad', 'name', 'pop2017']"
   ]
  },
  {
   "cell_type": "code",
   "execution_count": 8,
   "metadata": {},
   "outputs": [],
   "source": [
    "cbsa_population = cbsa_population[cbsa_population['lsad'] != 'County or equivalent']"
   ]
  },
  {
   "cell_type": "code",
   "execution_count": 9,
   "metadata": {},
   "outputs": [],
   "source": [
    "cbsa_population = cbsa_population.dropna(subset = ['cbsa'])"
   ]
  },
  {
   "cell_type": "code",
   "execution_count": 10,
   "metadata": {
    "scrolled": true
   },
   "outputs": [],
   "source": [
    "cbsa_population['cbsa'] = cbsa_population['cbsa'].astype('int')"
   ]
  },
  {
   "cell_type": "code",
   "execution_count": 11,
   "metadata": {},
   "outputs": [],
   "source": [
    "cbsa_pop_sum = cbsa_population.groupby(['cbsa'])[['pop2017']].sum()"
   ]
  },
  {
   "cell_type": "code",
   "execution_count": 12,
   "metadata": {},
   "outputs": [],
   "source": [
    "# Dropping non US\n",
    "\n",
    "phys_other_payments = phys_other_payments[phys_other_payments.country == 'US']"
   ]
  },
  {
   "cell_type": "code",
   "execution_count": 13,
   "metadata": {},
   "outputs": [],
   "source": [
    "# Removing trailing zip digits\n",
    "\n",
    "phys_other_payments['zip'] = phys_other_payments['zip'].str[:5]"
   ]
  },
  {
   "cell_type": "code",
   "execution_count": 14,
   "metadata": {},
   "outputs": [],
   "source": [
    "# Putting leading zero back on zips\n",
    "\n",
    "cbsa_to_zip['zip'] = cbsa_to_zip['zip'].apply(lambda x: '{0:0>5}'.format(x))"
   ]
  },
  {
   "cell_type": "code",
   "execution_count": 15,
   "metadata": {},
   "outputs": [],
   "source": [
    "phys_office = phys_other_payments[phys_other_payments['service_loc'] == 'O']"
   ]
  },
  {
   "cell_type": "code",
   "execution_count": 16,
   "metadata": {},
   "outputs": [],
   "source": [
    "phys_office_tn = phys_office[phys_office['state'] == 'TN']"
   ]
  },
  {
   "cell_type": "code",
   "execution_count": 17,
   "metadata": {},
   "outputs": [],
   "source": [
    "# Merging CBSA to Zip in physcian billing data\n",
    "\n",
    "phys_tn_cbsa = pd.merge(phys_office_tn, cbsa_to_zip, how='left', on = ['zip'])"
   ]
  },
  {
   "cell_type": "code",
   "execution_count": 18,
   "metadata": {},
   "outputs": [],
   "source": [
    "phys_tn_cbsa = phys_tn_cbsa.dropna(subset = ['cbsa'])"
   ]
  },
  {
   "cell_type": "code",
   "execution_count": 19,
   "metadata": {
    "scrolled": true
   },
   "outputs": [],
   "source": [
    "phys_tn_cbsa['cbsa'] = phys_tn_cbsa['cbsa'].astype('int')"
   ]
  },
  {
   "cell_type": "code",
   "execution_count": 20,
   "metadata": {},
   "outputs": [],
   "source": [
    "# CBSA 99999 is an 'other' grouping. Discarding\n",
    "\n",
    "phys_tn_cbsa = phys_tn_cbsa[phys_tn_cbsa['cbsa'] != 99999]"
   ]
  },
  {
   "cell_type": "code",
   "execution_count": 21,
   "metadata": {},
   "outputs": [],
   "source": [
    "provider_cbsa_sum_visits_tn = phys_tn_cbsa.groupby(['provider_type', 'cbsa'])[['benefic_d_cnt']].sum()\n",
    "\n",
    "provider_cbsa_sum_visits_tn  = provider_cbsa_sum_visits_tn.reset_index()"
   ]
  },
  {
   "cell_type": "code",
   "execution_count": 22,
   "metadata": {},
   "outputs": [],
   "source": [
    "cbsa_provider_sum_visits_tn = phys_tn_cbsa.groupby(['cbsa', 'provider_type'])[['benefic_d_cnt']].sum()\n",
    "\n",
    "cbsa_provider_sum_visits_tn = cbsa_provider_sum_visits_tn.reset_index()"
   ]
  },
  {
   "cell_type": "code",
   "execution_count": 23,
   "metadata": {
    "scrolled": false
   },
   "outputs": [],
   "source": [
    "provider_cbsa_sum_visits_tn = pd.merge(provider_cbsa_sum_visits_tn, cbsa_pop_sum, how = 'left', on = ['cbsa'])"
   ]
  },
  {
   "cell_type": "code",
   "execution_count": 24,
   "metadata": {},
   "outputs": [],
   "source": [
    "cbsa_provider_sum_visits_tn = pd.merge(cbsa_provider_sum_visits_tn, cbsa_pop_sum, how = 'left', on = ['cbsa'])"
   ]
  },
  {
   "cell_type": "code",
   "execution_count": 25,
   "metadata": {},
   "outputs": [],
   "source": [
    "cbsa_population['state'] = cbsa_population['lsad'].str.split(',').str[1]"
   ]
  },
  {
   "cell_type": "code",
   "execution_count": 26,
   "metadata": {},
   "outputs": [],
   "source": [
    "cbsa_population['region'] = cbsa_population['lsad'].str.split(',').str[0]"
   ]
  },
  {
   "cell_type": "code",
   "execution_count": 27,
   "metadata": {},
   "outputs": [],
   "source": [
    "cbsa_population['state'] = cbsa_population['state'].str.strip()\n",
    "\n",
    "cbsa_population['region'] = cbsa_population['region'].str.strip()"
   ]
  },
  {
   "cell_type": "code",
   "execution_count": 28,
   "metadata": {},
   "outputs": [],
   "source": [
    "cbsa_region_state = cbsa_population.loc[:, ['cbsa', 'state', 'region']]"
   ]
  },
  {
   "cell_type": "code",
   "execution_count": 29,
   "metadata": {},
   "outputs": [],
   "source": [
    "cbsa_region_state = cbsa_region_state.drop_duplicates(subset = ['cbsa'])"
   ]
  },
  {
   "cell_type": "code",
   "execution_count": 30,
   "metadata": {},
   "outputs": [],
   "source": [
    "provider_cbsa_merge = pd.merge(provider_cbsa_sum_visits_tn, cbsa_region_state, how = 'left', on = ['cbsa'])"
   ]
  },
  {
   "cell_type": "code",
   "execution_count": 31,
   "metadata": {},
   "outputs": [],
   "source": [
    "cbsa_provider_merge = pd.merge(cbsa_provider_sum_visits_tn, cbsa_region_state, how = 'left', on = ['cbsa'])"
   ]
  },
  {
   "cell_type": "code",
   "execution_count": 32,
   "metadata": {},
   "outputs": [],
   "source": [
    "cbsa_provider_merge['cnt_per_1kcapita'] = cbsa_provider_merge['benefic_d_cnt']/cbsa_provider_merge['pop2017']*1000"
   ]
  },
  {
   "cell_type": "code",
   "execution_count": 33,
   "metadata": {},
   "outputs": [],
   "source": [
    "provider_cbsa_merge['cnt_per_1kcapita'] = provider_cbsa_merge['benefic_d_cnt']/provider_cbsa_merge['pop2017']*1000"
   ]
  },
  {
   "cell_type": "code",
   "execution_count": 34,
   "metadata": {},
   "outputs": [],
   "source": [
    "cbsa_provider_merge = cbsa_provider_merge.dropna(subset = ['state'])\n",
    "\n",
    "provider_cbsa_merge = provider_cbsa_merge.dropna(subset = ['state'])"
   ]
  },
  {
   "cell_type": "code",
   "execution_count": 40,
   "metadata": {
    "scrolled": true
   },
   "outputs": [
    {
     "data": {
      "text/plain": [
       "array(['TN', 'TN-MS-AR', 'TN-GA', 'TN-VA', 'TX', 'UT', 'CT', 'FL'],\n",
       "      dtype=object)"
      ]
     },
     "execution_count": 40,
     "metadata": {},
     "output_type": "execute_result"
    }
   ],
   "source": [
    "provider_cbsa_merge.state.unique()"
   ]
  },
  {
   "cell_type": "code",
   "execution_count": 38,
   "metadata": {},
   "outputs": [],
   "source": [
    "cbsa_provider_merge = cbsa_provider_merge[cbsa_provider_merge['state'] != 'CT']\n",
    "\n",
    "cbsa_provider_merge = cbsa_provider_merge[cbsa_provider_merge['state'] != 'UT']\n",
    "\n",
    "cbsa_provider_merge = cbsa_provider_merge[cbsa_provider_merge['state'] != 'FL']\n",
    "\n",
    "cbsa_provider_merge = cbsa_provider_merge[cbsa_provider_merge['state'] != 'TX']"
   ]
  },
  {
   "cell_type": "code",
   "execution_count": 41,
   "metadata": {},
   "outputs": [],
   "source": [
    "provider_cbsa_merge = provider_cbsa_merge[provider_cbsa_merge['state'] != 'CT']\n",
    "\n",
    "provider_cbsa_merge = provider_cbsa_merge[provider_cbsa_merge['state'] != 'UT']\n",
    "\n",
    "provider_cbsa_merge = provider_cbsa_merge[provider_cbsa_merge['state'] != 'FL']\n",
    "\n",
    "provider_cbsa_merge = provider_cbsa_merge[provider_cbsa_merge['state'] != 'TX']"
   ]
  },
  {
   "cell_type": "code",
   "execution_count": 44,
   "metadata": {},
   "outputs": [],
   "source": [
    "cbsa_provider_merge.to_csv('../cbsa_provider.csv')"
   ]
  },
  {
   "cell_type": "code",
   "execution_count": 45,
   "metadata": {},
   "outputs": [],
   "source": [
    "provider_cbsa_merge.to_csv('../provider_cbsa.csv')"
   ]
  }
 ],
 "metadata": {
  "kernelspec": {
   "display_name": "Python 3",
   "language": "python",
   "name": "python3"
  },
  "language_info": {
   "codemirror_mode": {
    "name": "ipython",
    "version": 3
   },
   "file_extension": ".py",
   "mimetype": "text/x-python",
   "name": "python",
   "nbconvert_exporter": "python",
   "pygments_lexer": "ipython3",
   "version": "3.7.6"
  }
 },
 "nbformat": 4,
 "nbformat_minor": 4
}
